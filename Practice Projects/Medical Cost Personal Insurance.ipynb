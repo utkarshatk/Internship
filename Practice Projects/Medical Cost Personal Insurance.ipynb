{
 "cells": [
  {
   "cell_type": "markdown",
   "id": "670bcb28",
   "metadata": {},
   "source": [
    "# Medical Cost Insurance\n"
   ]
  },
  {
   "cell_type": "markdown",
   "id": "6b5b2fe8",
   "metadata": {},
   "source": [
    "### Linear Regression Model"
   ]
  },
  {
   "cell_type": "code",
   "execution_count": 1,
   "id": "20d1651c",
   "metadata": {},
   "outputs": [],
   "source": [
    "#lets import necessary library\n",
    "import pandas as pd\n",
    "import numpy as np\n",
    "import matplotlib.pyplot as plt\n",
    "import seaborn as sns\n",
    "import pickle\n",
    "from sklearn.preprocessing import StandardScaler\n",
    "from sklearn.linear_model import LinearRegression\n",
    "from sklearn.model_selection import train_test_split\n",
    "\n",
    "import warnings\n",
    "warnings.filterwarnings('ignore')"
   ]
  },
  {
   "cell_type": "code",
   "execution_count": 2,
   "id": "0bb9ac0c",
   "metadata": {},
   "outputs": [
    {
     "data": {
      "text/html": [
       "<div>\n",
       "<style scoped>\n",
       "    .dataframe tbody tr th:only-of-type {\n",
       "        vertical-align: middle;\n",
       "    }\n",
       "\n",
       "    .dataframe tbody tr th {\n",
       "        vertical-align: top;\n",
       "    }\n",
       "\n",
       "    .dataframe thead th {\n",
       "        text-align: right;\n",
       "    }\n",
       "</style>\n",
       "<table border=\"1\" class=\"dataframe\">\n",
       "  <thead>\n",
       "    <tr style=\"text-align: right;\">\n",
       "      <th></th>\n",
       "      <th>age</th>\n",
       "      <th>sex</th>\n",
       "      <th>bmi</th>\n",
       "      <th>children</th>\n",
       "      <th>smoker</th>\n",
       "      <th>region</th>\n",
       "      <th>charges</th>\n",
       "    </tr>\n",
       "  </thead>\n",
       "  <tbody>\n",
       "    <tr>\n",
       "      <th>0</th>\n",
       "      <td>19</td>\n",
       "      <td>female</td>\n",
       "      <td>27.900</td>\n",
       "      <td>0</td>\n",
       "      <td>yes</td>\n",
       "      <td>southwest</td>\n",
       "      <td>16884.92400</td>\n",
       "    </tr>\n",
       "    <tr>\n",
       "      <th>1</th>\n",
       "      <td>18</td>\n",
       "      <td>male</td>\n",
       "      <td>33.770</td>\n",
       "      <td>1</td>\n",
       "      <td>no</td>\n",
       "      <td>southeast</td>\n",
       "      <td>1725.55230</td>\n",
       "    </tr>\n",
       "    <tr>\n",
       "      <th>2</th>\n",
       "      <td>28</td>\n",
       "      <td>male</td>\n",
       "      <td>33.000</td>\n",
       "      <td>3</td>\n",
       "      <td>no</td>\n",
       "      <td>southeast</td>\n",
       "      <td>4449.46200</td>\n",
       "    </tr>\n",
       "    <tr>\n",
       "      <th>3</th>\n",
       "      <td>33</td>\n",
       "      <td>male</td>\n",
       "      <td>22.705</td>\n",
       "      <td>0</td>\n",
       "      <td>no</td>\n",
       "      <td>northwest</td>\n",
       "      <td>21984.47061</td>\n",
       "    </tr>\n",
       "    <tr>\n",
       "      <th>4</th>\n",
       "      <td>32</td>\n",
       "      <td>male</td>\n",
       "      <td>28.880</td>\n",
       "      <td>0</td>\n",
       "      <td>no</td>\n",
       "      <td>northwest</td>\n",
       "      <td>3866.85520</td>\n",
       "    </tr>\n",
       "  </tbody>\n",
       "</table>\n",
       "</div>"
      ],
      "text/plain": [
       "   age     sex     bmi  children smoker     region      charges\n",
       "0   19  female  27.900         0    yes  southwest  16884.92400\n",
       "1   18    male  33.770         1     no  southeast   1725.55230\n",
       "2   28    male  33.000         3     no  southeast   4449.46200\n",
       "3   33    male  22.705         0     no  northwest  21984.47061\n",
       "4   32    male  28.880         0     no  northwest   3866.85520"
      ]
     },
     "execution_count": 2,
     "metadata": {},
     "output_type": "execute_result"
    }
   ],
   "source": [
    "#read csv file\n",
    "data = pd.read_csv('medical_cost_insurance.csv')\n",
    "data.head()"
   ]
  },
  {
   "cell_type": "code",
   "execution_count": 3,
   "id": "b791ff13",
   "metadata": {},
   "outputs": [
    {
     "data": {
      "text/plain": [
       "(1338, 7)"
      ]
     },
     "execution_count": 3,
     "metadata": {},
     "output_type": "execute_result"
    }
   ],
   "source": [
    "data.shape"
   ]
  },
  {
   "cell_type": "code",
   "execution_count": 4,
   "id": "6def05e0",
   "metadata": {},
   "outputs": [],
   "source": [
    "#replacing 3 to 0\n",
    "data['sex']=data['sex'].replace('male',1)\n",
    "\n",
    "#replacing 3 to 0\n",
    "data['sex']=data['sex'].replace('female',0)"
   ]
  },
  {
   "cell_type": "code",
   "execution_count": 5,
   "id": "1927fd7b",
   "metadata": {},
   "outputs": [],
   "source": [
    "#replacing 3 to 0\n",
    "data['smoker']=data['smoker'].replace('no',1)\n",
    "#replacing 3 to 0\n",
    "data['smoker']=data['smoker'].replace('yes',0)"
   ]
  },
  {
   "cell_type": "code",
   "execution_count": 6,
   "id": "a20cbe87",
   "metadata": {},
   "outputs": [
    {
     "data": {
      "text/html": [
       "<div>\n",
       "<style scoped>\n",
       "    .dataframe tbody tr th:only-of-type {\n",
       "        vertical-align: middle;\n",
       "    }\n",
       "\n",
       "    .dataframe tbody tr th {\n",
       "        vertical-align: top;\n",
       "    }\n",
       "\n",
       "    .dataframe thead th {\n",
       "        text-align: right;\n",
       "    }\n",
       "</style>\n",
       "<table border=\"1\" class=\"dataframe\">\n",
       "  <thead>\n",
       "    <tr style=\"text-align: right;\">\n",
       "      <th></th>\n",
       "      <th>age</th>\n",
       "      <th>sex</th>\n",
       "      <th>bmi</th>\n",
       "      <th>children</th>\n",
       "      <th>smoker</th>\n",
       "      <th>charges</th>\n",
       "    </tr>\n",
       "  </thead>\n",
       "  <tbody>\n",
       "    <tr>\n",
       "      <th>count</th>\n",
       "      <td>1338.000000</td>\n",
       "      <td>1338.000000</td>\n",
       "      <td>1338.000000</td>\n",
       "      <td>1338.000000</td>\n",
       "      <td>1338.000000</td>\n",
       "      <td>1338.000000</td>\n",
       "    </tr>\n",
       "    <tr>\n",
       "      <th>mean</th>\n",
       "      <td>39.207025</td>\n",
       "      <td>0.505232</td>\n",
       "      <td>30.663397</td>\n",
       "      <td>1.094918</td>\n",
       "      <td>0.795217</td>\n",
       "      <td>13270.422265</td>\n",
       "    </tr>\n",
       "    <tr>\n",
       "      <th>std</th>\n",
       "      <td>14.049960</td>\n",
       "      <td>0.500160</td>\n",
       "      <td>6.098187</td>\n",
       "      <td>1.205493</td>\n",
       "      <td>0.403694</td>\n",
       "      <td>12110.011237</td>\n",
       "    </tr>\n",
       "    <tr>\n",
       "      <th>min</th>\n",
       "      <td>18.000000</td>\n",
       "      <td>0.000000</td>\n",
       "      <td>15.960000</td>\n",
       "      <td>0.000000</td>\n",
       "      <td>0.000000</td>\n",
       "      <td>1121.873900</td>\n",
       "    </tr>\n",
       "    <tr>\n",
       "      <th>25%</th>\n",
       "      <td>27.000000</td>\n",
       "      <td>0.000000</td>\n",
       "      <td>26.296250</td>\n",
       "      <td>0.000000</td>\n",
       "      <td>1.000000</td>\n",
       "      <td>4740.287150</td>\n",
       "    </tr>\n",
       "    <tr>\n",
       "      <th>50%</th>\n",
       "      <td>39.000000</td>\n",
       "      <td>1.000000</td>\n",
       "      <td>30.400000</td>\n",
       "      <td>1.000000</td>\n",
       "      <td>1.000000</td>\n",
       "      <td>9382.033000</td>\n",
       "    </tr>\n",
       "    <tr>\n",
       "      <th>75%</th>\n",
       "      <td>51.000000</td>\n",
       "      <td>1.000000</td>\n",
       "      <td>34.693750</td>\n",
       "      <td>2.000000</td>\n",
       "      <td>1.000000</td>\n",
       "      <td>16639.912515</td>\n",
       "    </tr>\n",
       "    <tr>\n",
       "      <th>max</th>\n",
       "      <td>64.000000</td>\n",
       "      <td>1.000000</td>\n",
       "      <td>53.130000</td>\n",
       "      <td>5.000000</td>\n",
       "      <td>1.000000</td>\n",
       "      <td>63770.428010</td>\n",
       "    </tr>\n",
       "  </tbody>\n",
       "</table>\n",
       "</div>"
      ],
      "text/plain": [
       "               age          sex          bmi     children       smoker  \\\n",
       "count  1338.000000  1338.000000  1338.000000  1338.000000  1338.000000   \n",
       "mean     39.207025     0.505232    30.663397     1.094918     0.795217   \n",
       "std      14.049960     0.500160     6.098187     1.205493     0.403694   \n",
       "min      18.000000     0.000000    15.960000     0.000000     0.000000   \n",
       "25%      27.000000     0.000000    26.296250     0.000000     1.000000   \n",
       "50%      39.000000     1.000000    30.400000     1.000000     1.000000   \n",
       "75%      51.000000     1.000000    34.693750     2.000000     1.000000   \n",
       "max      64.000000     1.000000    53.130000     5.000000     1.000000   \n",
       "\n",
       "            charges  \n",
       "count   1338.000000  \n",
       "mean   13270.422265  \n",
       "std    12110.011237  \n",
       "min     1121.873900  \n",
       "25%     4740.287150  \n",
       "50%     9382.033000  \n",
       "75%    16639.912515  \n",
       "max    63770.428010  "
      ]
     },
     "execution_count": 6,
     "metadata": {},
     "output_type": "execute_result"
    }
   ],
   "source": [
    "data.describe() #understand data at high level check the statistic of dataset "
   ]
  },
  {
   "cell_type": "code",
   "execution_count": 7,
   "id": "8a337bb1",
   "metadata": {},
   "outputs": [
    {
     "data": {
      "image/png": "[encoded data removed]",
      "text/plain": [
       "<Figure size 1440x360 with 2 Axes>"
      ]
     },
     "metadata": {
      "needs_background": "light"
     },
     "output_type": "display_data"
    }
   ],
   "source": [
    "# check in graph and see outlier and skewness for only continuous data\n",
    "plt.figure(figsize=(20,5))\n",
    "plotnumber = 1\n",
    "\n",
    "for column in data[['age','bmi']]:\n",
    "    if plotnumber <= 3 :\n",
    "        ax = plt.subplot(1,3,plotnumber)\n",
    "        sns.distplot(data[column])\n",
    "        plt.xlabel(column,fontsize = 20)\n",
    "        \n",
    "    plotnumber += 1\n",
    "plt.show()"
   ]
  },
  {
   "cell_type": "code",
   "execution_count": 8,
   "id": "810b41ba",
   "metadata": {},
   "outputs": [],
   "source": [
    "#so i observe some skewness in data \n",
    "# we will go with 3 std\n",
    "# from scipy import stats\n",
    "\n",
    "from scipy.stats import zscore\n"
   ]
  },
  {
   "cell_type": "code",
   "execution_count": 9,
   "id": "eeb8e85e",
   "metadata": {},
   "outputs": [
    {
     "data": {
      "text/html": [
       "<div>\n",
       "<style scoped>\n",
       "    .dataframe tbody tr th:only-of-type {\n",
       "        vertical-align: middle;\n",
       "    }\n",
       "\n",
       "    .dataframe tbody tr th {\n",
       "        vertical-align: top;\n",
       "    }\n",
       "\n",
       "    .dataframe thead th {\n",
       "        text-align: right;\n",
       "    }\n",
       "</style>\n",
       "<table border=\"1\" class=\"dataframe\">\n",
       "  <thead>\n",
       "    <tr style=\"text-align: right;\">\n",
       "      <th></th>\n",
       "      <th>age</th>\n",
       "      <th>sex</th>\n",
       "      <th>bmi</th>\n",
       "      <th>children</th>\n",
       "      <th>smoker</th>\n",
       "      <th>charges</th>\n",
       "    </tr>\n",
       "  </thead>\n",
       "  <tbody>\n",
       "    <tr>\n",
       "      <th>count</th>\n",
       "      <td>1334.000000</td>\n",
       "      <td>1334.000000</td>\n",
       "      <td>1334.000000</td>\n",
       "      <td>1334.000000</td>\n",
       "      <td>1334.000000</td>\n",
       "      <td>1334.000000</td>\n",
       "    </tr>\n",
       "    <tr>\n",
       "      <th>mean</th>\n",
       "      <td>39.233883</td>\n",
       "      <td>0.503748</td>\n",
       "      <td>30.601555</td>\n",
       "      <td>1.096702</td>\n",
       "      <td>0.795352</td>\n",
       "      <td>13265.622751</td>\n",
       "    </tr>\n",
       "    <tr>\n",
       "      <th>std</th>\n",
       "      <td>14.034654</td>\n",
       "      <td>0.500173</td>\n",
       "      <td>6.000927</td>\n",
       "      <td>1.206548</td>\n",
       "      <td>0.403595</td>\n",
       "      <td>12089.666548</td>\n",
       "    </tr>\n",
       "    <tr>\n",
       "      <th>min</th>\n",
       "      <td>18.000000</td>\n",
       "      <td>0.000000</td>\n",
       "      <td>15.960000</td>\n",
       "      <td>0.000000</td>\n",
       "      <td>0.000000</td>\n",
       "      <td>1121.873900</td>\n",
       "    </tr>\n",
       "    <tr>\n",
       "      <th>25%</th>\n",
       "      <td>27.000000</td>\n",
       "      <td>0.000000</td>\n",
       "      <td>26.237500</td>\n",
       "      <td>0.000000</td>\n",
       "      <td>1.000000</td>\n",
       "      <td>4746.521225</td>\n",
       "    </tr>\n",
       "    <tr>\n",
       "      <th>50%</th>\n",
       "      <td>39.000000</td>\n",
       "      <td>1.000000</td>\n",
       "      <td>30.332500</td>\n",
       "      <td>1.000000</td>\n",
       "      <td>1.000000</td>\n",
       "      <td>9382.033000</td>\n",
       "    </tr>\n",
       "    <tr>\n",
       "      <th>75%</th>\n",
       "      <td>51.000000</td>\n",
       "      <td>1.000000</td>\n",
       "      <td>34.595000</td>\n",
       "      <td>2.000000</td>\n",
       "      <td>1.000000</td>\n",
       "      <td>16639.912515</td>\n",
       "    </tr>\n",
       "    <tr>\n",
       "      <th>max</th>\n",
       "      <td>64.000000</td>\n",
       "      <td>1.000000</td>\n",
       "      <td>48.070000</td>\n",
       "      <td>5.000000</td>\n",
       "      <td>1.000000</td>\n",
       "      <td>63770.428010</td>\n",
       "    </tr>\n",
       "  </tbody>\n",
       "</table>\n",
       "</div>"
      ],
      "text/plain": [
       "               age          sex          bmi     children       smoker  \\\n",
       "count  1334.000000  1334.000000  1334.000000  1334.000000  1334.000000   \n",
       "mean     39.233883     0.503748    30.601555     1.096702     0.795352   \n",
       "std      14.034654     0.500173     6.000927     1.206548     0.403595   \n",
       "min      18.000000     0.000000    15.960000     0.000000     0.000000   \n",
       "25%      27.000000     0.000000    26.237500     0.000000     1.000000   \n",
       "50%      39.000000     1.000000    30.332500     1.000000     1.000000   \n",
       "75%      51.000000     1.000000    34.595000     2.000000     1.000000   \n",
       "max      64.000000     1.000000    48.070000     5.000000     1.000000   \n",
       "\n",
       "            charges  \n",
       "count   1334.000000  \n",
       "mean   13265.622751  \n",
       "std    12089.666548  \n",
       "min     1121.873900  \n",
       "25%     4746.521225  \n",
       "50%     9382.033000  \n",
       "75%    16639.912515  \n",
       "max    63770.428010  "
      ]
     },
     "execution_count": 9,
     "metadata": {},
     "output_type": "execute_result"
    }
   ],
   "source": [
    "# new code for deleting outlier here we take std = 3\n",
    "z_score = zscore(data[['age','bmi']])\n",
    "abs_z_score = np.abs(z_score)\n",
    "\n",
    "filtering_entry = (abs_z_score < 3 ).all(axis=1)\n",
    "\n",
    "data = data[filtering_entry]\n",
    "\n",
    "data.describe()"
   ]
  },
  {
   "cell_type": "code",
   "execution_count": 10,
   "id": "78dc6a90",
   "metadata": {},
   "outputs": [
    {
     "data": {
      "text/plain": [
       "(1334, 7)"
      ]
     },
     "execution_count": 10,
     "metadata": {},
     "output_type": "execute_result"
    }
   ],
   "source": [
    "#so some data got deleted \n",
    "data.shape"
   ]
  },
  {
   "cell_type": "code",
   "execution_count": 11,
   "id": "4144a38d",
   "metadata": {},
   "outputs": [],
   "source": [
    "# seperating feature and label and also deleting unwanted column region\n",
    "X = data.drop(['charges','region'],axis = 1)\n",
    "y = data['charges']"
   ]
  },
  {
   "cell_type": "code",
   "execution_count": 12,
   "id": "d774793b",
   "metadata": {},
   "outputs": [],
   "source": [
    "#scale our data using standard sclar\n",
    "\n",
    "scalar = StandardScaler()\n",
    "X_scaled=scalar.fit_transform(X)"
   ]
  },
  {
   "cell_type": "code",
   "execution_count": 13,
   "id": "11ea25d2",
   "metadata": {},
   "outputs": [
    {
     "name": "stdout",
     "output_type": "stream",
     "text": [
      "Training Score 0.7522215448616731 RandomState 0\n",
      "Testing Score 0.7379567602286925 RandomState 0\n",
      "\n",
      "\n",
      "MAXINING TESTING SCORE 0.7379567602286925 ON RANDOM STATE OF 0\n",
      "Training Score 0.7489947861215044 RandomState 1\n",
      "Testing Score 0.750729652365421 RandomState 1\n",
      "\n",
      "\n",
      "MAXINING TESTING SCORE 0.750729652365421 ON RANDOM STATE OF 1\n",
      "Training Score 0.7497496337258938 RandomState 2\n",
      "Testing Score 0.7462623572423263 RandomState 2\n",
      "\n",
      "\n",
      "Training Score 0.7540007683394684 RandomState 3\n",
      "Testing Score 0.7345948215285643 RandomState 3\n",
      "\n",
      "\n",
      "Training Score 0.7520061659782832 RandomState 4\n",
      "Testing Score 0.7370640101044196 RandomState 4\n",
      "\n",
      "\n",
      "Training Score 0.7613072488745806 RandomState 5\n",
      "Testing Score 0.7076870079305763 RandomState 5\n",
      "\n",
      "\n",
      "Training Score 0.7520927335445735 RandomState 6\n",
      "Testing Score 0.7411728351580211 RandomState 6\n",
      "\n",
      "\n",
      "Training Score 0.7418106257134662 RandomState 7\n",
      "Testing Score 0.771843940317641 RandomState 7\n",
      "\n",
      "\n",
      "MAXINING TESTING SCORE 0.771843940317641 ON RANDOM STATE OF 7\n",
      "Training Score 0.7514553061962298 RandomState 8\n",
      "Testing Score 0.7419008438924526 RandomState 8\n",
      "\n",
      "\n",
      "Training Score 0.7513185013432587 RandomState 9\n",
      "Testing Score 0.7431000239936499 RandomState 9\n",
      "\n",
      "\n",
      "Training Score 0.7586767227869932 RandomState 10\n",
      "Testing Score 0.7200618650196475 RandomState 10\n",
      "\n",
      "\n",
      "Training Score 0.7480940202844237 RandomState 11\n",
      "Testing Score 0.7527110938969337 RandomState 11\n",
      "\n",
      "\n",
      "Training Score 0.7438342549122405 RandomState 12\n",
      "Testing Score 0.7653589212338119 RandomState 12\n",
      "\n",
      "\n",
      "Training Score 0.7499787133524188 RandomState 13\n",
      "Testing Score 0.745664328010508 RandomState 13\n",
      "\n",
      "\n",
      "Training Score 0.7563172791728656 RandomState 14\n",
      "Testing Score 0.7255003488988142 RandomState 14\n",
      "\n",
      "\n",
      "Training Score 0.7609010834364669 RandomState 15\n",
      "Testing Score 0.7094964720614907 RandomState 15\n",
      "\n",
      "\n",
      "Training Score 0.7514872900177905 RandomState 16\n",
      "Testing Score 0.7415947241987273 RandomState 16\n",
      "\n",
      "\n",
      "Training Score 0.7642587888454032 RandomState 17\n",
      "Testing Score 0.6962027126738897 RandomState 17\n",
      "\n",
      "\n",
      "Training Score 0.7604744189036654 RandomState 18\n",
      "Testing Score 0.7092907231227391 RandomState 18\n",
      "\n",
      "\n",
      "Training Score 0.7369568646072768 RandomState 19\n",
      "Testing Score 0.781736706476354 RandomState 19\n",
      "\n",
      "\n",
      "MAXINING TESTING SCORE 0.781736706476354 ON RANDOM STATE OF 19\n",
      "Training Score 0.7500734633986503 RandomState 20\n",
      "Testing Score 0.7457519272479949 RandomState 20\n",
      "\n",
      "\n",
      "Training Score 0.7508539744863795 RandomState 21\n",
      "Testing Score 0.7408477266684959 RandomState 21\n",
      "\n",
      "\n",
      "Training Score 0.7419106839547018 RandomState 22\n",
      "Testing Score 0.7651365062837185 RandomState 22\n",
      "\n",
      "\n",
      "Training Score 0.7611533974102702 RandomState 23\n",
      "Testing Score 0.711283137018279 RandomState 23\n",
      "\n",
      "\n",
      "Training Score 0.7511297274153985 RandomState 24\n",
      "Testing Score 0.7419577393132443 RandomState 24\n",
      "\n",
      "\n",
      "Training Score 0.752426173665551 RandomState 25\n",
      "Testing Score 0.7345425810586625 RandomState 25\n",
      "\n",
      "\n",
      "Training Score 0.7458370676826178 RandomState 26\n",
      "Testing Score 0.7579542444995058 RandomState 26\n",
      "\n",
      "\n",
      "Training Score 0.7545216798402772 RandomState 27\n",
      "Testing Score 0.7322604615314405 RandomState 27\n",
      "\n",
      "\n",
      "Training Score 0.7424795374314299 RandomState 28\n",
      "Testing Score 0.765982343940189 RandomState 28\n",
      "\n",
      "\n",
      "Training Score 0.7366487059728806 RandomState 29\n",
      "Testing Score 0.7823379497465713 RandomState 29\n",
      "\n",
      "\n",
      "MAXINING TESTING SCORE 0.7823379497465713 ON RANDOM STATE OF 29\n",
      "Training Score 0.7466502304245796 RandomState 30\n",
      "Testing Score 0.7539825221040244 RandomState 30\n",
      "\n",
      "\n",
      "Training Score 0.7391838888171651 RandomState 31\n",
      "Testing Score 0.7803417075449761 RandomState 31\n",
      "\n",
      "\n",
      "Training Score 0.7459113290419328 RandomState 32\n",
      "Testing Score 0.7572018716379512 RandomState 32\n",
      "\n",
      "\n",
      "Training Score 0.7614388751727176 RandomState 33\n",
      "Testing Score 0.7076767770494246 RandomState 33\n",
      "\n",
      "\n",
      "Training Score 0.7677553455672208 RandomState 34\n",
      "Testing Score 0.6757180389144648 RandomState 34\n",
      "\n",
      "\n",
      "Training Score 0.7374469154686853 RandomState 35\n",
      "Testing Score 0.7824911284998235 RandomState 35\n",
      "\n",
      "\n",
      "MAXINING TESTING SCORE 0.7824911284998235 ON RANDOM STATE OF 35\n",
      "Training Score 0.7483237804513543 RandomState 36\n",
      "Testing Score 0.7517192483420394 RandomState 36\n",
      "\n",
      "\n",
      "Training Score 0.7533450875872113 RandomState 37\n",
      "Testing Score 0.7373927578113286 RandomState 37\n",
      "\n",
      "\n",
      "Training Score 0.7544850981634926 RandomState 38\n",
      "Testing Score 0.729481268889661 RandomState 38\n",
      "\n",
      "\n",
      "Training Score 0.7427641096842659 RandomState 39\n",
      "Testing Score 0.7593115897762808 RandomState 39\n",
      "\n",
      "\n",
      "Training Score 0.7545844314299074 RandomState 40\n",
      "Testing Score 0.7318775031283276 RandomState 40\n",
      "\n",
      "\n",
      "Training Score 0.7514401079084265 RandomState 41\n",
      "Testing Score 0.738185000069173 RandomState 41\n",
      "\n",
      "\n",
      "Training Score 0.7372203849731198 RandomState 42\n",
      "Testing Score 0.7793621690763459 RandomState 42\n",
      "\n",
      "\n",
      "Training Score 0.7491363723974662 RandomState 43\n",
      "Testing Score 0.7494465232806456 RandomState 43\n",
      "\n",
      "\n",
      "Training Score 0.7548796888901314 RandomState 44\n",
      "Testing Score 0.7329067987089954 RandomState 44\n",
      "\n",
      "\n",
      "Training Score 0.7498397624456041 RandomState 45\n",
      "Testing Score 0.7457263976399913 RandomState 45\n",
      "\n",
      "\n",
      "Training Score 0.7473953280375736 RandomState 46\n",
      "Testing Score 0.7555134533282913 RandomState 46\n",
      "\n",
      "\n",
      "Training Score 0.7557249887617168 RandomState 47\n",
      "Testing Score 0.7275604151065085 RandomState 47\n",
      "\n",
      "\n",
      "Training Score 0.739895226005324 RandomState 48\n",
      "Testing Score 0.7759069374850519 RandomState 48\n",
      "\n",
      "\n",
      "Training Score 0.7543291840540333 RandomState 49\n",
      "Testing Score 0.7348371499462615 RandomState 49\n",
      "\n",
      "\n",
      "Training Score 0.751084359736821 RandomState 50\n",
      "Testing Score 0.7434092819818761 RandomState 50\n",
      "\n",
      "\n",
      "Training Score 0.731089371752587 RandomState 51\n",
      "Testing Score 0.7797373903969262 RandomState 51\n",
      "\n",
      "\n",
      "Training Score 0.7418078052859264 RandomState 52\n",
      "Testing Score 0.7726185830467797 RandomState 52\n",
      "\n",
      "\n",
      "Training Score 0.7399666257300895 RandomState 53\n",
      "Testing Score 0.7732455981741593 RandomState 53\n",
      "\n",
      "\n",
      "Training Score 0.7596874953220699 RandomState 54\n",
      "Testing Score 0.7171009812426407 RandomState 54\n",
      "\n",
      "\n",
      "Training Score 0.7454868983162981 RandomState 55\n",
      "Testing Score 0.7613005491527509 RandomState 55\n",
      "\n",
      "\n",
      "Training Score 0.7409210271295932 RandomState 56\n",
      "Testing Score 0.7734498932967315 RandomState 56\n",
      "\n",
      "\n",
      "Training Score 0.759953666658061 RandomState 57\n",
      "Testing Score 0.7126055024351948 RandomState 57\n",
      "\n",
      "\n",
      "Training Score 0.7565796418361217 RandomState 58\n",
      "Testing Score 0.7283380573685831 RandomState 58\n",
      "\n",
      "\n",
      "Training Score 0.7544201538569406 RandomState 59\n",
      "Testing Score 0.7339029177341312 RandomState 59\n",
      "\n",
      "\n",
      "Training Score 0.7511843614772545 RandomState 60\n",
      "Testing Score 0.7416308214252929 RandomState 60\n",
      "\n",
      "\n",
      "Training Score 0.7501729619639612 RandomState 61\n",
      "Testing Score 0.7444929137365004 RandomState 61\n",
      "\n",
      "\n",
      "Training Score 0.7566014019931059 RandomState 62\n",
      "Testing Score 0.7249155269936269 RandomState 62\n",
      "\n",
      "\n",
      "Training Score 0.75019124181159 RandomState 63\n",
      "Testing Score 0.7418534782435338 RandomState 63\n",
      "\n",
      "\n",
      "Training Score 0.7604892089332915 RandomState 64\n",
      "Testing Score 0.7072142168237963 RandomState 64\n",
      "\n",
      "\n",
      "Training Score 0.7368908775692322 RandomState 65\n",
      "Testing Score 0.7839516080200151 RandomState 65\n",
      "\n",
      "\n",
      "MAXINING TESTING SCORE 0.7839516080200151 ON RANDOM STATE OF 65\n",
      "Training Score 0.7649188005794785 RandomState 66\n",
      "Testing Score 0.7026033671481602 RandomState 66\n",
      "\n",
      "\n",
      "Training Score 0.7435045655192121 RandomState 67\n",
      "Testing Score 0.7607511997817982 RandomState 67\n",
      "\n",
      "\n",
      "Training Score 0.7477693013140887 RandomState 68\n",
      "Testing Score 0.7545764850024771 RandomState 68\n",
      "\n",
      "\n",
      "Training Score 0.7534463480849698 RandomState 69\n",
      "Testing Score 0.7312701808367583 RandomState 69\n",
      "\n",
      "\n",
      "Training Score 0.7519964049982972 RandomState 70\n",
      "Testing Score 0.7401486941717061 RandomState 70\n",
      "\n",
      "\n",
      "Training Score 0.7533950281397594 RandomState 71\n",
      "Testing Score 0.7386268488701313 RandomState 71\n",
      "\n",
      "\n",
      "Training Score 0.7297313472363475 RandomState 72\n",
      "Testing Score 0.8013153014725081 RandomState 72\n",
      "\n",
      "\n",
      "MAXINING TESTING SCORE 0.8013153014725081 ON RANDOM STATE OF 72\n",
      "Training Score 0.7630196321741229 RandomState 73\n",
      "Testing Score 0.7021113770925611 RandomState 73\n",
      "\n",
      "\n",
      "Training Score 0.7442927646985761 RandomState 74\n",
      "Testing Score 0.7628602705043671 RandomState 74\n",
      "\n",
      "\n",
      "Training Score 0.737489816439476 RandomState 75\n",
      "Testing Score 0.7796361772347564 RandomState 75\n",
      "\n",
      "\n",
      "Training Score 0.7522753960829272 RandomState 76\n",
      "Testing Score 0.7406707734150403 RandomState 76\n",
      "\n",
      "\n",
      "Training Score 0.7435867992453895 RandomState 77\n",
      "Testing Score 0.7644150383158066 RandomState 77\n",
      "\n",
      "\n",
      "Training Score 0.7394392327131777 RandomState 78\n",
      "Testing Score 0.7758451939468474 RandomState 78\n",
      "\n",
      "\n",
      "Training Score 0.7554093718841557 RandomState 79\n",
      "Testing Score 0.7218173942933799 RandomState 79\n",
      "\n",
      "\n",
      "Training Score 0.7456470552193637 RandomState 80\n",
      "Testing Score 0.7600446401381009 RandomState 80\n",
      "\n",
      "\n",
      "Training Score 0.7594294787482629 RandomState 81\n",
      "Testing Score 0.7186360819910205 RandomState 81\n",
      "\n",
      "\n",
      "Training Score 0.7398668684166754 RandomState 82\n",
      "Testing Score 0.7736883373919945 RandomState 82\n",
      "\n",
      "\n"
     ]
    },
    {
     "name": "stdout",
     "output_type": "stream",
     "text": [
      "Training Score 0.740846524495881 RandomState 83\n",
      "Testing Score 0.7734353212022445 RandomState 83\n",
      "\n",
      "\n",
      "Training Score 0.7415501174714434 RandomState 84\n",
      "Testing Score 0.7723833659935555 RandomState 84\n",
      "\n",
      "\n",
      "Training Score 0.7753933475321999 RandomState 85\n",
      "Testing Score 0.6494979549678834 RandomState 85\n",
      "\n",
      "\n",
      "Training Score 0.7340812766929935 RandomState 86\n",
      "Testing Score 0.7944904747430886 RandomState 86\n",
      "\n",
      "\n",
      "Training Score 0.7568083727566812 RandomState 87\n",
      "Testing Score 0.7265336730530172 RandomState 87\n",
      "\n",
      "\n",
      "Training Score 0.7475804019680856 RandomState 88\n",
      "Testing Score 0.7509643457142132 RandomState 88\n",
      "\n",
      "\n",
      "Training Score 0.7511528293698968 RandomState 89\n",
      "Testing Score 0.7400419842359443 RandomState 89\n",
      "\n",
      "\n",
      "Training Score 0.7362808913666928 RandomState 90\n",
      "Testing Score 0.7943876880754612 RandomState 90\n",
      "\n",
      "\n",
      "Training Score 0.7534278708815213 RandomState 91\n",
      "Testing Score 0.7356043942196567 RandomState 91\n",
      "\n",
      "\n",
      "Training Score 0.7511281220852141 RandomState 92\n",
      "Testing Score 0.7428954376801309 RandomState 92\n",
      "\n",
      "\n",
      "Training Score 0.7562150597738908 RandomState 93\n",
      "Testing Score 0.7281993790802535 RandomState 93\n",
      "\n",
      "\n",
      "Training Score 0.7379440247336082 RandomState 94\n",
      "Testing Score 0.7831187801142087 RandomState 94\n",
      "\n",
      "\n",
      "Training Score 0.7600509348417308 RandomState 95\n",
      "Testing Score 0.7093865665839272 RandomState 95\n",
      "\n",
      "\n",
      "Training Score 0.7595026839440019 RandomState 96\n",
      "Testing Score 0.7176377951041788 RandomState 96\n",
      "\n",
      "\n",
      "Training Score 0.7587182897378018 RandomState 97\n",
      "Testing Score 0.7177657577931487 RandomState 97\n",
      "\n",
      "\n",
      "Training Score 0.7491041393282948 RandomState 98\n",
      "Testing Score 0.7481942568760527 RandomState 98\n",
      "\n",
      "\n",
      "Training Score 0.7655284647250694 RandomState 99\n",
      "Testing Score 0.6866985147565681 RandomState 99\n",
      "\n",
      "\n"
     ]
    }
   ],
   "source": [
    "#Best Random State\n",
    "MaxAccu=0\n",
    "MaxRS=0\n",
    "\n",
    "for i in range (0,100):\n",
    "    X_train,X_test,y_train,y_test=train_test_split(X_scaled,y,test_size=0.25,random_state=i)\n",
    "    regression=LinearRegression()\n",
    "    regression.fit(X_train,y_train)\n",
    "    \n",
    "    pred=regression.predict(X_train)\n",
    "    training=regression.score(X_train,y_train)\n",
    "    print ('Training Score' , training , 'RandomState' ,i)\n",
    "    \n",
    "    y_pred=regression.predict(X_test)\n",
    "    testing=regression.score(X_test,y_test)\n",
    "    print ('Testing Score' , testing , 'RandomState' ,i)\n",
    "    print('\\n')\n",
    "    \n",
    "    \n",
    "    if testing>MaxAccu:\n",
    "        MaxAccu=testing\n",
    "        MaxRS=i\n",
    "        print('MAXINING TESTING SCORE' , MaxAccu , 'ON RANDOM STATE OF' , i)\n",
    "        "
   ]
  },
  {
   "cell_type": "code",
   "execution_count": 14,
   "id": "f42fcf70",
   "metadata": {},
   "outputs": [
    {
     "name": "stdout",
     "output_type": "stream",
     "text": [
      "Best Accuracy is  0.8013153014725081 On Random State 72\n"
     ]
    }
   ],
   "source": [
    "print('Best Accuracy is ' , MaxAccu , 'On Random State' , MaxRS)"
   ]
  },
  {
   "cell_type": "code",
   "execution_count": 15,
   "id": "273e8afa",
   "metadata": {},
   "outputs": [],
   "source": [
    "# train test split\n",
    "#our model will build on training data and test on testing data\n",
    "\n",
    "X_train,X_test,y_train,y_test = train_test_split(X_scaled,y,test_size=0.25,random_state=72)"
   ]
  },
  {
   "cell_type": "code",
   "execution_count": 16,
   "id": "b1504b1c",
   "metadata": {},
   "outputs": [
    {
     "data": {
      "text/plain": [
       "LinearRegression()"
      ]
     },
     "execution_count": 16,
     "metadata": {},
     "output_type": "execute_result"
    }
   ],
   "source": [
    "#Training the data on Linear Regression Model\n",
    "regression=LinearRegression()\n",
    "regression.fit(X_train,y_train)"
   ]
  },
  {
   "cell_type": "markdown",
   "id": "479c350a",
   "metadata": {},
   "source": [
    "### In a Jupyter environment, please rerun this cell to show the HTML representation or trust the notebook.\n",
    "### On GitHub, the HTML representation is unable to render, please try loading this page with nbviewer.org."
   ]
  },
  {
   "cell_type": "code",
   "execution_count": 17,
   "id": "4a648a3f",
   "metadata": {},
   "outputs": [
    {
     "data": {
      "text/plain": [
       "0.7297313472363475"
      ]
     },
     "execution_count": 17,
     "metadata": {},
     "output_type": "execute_result"
    }
   ],
   "source": [
    "#training score\n",
    "regression.score(X_train,y_train)  "
   ]
  },
  {
   "cell_type": "code",
   "execution_count": 18,
   "id": "04e6625d",
   "metadata": {},
   "outputs": [
    {
     "data": {
      "text/plain": [
       "0.8013153014725081"
      ]
     },
     "execution_count": 18,
     "metadata": {},
     "output_type": "execute_result"
    }
   ],
   "source": [
    "#testing score\n",
    "regression.score(X_test,y_test)  "
   ]
  },
  {
   "cell_type": "code",
   "execution_count": 19,
   "id": "e9548afb",
   "metadata": {},
   "outputs": [
    {
     "data": {
      "text/plain": [
       "array([ 3375.10034179,  6572.35206889, 10804.69931988,  5858.78920075,\n",
       "       12360.86013656, 11957.36088303,  2198.65389942,  2447.90541465,\n",
       "        8313.96416595, 35704.9256655 , 39469.62710796,  3450.63720353,\n",
       "       15525.36984014,  3533.92026266, 35427.53634439,  3063.12830199,\n",
       "       11913.38447996,  8624.46962671, 27493.33567647, 10003.66626383,\n",
       "       31834.96133595, 15218.80438955, 10930.39413517, 11096.88158575,\n",
       "       15219.08404665, 11054.48759268,  1667.45649399, 13306.55764718,\n",
       "       28249.61201108, 34185.85714597, 11105.30778196, 29269.44488138,\n",
       "       34560.9583367 ,  4296.38130421, 35301.02246141, 11598.02497889,\n",
       "       12538.78712849,  6160.20736323,  9714.33470166,  6698.7285201 ,\n",
       "       14087.86555389,  2590.83525204, 11147.73583289, 11304.54193187,\n",
       "        4466.75462564, 13676.39819402, 15165.49447438,  7677.84810409,\n",
       "       26941.60557091, 12262.90114833,  2832.70154769, 39822.92470287,\n",
       "        6499.77244123,  5601.15446205, 28931.50637083, 30163.60498959,\n",
       "        6938.89273706, 11911.09460981, 38726.4683174 ,  8647.51721135,\n",
       "        1588.52636151,  8936.97577105, 33070.7297261 ,  9486.96274588,\n",
       "       34298.63535558, 13906.82805375, 12060.92169144, 40672.09145633,\n",
       "        5649.06044104, 15419.45944169,  9944.40358357, 27768.66549888,\n",
       "       24688.53018368, 10375.91099243,  2430.31370487,  8834.53996405,\n",
       "        5420.10026578, 14291.6373251 ,  5249.05737978,  9089.5369931 ,\n",
       "       -1000.96168971, 26802.13408125, 12166.31157605,  5690.93392028,\n",
       "        5006.85728772,  3041.4055745 , 10798.20246839,  4349.12818519,\n",
       "       12675.48815253, 10632.9144635 , 10185.49762201, 35473.56176088,\n",
       "         651.24461285, 35785.34910604, 11683.35124196,  3538.80368501,\n",
       "       10233.88154345, 11479.78824139,  5435.307194  , 10153.4360497 ,\n",
       "        8226.38011884, 10722.27254274, 13403.67083871, 11066.62190825,\n",
       "       10184.54152391,  9613.58005383, 11934.74668203,  4577.56784662,\n",
       "       11112.2375647 , 32875.51425406,  7324.80806203,  6386.05973433,\n",
       "       19191.72503993, 14976.19031404,  1858.44914232, 13461.55558948,\n",
       "        4939.06662338,  4766.0099155 , 14943.59153177, 33498.75357757,\n",
       "       29284.30555615,  8591.30200078,  7586.60787629, 25820.61296854,\n",
       "       34811.86117666,  3956.66717547, 15160.10367651,  7512.14723374,\n",
       "       30214.39415974,  9732.83260933, 24455.5722501 , 11999.84352566,\n",
       "        2405.1950536 ,  5439.15590158, 12189.2484069 , 14116.59983724,\n",
       "       15531.657921  ,  4671.06585846,  2650.18658185, 29627.30953067,\n",
       "        4524.14361984, 27865.84061094, 14646.12499841, 12059.30871469,\n",
       "        2334.92153982,  9725.83464419, 31317.04997652,  3266.3009427 ,\n",
       "        2055.06030695, 31777.43175352,  9257.49835155, 10012.02427764,\n",
       "       12257.43213516,  6108.29319167,  7791.72926191,  9215.53041328,\n",
       "       31579.69558749, 17022.11425002,  7653.21742816,  4700.91307186,\n",
       "        5257.34033474, 13751.74032823,  9391.99347919,  9933.21848966,\n",
       "        8621.06011224,  7002.86457928, 11499.90645464,  7734.61947241,\n",
       "        3719.1941262 ,  4368.5710244 ,  6490.18402931, 22907.22536083,\n",
       "        2488.54003327, 35774.83087264, 29944.31454697,  2844.87573059,\n",
       "        8236.58660904, 26707.09973757,  7352.30884184,   257.45028348,\n",
       "        5257.28574304, 11473.52221374, 12190.72812426, 13172.4990086 ,\n",
       "        5738.31938544,  9512.99959967, 16534.66040105, 12332.55968925,\n",
       "       34531.77487839, 13194.87968171, 34302.38915175,  6333.41357424,\n",
       "        1683.09478306, 14482.09056284, 33403.95010876,  8153.01391095,\n",
       "        2343.98210908, 36206.11518784, 13797.77888303, 37369.56370382,\n",
       "        5371.33535177, 31225.18118516, 30274.93556796, 11239.34436734,\n",
       "        5717.09822398,  3976.5492078 , 10965.62481761,  2822.48924801,\n",
       "       15775.84973071,  4132.64542249, 37186.99414628, 35247.2245709 ,\n",
       "        -575.54452876,   864.70506449, 10200.6646829 , 15735.29377978,\n",
       "       16159.61847782,  2334.85380981, 32529.09495559, 30899.73057246,\n",
       "       36021.96051624,  7669.79331994, 11338.31139235, 38862.96367622,\n",
       "        1818.23742205, 11026.7161217 , 17245.8032961 ,  6788.54203618,\n",
       "       28189.94583265,  7267.48369242, 35894.37622355,  4598.984188  ,\n",
       "        7116.85959631,  9954.17984659, 13026.45510518, 11097.57206985,\n",
       "       30166.57265792,  -507.07336217,  7221.86803597, 14935.05728582,\n",
       "       40842.02095987,  9636.6438822 , 27003.37422078, 12780.29560278,\n",
       "       14802.90904418,  3607.79801845, 13102.13836462,  5252.27171433,\n",
       "        6375.92875536, 12440.74992496,  2447.90541465, 31341.49325374,\n",
       "        3241.95257691, 13504.9491058 ,  6316.73115209,  2711.85496322,\n",
       "        9996.08275891, 25697.34325453,  6701.5330946 ,  4606.20406209,\n",
       "       33915.65786451, 10626.56400972, 27694.57000653, 32248.2147993 ,\n",
       "        5354.85437142,  5118.61973037, 32577.83359297, 15844.88708793,\n",
       "       11935.87168344,  3341.60427654, 13083.78996008, 11095.93236409,\n",
       "        2939.67187056,  1113.58827307,  9532.93938015, 13878.85559336,\n",
       "       10937.3107796 ,  8217.38192251,  9170.09053658, 12654.22086188,\n",
       "       27662.42666111,  9275.09897624,  1941.06528992, 38591.79160054,\n",
       "       10456.74103655,  4247.40226248, 35912.09070744,  3063.81145726,\n",
       "       10765.28461409, 32064.70493499,  8857.23548578, 25380.24913628,\n",
       "       12748.17431056, 11848.94873839, 18978.22156451, 10912.72110467,\n",
       "       18488.03554686, 31335.12966165, 29644.76065223,  8618.40926427,\n",
       "        7768.3374466 , 15439.38247502,  5684.74029845, 13106.45875279,\n",
       "        3174.51081903,  4318.76197731,  8070.51743205,  5027.21686114,\n",
       "       10223.24053593, 38273.02991384,  4716.71405341, 10873.19253967,\n",
       "       33427.22806486, 29915.56176823,  7073.35222078,  8535.53866924,\n",
       "       12045.18268147, 12876.12650855, 31207.07363735, 39180.5783083 ,\n",
       "        2142.54363316, 11547.98866577, 14281.07030947, 11460.40461866,\n",
       "       12097.53915156, 33650.07441965, 36999.8281013 , 14033.36556033,\n",
       "        5300.05069579,  3595.53670536, 14197.32916046,  8164.8659164 ,\n",
       "        4761.01263394, 28493.218281  ])"
      ]
     },
     "execution_count": 19,
     "metadata": {},
     "output_type": "execute_result"
    }
   ],
   "source": [
    "y_pred=regression.predict(X_test)\n",
    "y_pred"
   ]
  },
  {
   "cell_type": "code",
   "execution_count": 20,
   "id": "7309cb3f",
   "metadata": {},
   "outputs": [
    {
     "data": {
      "image/png": "[encoded data removed]",
      "text/plain": [
       "<Figure size 432x288 with 1 Axes>"
      ]
     },
     "metadata": {
      "needs_background": "light"
     },
     "output_type": "display_data"
    }
   ],
   "source": [
    "# how our pred vs actual look like in graph \n",
    "plt.scatter(y_test , y_pred)\n",
    "plt.xlabel('Actual happiness score')\n",
    "plt.ylabel('Predicted happiness score')\n",
    "plt.title('Actual VS Model Prediction')\n",
    "plt.show()"
   ]
  },
  {
   "cell_type": "code",
   "execution_count": 21,
   "id": "bd26c370",
   "metadata": {},
   "outputs": [],
   "source": [
    "#error in terms of numbers\n",
    "from sklearn.metrics import mean_squared_error,mean_absolute_error"
   ]
  },
  {
   "cell_type": "code",
   "execution_count": 22,
   "id": "dc8c69c1",
   "metadata": {},
   "outputs": [],
   "source": [
    "# again predict \n",
    "y_pred = regression.predict(X_test)"
   ]
  },
  {
   "cell_type": "code",
   "execution_count": 23,
   "id": "c803d6bc",
   "metadata": {},
   "outputs": [
    {
     "data": {
      "text/plain": [
       "4034.254330107446"
      ]
     },
     "execution_count": 23,
     "metadata": {},
     "output_type": "execute_result"
    }
   ],
   "source": [
    "#MAE\n",
    "mean_absolute_error(y_test,y_pred)"
   ]
  },
  {
   "cell_type": "code",
   "execution_count": 24,
   "id": "e8c80b99",
   "metadata": {},
   "outputs": [
    {
     "data": {
      "text/plain": [
       "31468024.987111304"
      ]
     },
     "execution_count": 24,
     "metadata": {},
     "output_type": "execute_result"
    }
   ],
   "source": [
    "#MSE\n",
    "mean_squared_error(y_test,y_pred)"
   ]
  },
  {
   "cell_type": "code",
   "execution_count": 25,
   "id": "85a2d339",
   "metadata": {},
   "outputs": [
    {
     "data": {
      "text/plain": [
       "5609.636796363139"
      ]
     },
     "execution_count": 25,
     "metadata": {},
     "output_type": "execute_result"
    }
   ],
   "source": [
    "#RMSE\n",
    "np.sqrt(mean_squared_error(y_test,y_pred))"
   ]
  },
  {
   "cell_type": "code",
   "execution_count": 26,
   "id": "1abdfd92",
   "metadata": {},
   "outputs": [],
   "source": [
    "#now we sucessfully created model and our score is great so we check it for overfitting \n",
    "#to check overfitting we have to use regularization technique\n",
    "\n",
    "# in regularization we have 3 type but we use only 2 \n",
    "\n",
    "\n",
    "\n",
    "# 3 types are 1) LASSO (L1 form) 2)RIDGE (L2 FORM)  3)ELASTIONET"
   ]
  },
  {
   "cell_type": "code",
   "execution_count": 27,
   "id": "353e82fa",
   "metadata": {},
   "outputs": [],
   "source": [
    "#BASICALLY LASSO N RIDGE WILL GIVE YOU BEST LEARNING RATE THAT IS ALPHA SCORE AND TRAIN MODEL ACCORDING TO IT"
   ]
  },
  {
   "cell_type": "markdown",
   "id": "363351e7",
   "metadata": {},
   "source": [
    "# LASSO MODEL"
   ]
  },
  {
   "cell_type": "code",
   "execution_count": 28,
   "id": "4f062497",
   "metadata": {},
   "outputs": [],
   "source": [
    "#import necessary library\n",
    "from sklearn.linear_model import Ridge,Lasso,RidgeCV,LassoCV"
   ]
  },
  {
   "cell_type": "code",
   "execution_count": 29,
   "id": "9c263d0d",
   "metadata": {},
   "outputs": [
    {
     "data": {
      "text/plain": [
       "LassoCV(max_iter=100, normalize=True)"
      ]
     },
     "execution_count": 29,
     "metadata": {},
     "output_type": "execute_result"
    }
   ],
   "source": [
    "##### LASSO MODEL######\n",
    "\n",
    "lasscv = LassoCV(alphas = None , max_iter = 100, normalize = True)\n",
    "\n",
    "lasscv.fit(X_train , y_train)"
   ]
  },
  {
   "cell_type": "code",
   "execution_count": 30,
   "id": "5b61f9dc",
   "metadata": {},
   "outputs": [],
   "source": [
    "##In a Jupyter environment, please rerun this cell to show the HTML representation or trust the notebook.\n",
    "##On GitHub, the HTML representation is unable to render, please try loading this page with nbviewer.org."
   ]
  },
  {
   "cell_type": "code",
   "execution_count": 31,
   "id": "546b444d",
   "metadata": {},
   "outputs": [
    {
     "data": {
      "text/plain": [
       "3.1254782758536273"
      ]
     },
     "execution_count": 31,
     "metadata": {},
     "output_type": "execute_result"
    }
   ],
   "source": [
    "# best aplha parameter\n",
    "alpha = lasscv.alpha_\n",
    "alpha"
   ]
  },
  {
   "cell_type": "code",
   "execution_count": 32,
   "id": "841cba50",
   "metadata": {},
   "outputs": [
    {
     "data": {
      "text/plain": [
       "Lasso(alpha=3.1254782758536273)"
      ]
     },
     "execution_count": 32,
     "metadata": {},
     "output_type": "execute_result"
    }
   ],
   "source": [
    "# now we have best parametr noe train according to it\n",
    "lasso_reg = Lasso(alpha)\n",
    "lasso_reg.fit(X_train,y_train)"
   ]
  },
  {
   "cell_type": "code",
   "execution_count": null,
   "id": "451ba32b",
   "metadata": {},
   "outputs": [],
   "source": [
    "#In a Jupyter environment, please rerun this cell to show the HTML representation or trust the notebook.\n",
    "#On GitHub, the HTML representation is unable to render, please try loading this page with nbviewer.org."
   ]
  },
  {
   "cell_type": "code",
   "execution_count": 33,
   "id": "9fd00b39",
   "metadata": {},
   "outputs": [
    {
     "data": {
      "text/plain": [
       "0.8013050876231406"
      ]
     },
     "execution_count": 33,
     "metadata": {},
     "output_type": "execute_result"
    }
   ],
   "source": [
    "# now check r2 score\n",
    "lasso_reg.score(X_test,y_test)"
   ]
  },
  {
   "cell_type": "markdown",
   "id": "250c470b",
   "metadata": {},
   "source": [
    "## RIDGE MODEL"
   ]
  },
  {
   "cell_type": "code",
   "execution_count": 34,
   "id": "73ae05ff",
   "metadata": {},
   "outputs": [
    {
     "data": {
      "text/plain": [
       "RidgeCV(alphas=array([0.001, 0.011, 0.021, 0.031, 0.041, 0.051, 0.061, 0.071, 0.081,\n",
       "       0.091]),\n",
       "        normalize=True)"
      ]
     },
     "execution_count": 34,
     "metadata": {},
     "output_type": "execute_result"
    }
   ],
   "source": [
    "############ RIDGE MODEL#########\n",
    "\n",
    "ridgecv = RidgeCV(alphas = np.arange(0.001,0.1,0.01), normalize = True)\n",
    "ridgecv.fit(X_train , y_train)\n"
   ]
  },
  {
   "cell_type": "code",
   "execution_count": 35,
   "id": "1ab7dc21",
   "metadata": {},
   "outputs": [],
   "source": [
    "##In a Jupyter environment, please rerun this cell to show the HTML representation or trust the notebook.\n",
    "##On GitHub, the HTML representation is unable to render, please try loading this page with nbviewer.org."
   ]
  },
  {
   "cell_type": "code",
   "execution_count": 36,
   "id": "6b8eb845",
   "metadata": {},
   "outputs": [
    {
     "data": {
      "text/plain": [
       "0.001"
      ]
     },
     "execution_count": 36,
     "metadata": {},
     "output_type": "execute_result"
    }
   ],
   "source": [
    "# best aplha parameter\n",
    "alpha = ridgecv.alpha_\n",
    "alpha"
   ]
  },
  {
   "cell_type": "code",
   "execution_count": 37,
   "id": "ae52e066",
   "metadata": {},
   "outputs": [
    {
     "data": {
      "text/plain": [
       "Ridge(alpha=0.001)"
      ]
     },
     "execution_count": 37,
     "metadata": {},
     "output_type": "execute_result"
    }
   ],
   "source": [
    "# now we have best parametr noe train according to it\n",
    "ridge_reg = Ridge(alpha)\n",
    "ridge_reg.fit (X_train,y_train)"
   ]
  },
  {
   "cell_type": "markdown",
   "id": "bd993ec5",
   "metadata": {},
   "source": [
    "#### In a Jupyter environment, please rerun this cell to show the HTML representation or trust the notebook.On GitHub, the HTML representation is unable to render, please try loading this page with nbviewer.org."
   ]
  },
  {
   "cell_type": "code",
   "execution_count": 38,
   "id": "df71396c",
   "metadata": {},
   "outputs": [
    {
     "data": {
      "text/plain": [
       "0.8013152523938771"
      ]
     },
     "execution_count": 38,
     "metadata": {},
     "output_type": "execute_result"
    }
   ],
   "source": [
    "# now check r2 score\n",
    "ridge_reg.score(X_test,y_test)"
   ]
  },
  {
   "cell_type": "code",
   "execution_count": 39,
   "id": "d960db1c",
   "metadata": {},
   "outputs": [],
   "source": [
    "# LASSO SCORE = 0.8013050876231406\n",
    "# RIDGE SCORE = 0.801315252393877"
   ]
  },
  {
   "cell_type": "code",
   "execution_count": 40,
   "id": "d1be18f7",
   "metadata": {},
   "outputs": [],
   "source": [
    "# after seeing LASSO and RIDGE score thus we can conclude that our model was not overfitted model\n",
    "## for conformation lets see cross validation of the model"
   ]
  },
  {
   "cell_type": "markdown",
   "id": "bc3a2769",
   "metadata": {},
   "source": [
    "### Cross Vaildation"
   ]
  },
  {
   "cell_type": "code",
   "execution_count": 41,
   "id": "bde17af1",
   "metadata": {
    "scrolled": true
   },
   "outputs": [
    {
     "name": "stdout",
     "output_type": "stream",
     "text": [
      "At cross fold 2 the cv score is 0.7478005281074089 and the R2 score for Training is 0.7297313472363475 and R2 score for the Testing is0.8013153014725081\n",
      "\n",
      "\n",
      "At cross fold 3 the cv score is 0.7443731833867325 and the R2 score for Training is 0.7297313472363475 and R2 score for the Testing is0.8013153014725081\n",
      "\n",
      "\n",
      "At cross fold 4 the cv score is 0.7454793611183665 and the R2 score for Training is 0.7297313472363475 and R2 score for the Testing is0.8013153014725081\n",
      "\n",
      "\n",
      "At cross fold 5 the cv score is 0.746456746000628 and the R2 score for Training is 0.7297313472363475 and R2 score for the Testing is0.8013153014725081\n",
      "\n",
      "\n",
      "At cross fold 6 the cv score is 0.745453866669138 and the R2 score for Training is 0.7297313472363475 and R2 score for the Testing is0.8013153014725081\n",
      "\n",
      "\n",
      "At cross fold 7 the cv score is 0.7444287967227501 and the R2 score for Training is 0.7297313472363475 and R2 score for the Testing is0.8013153014725081\n",
      "\n",
      "\n",
      "At cross fold 8 the cv score is 0.7425493934077472 and the R2 score for Training is 0.7297313472363475 and R2 score for the Testing is0.8013153014725081\n",
      "\n",
      "\n",
      "At cross fold 9 the cv score is 0.7435254256808471 and the R2 score for Training is 0.7297313472363475 and R2 score for the Testing is0.8013153014725081\n",
      "\n",
      "\n"
     ]
    }
   ],
   "source": [
    "#Cross Vaildation\n",
    "training=regression.score(X_train,y_train)\n",
    "testing=regression.score(X_test,y_test)\n",
    "\n",
    "from sklearn.model_selection import cross_val_score\n",
    "for j in range(2,10):\n",
    "    cv_score=cross_val_score(regression,X_scaled,y,cv=j)\n",
    "    cv_mean=cv_score.mean()\n",
    "    print(f'At cross fold {j} the cv score is {cv_mean} and the R2 score for Training is {training} and R2 score for the Testing is{testing}')\n",
    "    print('\\n')"
   ]
  },
  {
   "cell_type": "code",
   "execution_count": 42,
   "id": "6d14ed96",
   "metadata": {},
   "outputs": [],
   "source": [
    "# as we see all are giving same result so out model is best model without overfitting \n",
    "\n",
    "# Training Score for Linear Regression = 0.7297313472363475\n",
    "# Testing Score for Linear Regression =  0.8013153014725081"
   ]
  },
  {
   "cell_type": "code",
   "execution_count": null,
   "id": "60c43e40",
   "metadata": {},
   "outputs": [],
   "source": []
  },
  {
   "cell_type": "code",
   "execution_count": null,
   "id": "dc650b72",
   "metadata": {},
   "outputs": [],
   "source": []
  }
 ],
 "metadata": {
  "kernelspec": {
   "display_name": "Python 3 (ipykernel)",
   "language": "python",
   "name": "python3"
  },
  "language_info": {
   "codemirror_mode": {
    "name": "ipython",
    "version": 3
   },
   "file_extension": ".py",
   "mimetype": "text/x-python",
   "name": "python",
   "nbconvert_exporter": "python",
   "pygments_lexer": "ipython3",
   "version": "3.9.7"
  }
 },
 "nbformat": 4,
 "nbformat_minor": 5
}
