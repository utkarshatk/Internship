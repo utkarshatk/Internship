{
 "cells": [
  {
   "cell_type": "code",
   "execution_count": 1,
   "id": "3b3269ad",
   "metadata": {},
   "outputs": [
    {
     "name": "stdout",
     "output_type": "stream",
     "text": [
      "Requirement already satisfied: selenium in c:\\programdata\\anaconda3\\lib\\site-packages (4.7.2)\n",
      "Requirement already satisfied: certifi>=2021.10.8 in c:\\programdata\\anaconda3\\lib\\site-packages (from selenium) (2021.10.8)\n",
      "Requirement already satisfied: trio~=0.17 in c:\\programdata\\anaconda3\\lib\\site-packages (from selenium) (0.22.0)\n",
      "Requirement already satisfied: urllib3[socks]~=1.26 in c:\\programdata\\anaconda3\\lib\\site-packages (from selenium) (1.26.7)\n",
      "Requirement already satisfied: trio-websocket~=0.9 in c:\\programdata\\anaconda3\\lib\\site-packages (from selenium) (0.9.2)\n",
      "Requirement already satisfied: async-generator>=1.9 in c:\\programdata\\anaconda3\\lib\\site-packages (from trio~=0.17->selenium) (1.10)\n",
      "Requirement already satisfied: attrs>=19.2.0 in c:\\programdata\\anaconda3\\lib\\site-packages (from trio~=0.17->selenium) (21.2.0)\n",
      "Requirement already satisfied: sniffio in c:\\programdata\\anaconda3\\lib\\site-packages (from trio~=0.17->selenium) (1.2.0)\n",
      "Requirement already satisfied: exceptiongroup>=1.0.0rc9 in c:\\programdata\\anaconda3\\lib\\site-packages (from trio~=0.17->selenium) (1.1.0)\n",
      "Requirement already satisfied: idna in c:\\programdata\\anaconda3\\lib\\site-packages (from trio~=0.17->selenium) (3.2)\n",
      "Requirement already satisfied: cffi>=1.14 in c:\\programdata\\anaconda3\\lib\\site-packages (from trio~=0.17->selenium) (1.14.6)\n",
      "Requirement already satisfied: sortedcontainers in c:\\programdata\\anaconda3\\lib\\site-packages (from trio~=0.17->selenium) (2.4.0)\n",
      "Requirement already satisfied: outcome in c:\\programdata\\anaconda3\\lib\\site-packages (from trio~=0.17->selenium) (1.2.0)\n",
      "Requirement already satisfied: pycparser in c:\\programdata\\anaconda3\\lib\\site-packages (from cffi>=1.14->trio~=0.17->selenium) (2.20)\n",
      "Requirement already satisfied: wsproto>=0.14 in c:\\programdata\\anaconda3\\lib\\site-packages (from trio-websocket~=0.9->selenium) (1.2.0)\n",
      "Requirement already satisfied: PySocks!=1.5.7,<2.0,>=1.5.6 in c:\\programdata\\anaconda3\\lib\\site-packages (from urllib3[socks]~=1.26->selenium) (1.7.1)\n",
      "Requirement already satisfied: h11<1,>=0.9.0 in c:\\programdata\\anaconda3\\lib\\site-packages (from wsproto>=0.14->trio-websocket~=0.9->selenium) (0.14.0)\n"
     ]
    }
   ],
   "source": [
    "!pip install selenium    "
   ]
  },
  {
   "cell_type": "markdown",
   "id": "5e76bdc0",
   "metadata": {},
   "source": [
    "### Q1: Write a python program to scrape data for “Data Analyst” Job position in “Bangalore” location. Youhave to scrape the job-title, job-location, company_name, experience_required. You have to scrape first 10jobs data.\n",
    "#### This task will be done in following steps:\n",
    "#### 1. First get the webpage https://www.naukri.com/\n",
    "#### 2. Enter “Data Analyst” in “Skill, Designations, Companies” field and enter “Bangalore” in “enter the location” field.\n",
    "#### 3. Then click the searchbutton.\n",
    "#### 4. Then scrape the data for the first 10 jobs results you get.\n",
    "#### 5. Finally create a dataframe of the scraped data.\n",
    "#### Note: All of the above steps have to be done in code. No step is to be done manually."
   ]
  },
  {
   "cell_type": "code",
   "execution_count": 3,
   "id": "439f8b62",
   "metadata": {},
   "outputs": [],
   "source": [
    "## importing neccessary libraries\n",
    "import selenium\n",
    "from selenium import webdriver\n",
    "import pandas as pd\n",
    "import warnings\n",
    "warnings.filterwarnings('ignore')\n",
    "from selenium.webdriver.common.by import By\n",
    "import time"
   ]
  },
  {
   "cell_type": "code",
   "execution_count": 9,
   "id": "004855f1",
   "metadata": {},
   "outputs": [],
   "source": [
    "## connectinf to web driver\n",
    "driver=webdriver.Chrome(r\"C:\\Users\\swaro\\Downloads\\chromedriver.exe\")"
   ]
  },
  {
   "cell_type": "code",
   "execution_count": 36,
   "id": "bd3003fb",
   "metadata": {},
   "outputs": [],
   "source": [
    "url='https://www.naukri.com/'\n",
    "driver.get(url) \n"
   ]
  },
  {
   "cell_type": "code",
   "execution_count": 37,
   "id": "72b65c6f",
   "metadata": {},
   "outputs": [
    {
     "data": {
      "text/plain": [
       "<selenium.webdriver.remote.webelement.WebElement (session=\"acd3acc7e61b869c74536200e144fff5\", element=\"3630f842-adfb-40e2-b911-eede2ed5401f\")>"
      ]
     },
     "execution_count": 37,
     "metadata": {},
     "output_type": "execute_result"
    }
   ],
   "source": [
    "# Find web element for search bar using class name\n",
    "search_job = driver.find_element(By.CLASS_NAME,'suggestor-input')\n",
    "search_job"
   ]
  },
  {
   "cell_type": "code",
   "execution_count": 38,
   "id": "f3af995c",
   "metadata": {},
   "outputs": [],
   "source": [
    "#write on search bar\n",
    "search_job.send_keys(\"Data Analyst\")"
   ]
  },
  {
   "cell_type": "code",
   "execution_count": 39,
   "id": "7eb2958d",
   "metadata": {},
   "outputs": [
    {
     "data": {
      "text/plain": [
       "<selenium.webdriver.remote.webelement.WebElement (session=\"acd3acc7e61b869c74536200e144fff5\", element=\"6c4af59d-44e9-41f0-acc6-f33d21278300\")>"
      ]
     },
     "execution_count": 39,
     "metadata": {},
     "output_type": "execute_result"
    }
   ],
   "source": [
    "#Finding web element for search location bar using relative Xpath \n",
    "search_loc = driver.find_element(By.XPATH,\"/html/body/div[1]/div[6]/div/div/div[5]/div/div/div/input\")\n",
    "search_loc"
   ]
  },
  {
   "cell_type": "code",
   "execution_count": 40,
   "id": "ae27efe9",
   "metadata": {},
   "outputs": [],
   "source": [
    "#finding web element for job locatin bar\n",
    "search_loc.send_keys(\"Bangalore\")"
   ]
  },
  {
   "cell_type": "code",
   "execution_count": 41,
   "id": "8cdeecdb",
   "metadata": {},
   "outputs": [
    {
     "data": {
      "text/plain": [
       "<selenium.webdriver.remote.webelement.WebElement (session=\"acd3acc7e61b869c74536200e144fff5\", element=\"672fa54b-f08c-41ff-81ef-f123d758b7f6\")>"
      ]
     },
     "execution_count": 41,
     "metadata": {},
     "output_type": "execute_result"
    }
   ],
   "source": [
    "#clicking using web absolute xpath function \n",
    "search_btn=driver.find_element(By.CLASS_NAME,\"qsbSubmit\")\n",
    "search_btn"
   ]
  },
  {
   "cell_type": "code",
   "execution_count": 42,
   "id": "5c73c57d",
   "metadata": {},
   "outputs": [],
   "source": [
    "search_btn.click()"
   ]
  },
  {
   "cell_type": "code",
   "execution_count": 82,
   "id": "1a42e07c",
   "metadata": {},
   "outputs": [],
   "source": [
    "#Creating the empty lists to scrape job title,location, company name & experince\n",
    "job_title=[]\n",
    "job_loc=[]\n",
    "company_name=[]\n",
    "experince_required=[]"
   ]
  },
  {
   "cell_type": "code",
   "execution_count": 54,
   "id": "509a250e",
   "metadata": {},
   "outputs": [
    {
     "data": {
      "text/plain": [
       "20"
      ]
     },
     "execution_count": 54,
     "metadata": {},
     "output_type": "execute_result"
    }
   ],
   "source": [
    "#extract all the web element having job titles\n",
    "title_tag= driver.find_elements(By.XPATH,'//a[@class=\"title ellipsis\"]')\n",
    "len(title_tag)"
   ]
  },
  {
   "cell_type": "code",
   "execution_count": 63,
   "id": "00dbcb0a",
   "metadata": {},
   "outputs": [
    {
     "data": {
      "text/plain": [
       "20"
      ]
     },
     "execution_count": 63,
     "metadata": {},
     "output_type": "execute_result"
    }
   ],
   "source": [
    "#now the job title is inside the web element , we will run a for loop to extract.\n",
    "job_titles = []\n",
    "\n",
    "for i in title_tags:\n",
    "    job_titles.append(i.text)\n",
    "len(job_titles)\n"
   ]
  },
  {
   "cell_type": "code",
   "execution_count": 64,
   "id": "931ecfff",
   "metadata": {},
   "outputs": [
    {
     "data": {
      "text/plain": [
       "20"
      ]
     },
     "execution_count": 64,
     "metadata": {},
     "output_type": "execute_result"
    }
   ],
   "source": [
    "#extract all the web element having company\n",
    "company_tags = driver.find_elements(By.XPATH,'//a[@class=\"subTitle ellipsis fleft\"]')\n",
    "len(company_tags)"
   ]
  },
  {
   "cell_type": "code",
   "execution_count": 65,
   "id": "076cfea6",
   "metadata": {},
   "outputs": [
    {
     "data": {
      "text/plain": [
       "20"
      ]
     },
     "execution_count": 65,
     "metadata": {},
     "output_type": "execute_result"
    }
   ],
   "source": [
    "#now the company name is inside the web element , we will run a for loop to extract.\n",
    "company_names = []\n",
    "\n",
    "for i in company_tags:\n",
    "    company_names.append(i.text)\n",
    "len(company_names)"
   ]
  },
  {
   "cell_type": "code",
   "execution_count": 76,
   "id": "8992a6cf",
   "metadata": {},
   "outputs": [
    {
     "data": {
      "text/plain": [
       "20"
      ]
     },
     "execution_count": 76,
     "metadata": {},
     "output_type": "execute_result"
    }
   ],
   "source": [
    "#extract all the web element having location\n",
    "job_loc = driver.find_elements(By.XPATH,'//span[@class=\"ellipsis fleft locWdth\"]')\n",
    "len(job_location )"
   ]
  },
  {
   "cell_type": "code",
   "execution_count": 83,
   "id": "58b39c05",
   "metadata": {},
   "outputs": [
    {
     "data": {
      "text/plain": [
       "20"
      ]
     },
     "execution_count": 83,
     "metadata": {},
     "output_type": "execute_result"
    }
   ],
   "source": [
    "#now the job location is inside the web element , we will run a for loop to extract.\n",
    "for i in loc_tags:\n",
    "    job_loc.append(i.text)\n",
    "len(job_loc)\n",
    "   "
   ]
  },
  {
   "cell_type": "code",
   "execution_count": 68,
   "id": "c44b8b0e",
   "metadata": {},
   "outputs": [
    {
     "data": {
      "text/plain": [
       "20"
      ]
     },
     "execution_count": 68,
     "metadata": {},
     "output_type": "execute_result"
    }
   ],
   "source": [
    "#extract all the web element having experience\n",
    "exp_tags = driver.find_elements(By.XPATH,'//span[@class=\"ellipsis fleft expwdth\"]')\n",
    "len(exp_tags)"
   ]
  },
  {
   "cell_type": "code",
   "execution_count": 69,
   "id": "b813cc62",
   "metadata": {},
   "outputs": [
    {
     "data": {
      "text/plain": [
       "20"
      ]
     },
     "execution_count": 69,
     "metadata": {},
     "output_type": "execute_result"
    }
   ],
   "source": [
    "#now the experience is inside the web element , we will run a for loop to extract.\n",
    "experience = []\n",
    "\n",
    "for i in exp_tags:\n",
    "    experience.append(i.text)\n",
    "len(experience)"
   ]
  },
  {
   "cell_type": "code",
   "execution_count": 70,
   "id": "4d14d75c",
   "metadata": {},
   "outputs": [
    {
     "data": {
      "text/plain": [
       "(20, 20, 20, 20)"
      ]
     },
     "execution_count": 70,
     "metadata": {},
     "output_type": "execute_result"
    }
   ],
   "source": [
    "len(job_titles),len(job_loc),len(company_names),len(experience)"
   ]
  },
  {
   "cell_type": "code",
   "execution_count": 84,
   "id": "7cfc21d2",
   "metadata": {},
   "outputs": [
    {
     "data": {
      "text/html": [
       "<div>\n",
       "<style scoped>\n",
       "    .dataframe tbody tr th:only-of-type {\n",
       "        vertical-align: middle;\n",
       "    }\n",
       "\n",
       "    .dataframe tbody tr th {\n",
       "        vertical-align: top;\n",
       "    }\n",
       "\n",
       "    .dataframe thead th {\n",
       "        text-align: right;\n",
       "    }\n",
       "</style>\n",
       "<table border=\"1\" class=\"dataframe\">\n",
       "  <thead>\n",
       "    <tr style=\"text-align: right;\">\n",
       "      <th></th>\n",
       "      <th>Job Title</th>\n",
       "      <th>Job Location</th>\n",
       "      <th>Experience</th>\n",
       "      <th>Company Names</th>\n",
       "    </tr>\n",
       "  </thead>\n",
       "  <tbody>\n",
       "    <tr>\n",
       "      <th>0</th>\n",
       "      <td>Data Analyst/Senior Analyst - R/SQL/Python</td>\n",
       "      <td>Temp. WFH - Bangalore/Bengaluru, Kolkata, Mumb...</td>\n",
       "      <td>3-6 Yrs</td>\n",
       "      <td>The Nikharv Consultancy</td>\n",
       "    </tr>\n",
       "    <tr>\n",
       "      <th>1</th>\n",
       "      <td>Business Data Analyst (Sr Exe / Asst Manager)</td>\n",
       "      <td>Bangalore/Bengaluru</td>\n",
       "      <td>3-5 Yrs</td>\n",
       "      <td>Talentleads</td>\n",
       "    </tr>\n",
       "    <tr>\n",
       "      <th>2</th>\n",
       "      <td>Junior Data Analyst/ Scientist- Fresher Position</td>\n",
       "      <td>Hybrid - Bangalore/Bengaluru, New Delhi, Mumba...</td>\n",
       "      <td>0-5 Yrs</td>\n",
       "      <td>Sejal Consulting Hub</td>\n",
       "    </tr>\n",
       "    <tr>\n",
       "      <th>3</th>\n",
       "      <td>data analyst / data analytics - US MNC (analyt...</td>\n",
       "      <td>Temp. WFH - Bangalore/Bengaluru, Gurgaon/Gurugram</td>\n",
       "      <td>3-8 Yrs</td>\n",
       "      <td>Aspyra Hr Services</td>\n",
       "    </tr>\n",
       "    <tr>\n",
       "      <th>4</th>\n",
       "      <td>Job Opportunity with Leading MNC - Senior Data...</td>\n",
       "      <td>Bangalore/Bengaluru</td>\n",
       "      <td>5-7 Yrs</td>\n",
       "      <td>Enrich And Enlight Business Consulting</td>\n",
       "    </tr>\n",
       "    <tr>\n",
       "      <th>5</th>\n",
       "      <td>Data Analyst (Jr/Sr)</td>\n",
       "      <td>Bangalore/Bengaluru</td>\n",
       "      <td>1-4 Yrs</td>\n",
       "      <td>Pole To Win (PTW)</td>\n",
       "    </tr>\n",
       "    <tr>\n",
       "      <th>6</th>\n",
       "      <td>Data Analysts - Compliance Surveillance</td>\n",
       "      <td>Hybrid - Bangalore/Bengaluru</td>\n",
       "      <td>4-9 Yrs</td>\n",
       "      <td>Standard Chartered Bank</td>\n",
       "    </tr>\n",
       "    <tr>\n",
       "      <th>7</th>\n",
       "      <td>Sr Data Analyst</td>\n",
       "      <td>Hybrid - Bangalore/Bengaluru</td>\n",
       "      <td>6-9 Yrs</td>\n",
       "      <td>Amolitalents</td>\n",
       "    </tr>\n",
       "    <tr>\n",
       "      <th>8</th>\n",
       "      <td>Manager/Senior Manager - Data Analyst</td>\n",
       "      <td>Bangalore/Bengaluru, Mumbai, Hyderabad/Secunde...</td>\n",
       "      <td>2-7 Yrs</td>\n",
       "      <td>Huquo Consulting Pvt. Ltd</td>\n",
       "    </tr>\n",
       "    <tr>\n",
       "      <th>9</th>\n",
       "      <td>Data Analyst / Sr. Data Analyst / Lead</td>\n",
       "      <td>Bangalore/Bengaluru, Hyderabad/Secunderabad, P...</td>\n",
       "      <td>3-12 Yrs</td>\n",
       "      <td>Client Of Logical Hiring</td>\n",
       "    </tr>\n",
       "  </tbody>\n",
       "</table>\n",
       "</div>"
      ],
      "text/plain": [
       "                                           Job Title  \\\n",
       "0         Data Analyst/Senior Analyst - R/SQL/Python   \n",
       "1      Business Data Analyst (Sr Exe / Asst Manager)   \n",
       "2   Junior Data Analyst/ Scientist- Fresher Position   \n",
       "3  data analyst / data analytics - US MNC (analyt...   \n",
       "4  Job Opportunity with Leading MNC - Senior Data...   \n",
       "5                               Data Analyst (Jr/Sr)   \n",
       "6            Data Analysts - Compliance Surveillance   \n",
       "7                                    Sr Data Analyst   \n",
       "8              Manager/Senior Manager - Data Analyst   \n",
       "9             Data Analyst / Sr. Data Analyst / Lead   \n",
       "\n",
       "                                        Job Location Experience  \\\n",
       "0  Temp. WFH - Bangalore/Bengaluru, Kolkata, Mumb...    3-6 Yrs   \n",
       "1                                Bangalore/Bengaluru    3-5 Yrs   \n",
       "2  Hybrid - Bangalore/Bengaluru, New Delhi, Mumba...    0-5 Yrs   \n",
       "3  Temp. WFH - Bangalore/Bengaluru, Gurgaon/Gurugram    3-8 Yrs   \n",
       "4                                Bangalore/Bengaluru    5-7 Yrs   \n",
       "5                                Bangalore/Bengaluru    1-4 Yrs   \n",
       "6                       Hybrid - Bangalore/Bengaluru    4-9 Yrs   \n",
       "7                       Hybrid - Bangalore/Bengaluru    6-9 Yrs   \n",
       "8  Bangalore/Bengaluru, Mumbai, Hyderabad/Secunde...    2-7 Yrs   \n",
       "9  Bangalore/Bengaluru, Hyderabad/Secunderabad, P...   3-12 Yrs   \n",
       "\n",
       "                            Company Names  \n",
       "0                 The Nikharv Consultancy  \n",
       "1                             Talentleads  \n",
       "2                    Sejal Consulting Hub  \n",
       "3                      Aspyra Hr Services  \n",
       "4  Enrich And Enlight Business Consulting  \n",
       "5                       Pole To Win (PTW)  \n",
       "6                 Standard Chartered Bank  \n",
       "7                            Amolitalents  \n",
       "8               Huquo Consulting Pvt. Ltd  \n",
       "9                Client Of Logical Hiring  "
      ]
     },
     "execution_count": 84,
     "metadata": {},
     "output_type": "execute_result"
    }
   ],
   "source": [
    "#Creating Data Frame\n",
    "jobs=pd.DataFrame()\n",
    "jobs['Job Title']=job_titles\n",
    "jobs['Job Location']=job_loc\n",
    "jobs['Experience']=experience\n",
    "jobs['Company Names']=company_names\n",
    "jobs.head(10)"
   ]
  },
  {
   "cell_type": "markdown",
   "id": "9307f93a",
   "metadata": {},
   "source": [
    "### Q2: Write a python program to scrape data for “Data Scientist” Job position in “Bangalore” location. You have to scrape the job-title, job-location, company_name. You have to scrape first 10 jobs data. This task will be done in following steps:\n",
    "\n",
    "##### 1.First get the webpage https://www.naukri.com/\n",
    "##### 2.Enter “Data Scientist” in “Skill, Designations, Companies” field and enter “Bangalore” in “enter the location” field.\n",
    "##### 3. Then click the search button. \n",
    "##### 4. Then scrape the data for the first 10 jobs results you get. \n",
    "##### 5. Finally create a dataframe of the scraped data. Note: All of the above steps have to be done in code. No step is to be done manually."
   ]
  },
  {
   "cell_type": "code",
   "execution_count": 85,
   "id": "ce6ca1d4",
   "metadata": {},
   "outputs": [],
   "source": [
    "#Cunnecting the web Driver\n",
    "driver=webdriver.Chrome(r'F:\\chromedriver.exe')\n",
    "url='https://www.naukri.com/'\n",
    "driver.get(url)"
   ]
  },
  {
   "cell_type": "code",
   "execution_count": 86,
   "id": "4ead76db",
   "metadata": {},
   "outputs": [
    {
     "data": {
      "text/plain": [
       "<selenium.webdriver.remote.webelement.WebElement (session=\"854aa83b48c63f3c5eb902b101151514\", element=\"c1172dd4-3997-4f74-a9bd-bf017368c2ae\")>"
      ]
     },
     "execution_count": 86,
     "metadata": {},
     "output_type": "execute_result"
    }
   ],
   "source": [
    "# Find web element for search bar using class name\n",
    "search_job = driver.find_element(By.CLASS_NAME,'suggestor-input')\n",
    "search_job"
   ]
  },
  {
   "cell_type": "code",
   "execution_count": 87,
   "id": "6ca74fd5",
   "metadata": {},
   "outputs": [],
   "source": [
    "#write on search bar\n",
    "search_job.send_keys(\"Data Scientist\")"
   ]
  },
  {
   "cell_type": "code",
   "execution_count": 88,
   "id": "b71d10b0",
   "metadata": {},
   "outputs": [
    {
     "data": {
      "text/plain": [
       "<selenium.webdriver.remote.webelement.WebElement (session=\"854aa83b48c63f3c5eb902b101151514\", element=\"d11b2596-8d0c-4cd0-aefd-1627e81d3f2b\")>"
      ]
     },
     "execution_count": 88,
     "metadata": {},
     "output_type": "execute_result"
    }
   ],
   "source": [
    "#Finding web element for search location bar using relative Xpath \n",
    "search_loc = driver.find_element(By.XPATH,\"/html/body/div[1]/div[6]/div/div/div[5]/div/div/div/input\")\n",
    "search_loc"
   ]
  },
  {
   "cell_type": "code",
   "execution_count": 89,
   "id": "aa7d0999",
   "metadata": {},
   "outputs": [],
   "source": [
    "#finding web element for job locatin bar\n",
    "search_loc.send_keys(\"Bangalore\")"
   ]
  },
  {
   "cell_type": "code",
   "execution_count": 90,
   "id": "55587f5f",
   "metadata": {},
   "outputs": [
    {
     "data": {
      "text/plain": [
       "<selenium.webdriver.remote.webelement.WebElement (session=\"854aa83b48c63f3c5eb902b101151514\", element=\"907cd649-a594-4671-9ce4-0ef7972ded1c\")>"
      ]
     },
     "execution_count": 90,
     "metadata": {},
     "output_type": "execute_result"
    }
   ],
   "source": [
    "#clicking using web absolute xpath function \n",
    "search_btn=driver.find_element(By.XPATH,\"/html/body/div[1]/div[6]/div/div/div[6]\")\n",
    "search_btn"
   ]
  },
  {
   "cell_type": "code",
   "execution_count": 91,
   "id": "a0b5921b",
   "metadata": {},
   "outputs": [],
   "source": [
    "search_btn.click()"
   ]
  },
  {
   "cell_type": "code",
   "execution_count": 93,
   "id": "4dd09a33",
   "metadata": {},
   "outputs": [
    {
     "data": {
      "text/plain": [
       "20"
      ]
     },
     "execution_count": 93,
     "metadata": {},
     "output_type": "execute_result"
    }
   ],
   "source": [
    "#extract all the web element having job titles\n",
    "title_tags = driver.find_elements(By.XPATH,'//a[@class=\"title ellipsis\"]')\n",
    "len(title_tags)"
   ]
  },
  {
   "cell_type": "code",
   "execution_count": 94,
   "id": "d80b8b9e",
   "metadata": {},
   "outputs": [
    {
     "data": {
      "text/plain": [
       "20"
      ]
     },
     "execution_count": 94,
     "metadata": {},
     "output_type": "execute_result"
    }
   ],
   "source": [
    "#now the job title is inside the web element , we will run a for loop to extract.\n",
    "job_titles = []\n",
    "\n",
    "for i in title_tags:\n",
    "    job_titles.append(i.text)\n",
    "len(job_titles)"
   ]
  },
  {
   "cell_type": "code",
   "execution_count": 95,
   "id": "a6c3078f",
   "metadata": {},
   "outputs": [
    {
     "data": {
      "text/plain": [
       "20"
      ]
     },
     "execution_count": 95,
     "metadata": {},
     "output_type": "execute_result"
    }
   ],
   "source": [
    "#extract all the web element having location\n",
    "loc_tags = driver.find_elements(By.XPATH,'//span[@class=\"ellipsis fleft locWdth\"]')\n",
    "len(loc_tags)"
   ]
  },
  {
   "cell_type": "code",
   "execution_count": 96,
   "id": "08ee06d9",
   "metadata": {},
   "outputs": [
    {
     "data": {
      "text/plain": [
       "20"
      ]
     },
     "execution_count": 96,
     "metadata": {},
     "output_type": "execute_result"
    }
   ],
   "source": [
    "#now the job location is inside the web element , we will run a for loop to extract.\n",
    "job_loc = []\n",
    "\n",
    "for i in loc_tags:\n",
    "    job_loc.append(i.text)\n",
    "len(job_loc)\n",
    "    "
   ]
  },
  {
   "cell_type": "code",
   "execution_count": 97,
   "id": "d6f9fe62",
   "metadata": {},
   "outputs": [
    {
     "data": {
      "text/plain": [
       "20"
      ]
     },
     "execution_count": 97,
     "metadata": {},
     "output_type": "execute_result"
    }
   ],
   "source": [
    "#extract all the web element having company\n",
    "company_tags = driver.find_elements(By.XPATH,'//a[@class=\"subTitle ellipsis fleft\"]')\n",
    "len(company_tags)"
   ]
  },
  {
   "cell_type": "code",
   "execution_count": 101,
   "id": "5b615225",
   "metadata": {},
   "outputs": [
    {
     "data": {
      "text/plain": [
       "20"
      ]
     },
     "execution_count": 101,
     "metadata": {},
     "output_type": "execute_result"
    }
   ],
   "source": [
    "#now the company name is inside the web element , we will run a for loop to extract.\n",
    "company_names = []\n",
    "\n",
    "for i in company_tags:\n",
    "    company_names.append(i.text)\n",
    "len(company_names)\n",
    "    "
   ]
  },
  {
   "cell_type": "code",
   "execution_count": 102,
   "id": "b67a3795",
   "metadata": {},
   "outputs": [
    {
     "data": {
      "text/html": [
       "<div>\n",
       "<style scoped>\n",
       "    .dataframe tbody tr th:only-of-type {\n",
       "        vertical-align: middle;\n",
       "    }\n",
       "\n",
       "    .dataframe tbody tr th {\n",
       "        vertical-align: top;\n",
       "    }\n",
       "\n",
       "    .dataframe thead th {\n",
       "        text-align: right;\n",
       "    }\n",
       "</style>\n",
       "<table border=\"1\" class=\"dataframe\">\n",
       "  <thead>\n",
       "    <tr style=\"text-align: right;\">\n",
       "      <th></th>\n",
       "      <th>Job Title</th>\n",
       "      <th>Job Location</th>\n",
       "      <th>Company Names</th>\n",
       "    </tr>\n",
       "  </thead>\n",
       "  <tbody>\n",
       "    <tr>\n",
       "      <th>0</th>\n",
       "      <td>Data Scientist</td>\n",
       "      <td>Bangalore/Bengaluru, Noida, Kolkata, Mumbai, H...</td>\n",
       "      <td>Capgemini</td>\n",
       "    </tr>\n",
       "    <tr>\n",
       "      <th>1</th>\n",
       "      <td>Data Scientist</td>\n",
       "      <td>Temp. WFH - Bangalore/Bengaluru, Hyderabad/Sec...</td>\n",
       "      <td>Tech Mahindra</td>\n",
       "    </tr>\n",
       "    <tr>\n",
       "      <th>2</th>\n",
       "      <td>Data Science Specialist</td>\n",
       "      <td>Bangalore/Bengaluru, Kolkata, Mumbai, Hyderaba...</td>\n",
       "      <td>Accenture</td>\n",
       "    </tr>\n",
       "    <tr>\n",
       "      <th>3</th>\n",
       "      <td>Analystics &amp; Modeling Specialist</td>\n",
       "      <td>Bangalore/Bengaluru, Kolkata, Mumbai, Hyderaba...</td>\n",
       "      <td>Accenture</td>\n",
       "    </tr>\n",
       "    <tr>\n",
       "      <th>4</th>\n",
       "      <td>Lead Data Scientist</td>\n",
       "      <td>Bangalore/Bengaluru, Noida, Hyderabad/Secunder...</td>\n",
       "      <td>Birlasoft</td>\n",
       "    </tr>\n",
       "  </tbody>\n",
       "</table>\n",
       "</div>"
      ],
      "text/plain": [
       "                          Job Title  \\\n",
       "0                    Data Scientist   \n",
       "1                    Data Scientist   \n",
       "2           Data Science Specialist   \n",
       "3  Analystics & Modeling Specialist   \n",
       "4               Lead Data Scientist   \n",
       "\n",
       "                                        Job Location  Company Names  \n",
       "0  Bangalore/Bengaluru, Noida, Kolkata, Mumbai, H...      Capgemini  \n",
       "1  Temp. WFH - Bangalore/Bengaluru, Hyderabad/Sec...  Tech Mahindra  \n",
       "2  Bangalore/Bengaluru, Kolkata, Mumbai, Hyderaba...      Accenture  \n",
       "3  Bangalore/Bengaluru, Kolkata, Mumbai, Hyderaba...      Accenture  \n",
       "4  Bangalore/Bengaluru, Noida, Hyderabad/Secunder...      Birlasoft  "
      ]
     },
     "execution_count": 102,
     "metadata": {},
     "output_type": "execute_result"
    }
   ],
   "source": [
    "jobs=pd.DataFrame()\n",
    "jobs['Job Title']=job_titles\n",
    "jobs['Job Location']=job_loc\n",
    "jobs['Company Names']=company_names\n",
    "jobs.head()"
   ]
  },
  {
   "cell_type": "markdown",
   "id": "1cd39151",
   "metadata": {},
   "source": [
    "### Q3: In this question you have to scrape data using the filters available on the webpage as shown below:\n",
    "You have to use the location and salary filter.\n",
    "\n",
    "You have to scrape data for “Data Scientist” designation for first 10 job results.\n",
    "\n",
    "You have to scrape the job-title, job-location, company name, experience required.\n",
    "\n",
    "The location filter to be used is “Delhi/NCR”. \n",
    "\n",
    "The salary filter to be used is “3-6” lakhs"
   ]
  },
  {
   "cell_type": "code",
   "execution_count": 27,
   "id": "b388c482",
   "metadata": {},
   "outputs": [],
   "source": [
    "## importing neccessary libraries\n",
    "import selenium\n",
    "from selenium import webdriver\n",
    "import pandas as pd\n",
    "import warnings\n",
    "warnings.filterwarnings('ignore')\n",
    "from selenium.webdriver.common.by import By\n",
    "import time"
   ]
  },
  {
   "cell_type": "code",
   "execution_count": 28,
   "id": "58c1bdc0",
   "metadata": {},
   "outputs": [],
   "source": [
    "driver=webdriver.Chrome(r\"C:\\Users\\swaro\\Downloads\\chromedriver.exe\")"
   ]
  },
  {
   "cell_type": "code",
   "execution_count": 29,
   "id": "7427792e",
   "metadata": {},
   "outputs": [],
   "source": [
    "url = \"https://www.naukri.com/\"\n",
    "driver.get(url)"
   ]
  },
  {
   "cell_type": "code",
   "execution_count": 30,
   "id": "cc0ca508",
   "metadata": {},
   "outputs": [],
   "source": [
    "# finding element for job search bar\n",
    "search_job = driver.find_element(By.CLASS_NAME,\"suggestor-input \")\n",
    "search_job.send_keys('Data Scientist')"
   ]
  },
  {
   "cell_type": "code",
   "execution_count": 31,
   "id": "c4427664",
   "metadata": {},
   "outputs": [],
   "source": [
    "# finding element for job location bar\n",
    "search_loc=driver.find_element(By.XPATH,'/html/body/div[1]/div[6]/div/div/div[5]/div/div/div/input')\n",
    "search_loc.send_keys(\"Delhi/NCR\")"
   ]
  },
  {
   "cell_type": "code",
   "execution_count": 32,
   "id": "ce439ab4",
   "metadata": {},
   "outputs": [],
   "source": [
    "# clicking using class function\n",
    "search = driver.find_element(By.CLASS_NAME,\"qsbSubmit\")\n",
    "search.click()"
   ]
  },
  {
   "cell_type": "code",
   "execution_count": 34,
   "id": "96afe2a6",
   "metadata": {},
   "outputs": [],
   "source": [
    "# selecting salary filter\n",
    "search_salary = driver.find_element(By.XPATH,'//span[@title=\"3-6 Lakhs\"]')\n",
    "search_salary.click()"
   ]
  },
  {
   "cell_type": "code",
   "execution_count": 35,
   "id": "1b8ded54",
   "metadata": {},
   "outputs": [],
   "source": [
    "# selecting location filter\n",
    "search_location = driver.find_element(By.XPATH,'//span[@title=\"Delhi / NCR\"]')\n",
    "search_location.click()"
   ]
  },
  {
   "cell_type": "code",
   "execution_count": 36,
   "id": "e2d56229",
   "metadata": {},
   "outputs": [
    {
     "data": {
      "text/plain": [
       "[<selenium.webdriver.remote.webelement.WebElement (session=\"aa07da790bc38a893220333903a93142\", element=\"725b8a3c-d91f-4163-93c6-32bac29edb3a\")>,\n",
       " <selenium.webdriver.remote.webelement.WebElement (session=\"aa07da790bc38a893220333903a93142\", element=\"8fbc0757-e973-4d33-820e-7aeb00cba69d\")>,\n",
       " <selenium.webdriver.remote.webelement.WebElement (session=\"aa07da790bc38a893220333903a93142\", element=\"1342d0da-736a-4062-a03a-ec7792c92416\")>,\n",
       " <selenium.webdriver.remote.webelement.WebElement (session=\"aa07da790bc38a893220333903a93142\", element=\"7f662e54-239c-4aeb-be92-1a96cfa9f0fe\")>,\n",
       " <selenium.webdriver.remote.webelement.WebElement (session=\"aa07da790bc38a893220333903a93142\", element=\"7c594669-c3d2-450c-b6b3-6a810f170032\")>,\n",
       " <selenium.webdriver.remote.webelement.WebElement (session=\"aa07da790bc38a893220333903a93142\", element=\"0c5eb2a8-4859-43b6-b6d9-8c05d325f8e3\")>,\n",
       " <selenium.webdriver.remote.webelement.WebElement (session=\"aa07da790bc38a893220333903a93142\", element=\"98a287dc-8705-4c74-be15-5730c5de49fe\")>,\n",
       " <selenium.webdriver.remote.webelement.WebElement (session=\"aa07da790bc38a893220333903a93142\", element=\"241be90f-7fc1-4e31-87a1-3cbf8140bc14\")>,\n",
       " <selenium.webdriver.remote.webelement.WebElement (session=\"aa07da790bc38a893220333903a93142\", element=\"517f910f-bddb-4745-9bbf-f434634484ca\")>,\n",
       " <selenium.webdriver.remote.webelement.WebElement (session=\"aa07da790bc38a893220333903a93142\", element=\"fbfa3ebd-582b-485f-ab0e-3e371834eb8c\")>,\n",
       " <selenium.webdriver.remote.webelement.WebElement (session=\"aa07da790bc38a893220333903a93142\", element=\"52f86e77-cea9-425a-b842-ab811557ec39\")>,\n",
       " <selenium.webdriver.remote.webelement.WebElement (session=\"aa07da790bc38a893220333903a93142\", element=\"4b6eb1f8-c17a-4645-99e7-0072573271c7\")>,\n",
       " <selenium.webdriver.remote.webelement.WebElement (session=\"aa07da790bc38a893220333903a93142\", element=\"d6818c32-1a8d-4cc8-9720-a17371fa6475\")>,\n",
       " <selenium.webdriver.remote.webelement.WebElement (session=\"aa07da790bc38a893220333903a93142\", element=\"941702ee-eee6-4ec6-b5a6-f8915f6a0e60\")>,\n",
       " <selenium.webdriver.remote.webelement.WebElement (session=\"aa07da790bc38a893220333903a93142\", element=\"00017e56-bd4e-4b22-85a4-831b345e5922\")>,\n",
       " <selenium.webdriver.remote.webelement.WebElement (session=\"aa07da790bc38a893220333903a93142\", element=\"d4df03cf-03a5-434b-8e2d-f583b75afbbf\")>,\n",
       " <selenium.webdriver.remote.webelement.WebElement (session=\"aa07da790bc38a893220333903a93142\", element=\"c57fb25a-cc3f-409e-b7dd-b0f7fb1eaf9d\")>,\n",
       " <selenium.webdriver.remote.webelement.WebElement (session=\"aa07da790bc38a893220333903a93142\", element=\"8956d255-44f4-4e14-bb97-453438ad2c06\")>,\n",
       " <selenium.webdriver.remote.webelement.WebElement (session=\"aa07da790bc38a893220333903a93142\", element=\"3f4d4510-5606-4e85-ba74-f1f60c8c58d3\")>,\n",
       " <selenium.webdriver.remote.webelement.WebElement (session=\"aa07da790bc38a893220333903a93142\", element=\"96abf2fd-7f6e-4fb5-94b6-4a91171916f9\")>]"
      ]
     },
     "execution_count": 36,
     "metadata": {},
     "output_type": "execute_result"
    }
   ],
   "source": [
    "#so let's extract all the tags having the job titles\n",
    "title_tags=driver.find_elements(By.XPATH,'//a[@class=\"title ellipsis\"]')\n",
    "title_tags"
   ]
  },
  {
   "cell_type": "code",
   "execution_count": 37,
   "id": "a6f5492d",
   "metadata": {},
   "outputs": [
    {
     "data": {
      "text/plain": [
       "['Senior Software Engineer',\n",
       " \"Probationary Officers' Programme\",\n",
       " 'CitiusTech hiring For VB.NET developer',\n",
       " 'Pyspark Developer',\n",
       " \"We're hiring SAP Data Intelligence Tech Leads, Apply Now!\",\n",
       " 'Data Governance Lead',\n",
       " \"We're hiring TSQL DataWarehosing Leads, Apply Now!\",\n",
       " 'Engineer Sales (Motors)',\n",
       " 'SAP Successfactor Onboarding (2.0) - Wipro Locations',\n",
       " 'SAP BO Developer | 9 - 12 YRS']"
      ]
     },
     "execution_count": 37,
     "metadata": {},
     "output_type": "execute_result"
    }
   ],
   "source": [
    "# extract the text of the job title  from the tags\n",
    "job_titles=[]\n",
    "for i in title_tags:\n",
    "    job_titles.append(i.text)\n",
    "job_titles[:10] "
   ]
  },
  {
   "cell_type": "code",
   "execution_count": 38,
   "id": "90c9c7f7",
   "metadata": {},
   "outputs": [
    {
     "data": {
      "text/plain": [
       "[<selenium.webdriver.remote.webelement.WebElement (session=\"aa07da790bc38a893220333903a93142\", element=\"d24eb437-515c-4b40-ad63-3a5e0c64d15f\")>,\n",
       " <selenium.webdriver.remote.webelement.WebElement (session=\"aa07da790bc38a893220333903a93142\", element=\"b2d2ed41-98f0-4c65-b12a-ff178cc6a8ed\")>,\n",
       " <selenium.webdriver.remote.webelement.WebElement (session=\"aa07da790bc38a893220333903a93142\", element=\"5691ff73-8999-4e49-a20d-a9951e413dbe\")>,\n",
       " <selenium.webdriver.remote.webelement.WebElement (session=\"aa07da790bc38a893220333903a93142\", element=\"714e3657-e6cd-40c5-a7ea-03378d70e0e0\")>,\n",
       " <selenium.webdriver.remote.webelement.WebElement (session=\"aa07da790bc38a893220333903a93142\", element=\"c2fa341b-4457-4126-bbcc-3ae034db3f4f\")>,\n",
       " <selenium.webdriver.remote.webelement.WebElement (session=\"aa07da790bc38a893220333903a93142\", element=\"a0751907-46ff-49cf-9050-4f58fffe479c\")>,\n",
       " <selenium.webdriver.remote.webelement.WebElement (session=\"aa07da790bc38a893220333903a93142\", element=\"381bb8b5-830c-42e7-8305-a416b84988c8\")>,\n",
       " <selenium.webdriver.remote.webelement.WebElement (session=\"aa07da790bc38a893220333903a93142\", element=\"bac97edd-fd7f-42db-a63d-f1e34d54c0d9\")>,\n",
       " <selenium.webdriver.remote.webelement.WebElement (session=\"aa07da790bc38a893220333903a93142\", element=\"5730efa0-4641-4c50-ba53-6c2fe4f1ae44\")>,\n",
       " <selenium.webdriver.remote.webelement.WebElement (session=\"aa07da790bc38a893220333903a93142\", element=\"cf33c042-7fcd-42c3-8447-57efdb0ebd03\")>,\n",
       " <selenium.webdriver.remote.webelement.WebElement (session=\"aa07da790bc38a893220333903a93142\", element=\"fee881f5-784f-408e-bc06-0922fc8aa256\")>,\n",
       " <selenium.webdriver.remote.webelement.WebElement (session=\"aa07da790bc38a893220333903a93142\", element=\"219e793c-f12f-4121-81c9-fb12bfb276ac\")>,\n",
       " <selenium.webdriver.remote.webelement.WebElement (session=\"aa07da790bc38a893220333903a93142\", element=\"1cf8b160-d056-4353-be00-856e08be7084\")>,\n",
       " <selenium.webdriver.remote.webelement.WebElement (session=\"aa07da790bc38a893220333903a93142\", element=\"b18c6be1-7ff6-44e9-a06e-1283cb3a4ba1\")>,\n",
       " <selenium.webdriver.remote.webelement.WebElement (session=\"aa07da790bc38a893220333903a93142\", element=\"11f93a7a-f6f1-4500-a985-1050cf9347f8\")>,\n",
       " <selenium.webdriver.remote.webelement.WebElement (session=\"aa07da790bc38a893220333903a93142\", element=\"978cfcd3-a29d-4f47-8907-eed979886e33\")>,\n",
       " <selenium.webdriver.remote.webelement.WebElement (session=\"aa07da790bc38a893220333903a93142\", element=\"6bb715f4-83e9-44dc-b1ad-ce6cd0ad20a6\")>,\n",
       " <selenium.webdriver.remote.webelement.WebElement (session=\"aa07da790bc38a893220333903a93142\", element=\"80a6cc44-8fe0-4544-86fd-0c4348d60702\")>,\n",
       " <selenium.webdriver.remote.webelement.WebElement (session=\"aa07da790bc38a893220333903a93142\", element=\"5e7a5b37-6314-4817-a386-8e1b27768c27\")>,\n",
       " <selenium.webdriver.remote.webelement.WebElement (session=\"aa07da790bc38a893220333903a93142\", element=\"5d08ca7f-c40a-4bf3-bdc4-5fb98c58e4e1\")>]"
      ]
     },
     "execution_count": 38,
     "metadata": {},
     "output_type": "execute_result"
    }
   ],
   "source": [
    "# lets extract all the tags having company names\n",
    "company_tags=driver.find_elements(By.XPATH,'//a[@class=\"subTitle ellipsis fleft\"]')                             \n",
    "company_tags"
   ]
  },
  {
   "cell_type": "code",
   "execution_count": 39,
   "id": "edb7cf08",
   "metadata": {},
   "outputs": [
    {
     "data": {
      "text/plain": [
       "['Capgemini',\n",
       " 'Icici Bank',\n",
       " 'Citiustech',\n",
       " 'Hexaware Technologies',\n",
       " 'Hexaware Technologies',\n",
       " 'Hexaware Technologies',\n",
       " 'Hexaware Technologies',\n",
       " 'Bharat Bijlee',\n",
       " 'Wipro',\n",
       " 'Capgemini']"
      ]
     },
     "execution_count": 39,
     "metadata": {},
     "output_type": "execute_result"
    }
   ],
   "source": [
    "# Now we will extract the text from the tags by looping over these tags\n",
    "companies_names=[]\n",
    "\n",
    "for i in company_tags:\n",
    "    companies_names.append(i.text)\n",
    "companies_names[:10] "
   ]
  },
  {
   "cell_type": "code",
   "execution_count": 40,
   "id": "be4fcbb0",
   "metadata": {},
   "outputs": [
    {
     "data": {
      "text/plain": [
       "[<selenium.webdriver.remote.webelement.WebElement (session=\"aa07da790bc38a893220333903a93142\", element=\"8af7c498-8464-4d34-afa1-0421b1836d80\")>,\n",
       " <selenium.webdriver.remote.webelement.WebElement (session=\"aa07da790bc38a893220333903a93142\", element=\"559db297-38cb-409e-b66c-abc94e78c7d6\")>,\n",
       " <selenium.webdriver.remote.webelement.WebElement (session=\"aa07da790bc38a893220333903a93142\", element=\"5a644c85-075f-4b26-8dc0-b04bee03afd0\")>,\n",
       " <selenium.webdriver.remote.webelement.WebElement (session=\"aa07da790bc38a893220333903a93142\", element=\"15d7fd4c-675c-48ab-94ec-c79da1e5f52c\")>,\n",
       " <selenium.webdriver.remote.webelement.WebElement (session=\"aa07da790bc38a893220333903a93142\", element=\"dae57c9f-37e8-4567-8c38-d0c88438226b\")>,\n",
       " <selenium.webdriver.remote.webelement.WebElement (session=\"aa07da790bc38a893220333903a93142\", element=\"4924a448-9939-40bc-b988-4d04a870cc53\")>,\n",
       " <selenium.webdriver.remote.webelement.WebElement (session=\"aa07da790bc38a893220333903a93142\", element=\"67c59934-ac2f-4f86-941a-bb63b20b1d65\")>,\n",
       " <selenium.webdriver.remote.webelement.WebElement (session=\"aa07da790bc38a893220333903a93142\", element=\"9b6a2933-d300-43e3-bb10-91c74f2de8b3\")>,\n",
       " <selenium.webdriver.remote.webelement.WebElement (session=\"aa07da790bc38a893220333903a93142\", element=\"f9124770-0a4f-463c-a3eb-01ff8404081a\")>,\n",
       " <selenium.webdriver.remote.webelement.WebElement (session=\"aa07da790bc38a893220333903a93142\", element=\"69073a33-7787-48eb-86a8-68d62abb76a1\")>,\n",
       " <selenium.webdriver.remote.webelement.WebElement (session=\"aa07da790bc38a893220333903a93142\", element=\"bb9b3eb8-763b-4547-82e9-2d310c47e90c\")>,\n",
       " <selenium.webdriver.remote.webelement.WebElement (session=\"aa07da790bc38a893220333903a93142\", element=\"ca7ca3a3-2b42-4623-b048-85c282b1e909\")>,\n",
       " <selenium.webdriver.remote.webelement.WebElement (session=\"aa07da790bc38a893220333903a93142\", element=\"2d957ef3-163a-4a75-b50e-6dec338bfd6a\")>,\n",
       " <selenium.webdriver.remote.webelement.WebElement (session=\"aa07da790bc38a893220333903a93142\", element=\"17fdc316-31b2-4429-ae7d-5f4b74acbf72\")>,\n",
       " <selenium.webdriver.remote.webelement.WebElement (session=\"aa07da790bc38a893220333903a93142\", element=\"6282c9d9-e186-4001-ae92-c9c89fceb693\")>,\n",
       " <selenium.webdriver.remote.webelement.WebElement (session=\"aa07da790bc38a893220333903a93142\", element=\"4efae96a-ff4e-4caf-903c-9131ceac10ac\")>,\n",
       " <selenium.webdriver.remote.webelement.WebElement (session=\"aa07da790bc38a893220333903a93142\", element=\"9d38e6fe-0583-4a23-9eed-06b6719e5e6a\")>,\n",
       " <selenium.webdriver.remote.webelement.WebElement (session=\"aa07da790bc38a893220333903a93142\", element=\"f7dbd657-07e4-4a69-a738-b3145e276348\")>,\n",
       " <selenium.webdriver.remote.webelement.WebElement (session=\"aa07da790bc38a893220333903a93142\", element=\"020ee83a-593c-4323-89b0-266fde556fa6\")>,\n",
       " <selenium.webdriver.remote.webelement.WebElement (session=\"aa07da790bc38a893220333903a93142\", element=\"3a7d4a63-5d54-4e14-b11c-12fdfe024e0b\")>]"
      ]
     },
     "execution_count": 40,
     "metadata": {},
     "output_type": "execute_result"
    }
   ],
   "source": [
    "# so lets extract  all the tags having the experience required data\n",
    "experience_tags=driver.find_elements(By.XPATH,'//span[@class=\"ellipsis fleft expwdth\"]')\n",
    "experience_tags"
   ]
  },
  {
   "cell_type": "code",
   "execution_count": 41,
   "id": "00145f1e",
   "metadata": {},
   "outputs": [
    {
     "data": {
      "text/plain": [
       "['4-9 Yrs',\n",
       " '0-5 Yrs',\n",
       " '5-8 Yrs',\n",
       " '6-11 Yrs',\n",
       " '9-12 Yrs',\n",
       " '5-9 Yrs',\n",
       " '5-8 Yrs',\n",
       " '5-12 Yrs',\n",
       " '7-12 Yrs',\n",
       " '9-12 Yrs']"
      ]
     },
     "execution_count": 41,
     "metadata": {},
     "output_type": "execute_result"
    }
   ],
   "source": [
    "# no we will extract the text  from these tags only by one by looping over these tags\n",
    "experience_list=[]\n",
    "\n",
    "for i in experience_tags:\n",
    "    experience_list.append(i.text)\n",
    "experience_list[:10] "
   ]
  },
  {
   "cell_type": "code",
   "execution_count": 44,
   "id": "ddffaa4a",
   "metadata": {},
   "outputs": [
    {
     "data": {
      "text/plain": [
       "[<selenium.webdriver.remote.webelement.WebElement (session=\"aa07da790bc38a893220333903a93142\", element=\"375bf057-212a-49b4-bd97-ce2a1513ea79\")>,\n",
       " <selenium.webdriver.remote.webelement.WebElement (session=\"aa07da790bc38a893220333903a93142\", element=\"6ce6b225-9a4f-45ef-bf1b-bd8fec3e64f3\")>,\n",
       " <selenium.webdriver.remote.webelement.WebElement (session=\"aa07da790bc38a893220333903a93142\", element=\"39d2c932-a224-465a-8e68-4ad93606218a\")>,\n",
       " <selenium.webdriver.remote.webelement.WebElement (session=\"aa07da790bc38a893220333903a93142\", element=\"76c9b83c-47c9-4a6e-b2f5-6b864fb4420b\")>,\n",
       " <selenium.webdriver.remote.webelement.WebElement (session=\"aa07da790bc38a893220333903a93142\", element=\"4aebfdcd-c417-433f-a83b-3ec055b90771\")>,\n",
       " <selenium.webdriver.remote.webelement.WebElement (session=\"aa07da790bc38a893220333903a93142\", element=\"a9f61a33-c6c1-42a9-84fe-b54e3d1a0c84\")>,\n",
       " <selenium.webdriver.remote.webelement.WebElement (session=\"aa07da790bc38a893220333903a93142\", element=\"1b87838e-e7ed-4638-b301-3438f6501bf5\")>,\n",
       " <selenium.webdriver.remote.webelement.WebElement (session=\"aa07da790bc38a893220333903a93142\", element=\"52063eec-76e0-450e-a39d-991cc45c38e4\")>,\n",
       " <selenium.webdriver.remote.webelement.WebElement (session=\"aa07da790bc38a893220333903a93142\", element=\"078ca5dd-1d6f-446e-a570-0ee3e7a80623\")>,\n",
       " <selenium.webdriver.remote.webelement.WebElement (session=\"aa07da790bc38a893220333903a93142\", element=\"7e8248ff-a13b-4717-a778-bdb6274fa98f\")>,\n",
       " <selenium.webdriver.remote.webelement.WebElement (session=\"aa07da790bc38a893220333903a93142\", element=\"106df5aa-7910-4f95-8eed-38cddad8b322\")>,\n",
       " <selenium.webdriver.remote.webelement.WebElement (session=\"aa07da790bc38a893220333903a93142\", element=\"074e5e6e-1147-4f01-976d-eb15ac9920d8\")>,\n",
       " <selenium.webdriver.remote.webelement.WebElement (session=\"aa07da790bc38a893220333903a93142\", element=\"96f2a0b3-851b-47ed-9b50-11ce6b456e9e\")>,\n",
       " <selenium.webdriver.remote.webelement.WebElement (session=\"aa07da790bc38a893220333903a93142\", element=\"6686de8e-5793-4ec8-af87-4a785d6d88d1\")>,\n",
       " <selenium.webdriver.remote.webelement.WebElement (session=\"aa07da790bc38a893220333903a93142\", element=\"3107bb9c-bec6-41f6-b854-e3a2fb3feb56\")>,\n",
       " <selenium.webdriver.remote.webelement.WebElement (session=\"aa07da790bc38a893220333903a93142\", element=\"bc8f82dd-fe3c-46d8-baa9-a11ca50b933a\")>,\n",
       " <selenium.webdriver.remote.webelement.WebElement (session=\"aa07da790bc38a893220333903a93142\", element=\"53887c81-7812-4275-b487-552b0d0d2a1b\")>,\n",
       " <selenium.webdriver.remote.webelement.WebElement (session=\"aa07da790bc38a893220333903a93142\", element=\"77c0580b-aa80-4208-a516-9cfb2a62d340\")>,\n",
       " <selenium.webdriver.remote.webelement.WebElement (session=\"aa07da790bc38a893220333903a93142\", element=\"5c4cf939-3b3d-48ca-b1cc-fa4d012dfa30\")>,\n",
       " <selenium.webdriver.remote.webelement.WebElement (session=\"aa07da790bc38a893220333903a93142\", element=\"40b67e0c-38a6-466d-8364-787bacfab502\")>]"
      ]
     },
     "execution_count": 44,
     "metadata": {},
     "output_type": "execute_result"
    }
   ],
   "source": [
    "locations_tags=driver.find_elements(By.XPATH,'//span[@class=\"ellipsis fleft locWdth\"]')\n",
    "locations_tags"
   ]
  },
  {
   "cell_type": "code",
   "execution_count": 45,
   "id": "90cefdc1",
   "metadata": {},
   "outputs": [
    {
     "data": {
      "text/plain": [
       "['Hybrid - Delhi / NCR, Kolkata, Hyderabad/Secunderabad, Pune, Ahmedabad, Chennai, Bangalore/Bengaluru, Mumbai (All Areas), India',\n",
       " 'Delhi / NCR, Kolkata, Hyderabad/Secunderabad, Pune, Ahmedabad, Chennai, Bangalore/Bengaluru, Mumbai (All Areas)',\n",
       " 'Hybrid - Hyderabad/Secunderabad, Pune, Gurgaon/Gurugram, Chennai, Bangalore/Bengaluru, Mumbai (All Areas)',\n",
       " 'Temp. WFH - Delhi / NCR, Navi Mumbai, Pune, Chennai, Bangalore/Bengaluru, Mumbai (All Areas)',\n",
       " 'Temp. WFH - Delhi / NCR, Navi Mumbai, Pune, Chennai, Bangalore/Bengaluru, Mumbai (All Areas)',\n",
       " 'Temp. WFH - Delhi / NCR, Noida, Navi Mumbai, Pune, Chennai, Bangalore/Bengaluru, Mumbai (All Areas)',\n",
       " 'Temp. WFH - Noida, Navi Mumbai, Pune, Chennai, Bangalore/Bengaluru, Mumbai (All Areas)',\n",
       " 'Kolkata, Mumbai, New Delhi, Hyderabad/Secunderabad, Pune, Chennai, Ahmedabad, Bangalore/Bengaluru',\n",
       " 'Noida, Bhubaneswar, Kolkata, Mumbai, Hyderabad/Secunderabad, Pune, Chennai, Bangalore/Bengaluru',\n",
       " 'Hybrid - Delhi / NCR, Kolkata, Hyderabad/Secunderabad, Pune, Ahmedabad, Chennai, Bangalore/Bengaluru, Mumbai (All Areas)']"
      ]
     },
     "execution_count": 45,
     "metadata": {},
     "output_type": "execute_result"
    }
   ],
   "source": [
    "locations_list=[]\n",
    "for i in locations_tags:\n",
    "    locations_list.append(i.text)\n",
    "locations_list[:10]"
   ]
  },
  {
   "cell_type": "code",
   "execution_count": 46,
   "id": "38498c26",
   "metadata": {},
   "outputs": [
    {
     "name": "stdout",
     "output_type": "stream",
     "text": [
      "10\n",
      "10\n",
      "10\n",
      "10\n"
     ]
    },
    {
     "data": {
      "text/plain": [
       "(None, None, None, None)"
      ]
     },
     "execution_count": 46,
     "metadata": {},
     "output_type": "execute_result"
    }
   ],
   "source": [
    "#So lets check th length of ech element.\n",
    "print(len(job_titles[:10])),print(len(companies_names[:10])),print(len(experience_list[:10])),print(len(locations_list[:10]))"
   ]
  },
  {
   "cell_type": "code",
   "execution_count": 47,
   "id": "5d09170c",
   "metadata": {},
   "outputs": [
    {
     "data": {
      "text/html": [
       "<div>\n",
       "<style scoped>\n",
       "    .dataframe tbody tr th:only-of-type {\n",
       "        vertical-align: middle;\n",
       "    }\n",
       "\n",
       "    .dataframe tbody tr th {\n",
       "        vertical-align: top;\n",
       "    }\n",
       "\n",
       "    .dataframe thead th {\n",
       "        text-align: right;\n",
       "    }\n",
       "</style>\n",
       "<table border=\"1\" class=\"dataframe\">\n",
       "  <thead>\n",
       "    <tr style=\"text-align: right;\">\n",
       "      <th></th>\n",
       "      <th>Job_title</th>\n",
       "      <th>Company_name</th>\n",
       "      <th>Experience_required</th>\n",
       "      <th>Job_location</th>\n",
       "    </tr>\n",
       "  </thead>\n",
       "  <tbody>\n",
       "    <tr>\n",
       "      <th>0</th>\n",
       "      <td>Senior Software Engineer</td>\n",
       "      <td>Capgemini</td>\n",
       "      <td>4-9 Yrs</td>\n",
       "      <td>Hybrid - Delhi / NCR, Kolkata, Hyderabad/Secun...</td>\n",
       "    </tr>\n",
       "    <tr>\n",
       "      <th>1</th>\n",
       "      <td>Probationary Officers' Programme</td>\n",
       "      <td>Icici Bank</td>\n",
       "      <td>0-5 Yrs</td>\n",
       "      <td>Delhi / NCR, Kolkata, Hyderabad/Secunderabad, ...</td>\n",
       "    </tr>\n",
       "    <tr>\n",
       "      <th>2</th>\n",
       "      <td>CitiusTech hiring For VB.NET developer</td>\n",
       "      <td>Citiustech</td>\n",
       "      <td>5-8 Yrs</td>\n",
       "      <td>Hybrid - Hyderabad/Secunderabad, Pune, Gurgaon...</td>\n",
       "    </tr>\n",
       "    <tr>\n",
       "      <th>3</th>\n",
       "      <td>Pyspark Developer</td>\n",
       "      <td>Hexaware Technologies</td>\n",
       "      <td>6-11 Yrs</td>\n",
       "      <td>Temp. WFH - Delhi / NCR, Navi Mumbai, Pune, Ch...</td>\n",
       "    </tr>\n",
       "    <tr>\n",
       "      <th>4</th>\n",
       "      <td>We're hiring SAP Data Intelligence Tech Leads,...</td>\n",
       "      <td>Hexaware Technologies</td>\n",
       "      <td>9-12 Yrs</td>\n",
       "      <td>Temp. WFH - Delhi / NCR, Navi Mumbai, Pune, Ch...</td>\n",
       "    </tr>\n",
       "    <tr>\n",
       "      <th>5</th>\n",
       "      <td>Data Governance Lead</td>\n",
       "      <td>Hexaware Technologies</td>\n",
       "      <td>5-9 Yrs</td>\n",
       "      <td>Temp. WFH - Delhi / NCR, Noida, Navi Mumbai, P...</td>\n",
       "    </tr>\n",
       "    <tr>\n",
       "      <th>6</th>\n",
       "      <td>We're hiring TSQL DataWarehosing Leads, Apply ...</td>\n",
       "      <td>Hexaware Technologies</td>\n",
       "      <td>5-8 Yrs</td>\n",
       "      <td>Temp. WFH - Noida, Navi Mumbai, Pune, Chennai,...</td>\n",
       "    </tr>\n",
       "    <tr>\n",
       "      <th>7</th>\n",
       "      <td>Engineer Sales (Motors)</td>\n",
       "      <td>Bharat Bijlee</td>\n",
       "      <td>5-12 Yrs</td>\n",
       "      <td>Kolkata, Mumbai, New Delhi, Hyderabad/Secunder...</td>\n",
       "    </tr>\n",
       "    <tr>\n",
       "      <th>8</th>\n",
       "      <td>SAP Successfactor Onboarding (2.0) - Wipro Loc...</td>\n",
       "      <td>Wipro</td>\n",
       "      <td>7-12 Yrs</td>\n",
       "      <td>Noida, Bhubaneswar, Kolkata, Mumbai, Hyderabad...</td>\n",
       "    </tr>\n",
       "    <tr>\n",
       "      <th>9</th>\n",
       "      <td>SAP BO Developer | 9 - 12 YRS</td>\n",
       "      <td>Capgemini</td>\n",
       "      <td>9-12 Yrs</td>\n",
       "      <td>Hybrid - Delhi / NCR, Kolkata, Hyderabad/Secun...</td>\n",
       "    </tr>\n",
       "  </tbody>\n",
       "</table>\n",
       "</div>"
      ],
      "text/plain": [
       "                                           Job_title           Company_name  \\\n",
       "0                           Senior Software Engineer              Capgemini   \n",
       "1                   Probationary Officers' Programme             Icici Bank   \n",
       "2             CitiusTech hiring For VB.NET developer             Citiustech   \n",
       "3                                  Pyspark Developer  Hexaware Technologies   \n",
       "4  We're hiring SAP Data Intelligence Tech Leads,...  Hexaware Technologies   \n",
       "5                               Data Governance Lead  Hexaware Technologies   \n",
       "6  We're hiring TSQL DataWarehosing Leads, Apply ...  Hexaware Technologies   \n",
       "7                            Engineer Sales (Motors)          Bharat Bijlee   \n",
       "8  SAP Successfactor Onboarding (2.0) - Wipro Loc...                  Wipro   \n",
       "9                      SAP BO Developer | 9 - 12 YRS              Capgemini   \n",
       "\n",
       "  Experience_required                                       Job_location  \n",
       "0             4-9 Yrs  Hybrid - Delhi / NCR, Kolkata, Hyderabad/Secun...  \n",
       "1             0-5 Yrs  Delhi / NCR, Kolkata, Hyderabad/Secunderabad, ...  \n",
       "2             5-8 Yrs  Hybrid - Hyderabad/Secunderabad, Pune, Gurgaon...  \n",
       "3            6-11 Yrs  Temp. WFH - Delhi / NCR, Navi Mumbai, Pune, Ch...  \n",
       "4            9-12 Yrs  Temp. WFH - Delhi / NCR, Navi Mumbai, Pune, Ch...  \n",
       "5             5-9 Yrs  Temp. WFH - Delhi / NCR, Noida, Navi Mumbai, P...  \n",
       "6             5-8 Yrs  Temp. WFH - Noida, Navi Mumbai, Pune, Chennai,...  \n",
       "7            5-12 Yrs  Kolkata, Mumbai, New Delhi, Hyderabad/Secunder...  \n",
       "8            7-12 Yrs  Noida, Bhubaneswar, Kolkata, Mumbai, Hyderabad...  \n",
       "9            9-12 Yrs  Hybrid - Delhi / NCR, Kolkata, Hyderabad/Secun...  "
      ]
     },
     "execution_count": 47,
     "metadata": {},
     "output_type": "execute_result"
    }
   ],
   "source": [
    "### Creating a Data Frame\n",
    "jobs1=pd.DataFrame({'Job_title':job_titles[:10],'Company_name':companies_names[:10],'Experience_required':experience_list[:10],'Job_location':locations_list[:10]})\n",
    "jobs1"
   ]
  },
  {
   "cell_type": "code",
   "execution_count": 48,
   "id": "469c6e0c",
   "metadata": {},
   "outputs": [],
   "source": [
    "driver.close()"
   ]
  },
  {
   "cell_type": "code",
   "execution_count": 49,
   "id": "9221d51a",
   "metadata": {},
   "outputs": [],
   "source": [
    "from selenium.common.exceptions import NoSuchElementException"
   ]
  },
  {
   "cell_type": "markdown",
   "id": "84b913e4",
   "metadata": {},
   "source": [
    "## Q4: Scrape data of first 100 sunglasses listings on flipkart.com. You have to scrape four attributes:\n",
    "#### Brand\n",
    "#### Product Description\n",
    "#### Price"
   ]
  },
  {
   "cell_type": "code",
   "execution_count": 50,
   "id": "6815be3c",
   "metadata": {},
   "outputs": [],
   "source": [
    "driver=webdriver.Chrome(r\"C:\\Users\\swaro\\Downloads\\chromedriver.exe\")"
   ]
  },
  {
   "cell_type": "code",
   "execution_count": 51,
   "id": "dbac2498",
   "metadata": {},
   "outputs": [],
   "source": [
    "url = \"https://www.flipkart.com/\"\n",
    "driver.get(url)"
   ]
  },
  {
   "cell_type": "code",
   "execution_count": 52,
   "id": "f610cc05",
   "metadata": {},
   "outputs": [],
   "source": [
    "# finding element on search bar\n",
    "search_g= driver.find_element(By.XPATH,(\"/html/body/div[1]/div/div[1]/div[1]/div[2]/div[2]/form/div/div/input\"))\n",
    "search_g.send_keys('sunglasses')"
   ]
  },
  {
   "cell_type": "code",
   "execution_count": 54,
   "id": "e14796a6",
   "metadata": {},
   "outputs": [],
   "source": [
    "# clicking using class function\n",
    "search = driver.find_element(By.CLASS_NAME,\"L0Z3Pu\")\n",
    "search.click()"
   ]
  },
  {
   "cell_type": "code",
   "execution_count": 55,
   "id": "72cb1604",
   "metadata": {},
   "outputs": [],
   "source": [
    "#creating empty lists to scrap data for 100 products\n",
    "brand_name=[]\n",
    "product_description=[]\n",
    "price=[]\n"
   ]
  },
  {
   "cell_type": "code",
   "execution_count": 57,
   "id": "79994cf8",
   "metadata": {},
   "outputs": [],
   "source": [
    "#scrapting all the tags having Brand names\n",
    "brand_tags=driver.find_elements(By.CLASS_NAME,\"_2WkVRV\")"
   ]
  },
  {
   "cell_type": "code",
   "execution_count": 58,
   "id": "2e20f53a",
   "metadata": {},
   "outputs": [
    {
     "data": {
      "text/plain": [
       "['like future',\n",
       " 'ROZZETTA CRAFT',\n",
       " 'Fastrack',\n",
       " 'Elligator',\n",
       " 'Fastrack',\n",
       " 'Elligator',\n",
       " 'PHENOMENAL',\n",
       " 'ROZZETTA CRAFT',\n",
       " 'Elligator',\n",
       " 'SRPM',\n",
       " 'VINCENT CHASE',\n",
       " 'Dervin',\n",
       " 'Elligator',\n",
       " 'LIZA ANGEL',\n",
       " 'SRPM',\n",
       " 'Silver Kartz',\n",
       " 'New Specs',\n",
       " 'PIRASO',\n",
       " 'SHAAH COLLECTIONS',\n",
       " 'hayden haiza',\n",
       " 'VINCENT CHASE',\n",
       " 'kingsunglasses',\n",
       " 'LIZA ANGEL',\n",
       " 'CART2DEAL',\n",
       " 'Fastrack',\n",
       " 'PIRASO',\n",
       " 'SRPM',\n",
       " 'TheWhoop',\n",
       " 'Sewell',\n",
       " 'LIZA ANGEL',\n",
       " 'SUNBEE',\n",
       " 'Fair-x',\n",
       " 'PIRASO',\n",
       " 'ROZZETTA CRAFT',\n",
       " 'PIRASO',\n",
       " 'RESIST EYEWEAR',\n",
       " 'Fastrack',\n",
       " 'EYELLUSION',\n",
       " 'Fastrack',\n",
       " 'CART2DEAL']"
      ]
     },
     "execution_count": 58,
     "metadata": {},
     "output_type": "execute_result"
    }
   ],
   "source": [
    "#displaying the tags extracted above into text \n",
    "for i in brand_tags:\n",
    "    brand_name.append(i.text)\n",
    "brand_name[0:40]"
   ]
  },
  {
   "cell_type": "code",
   "execution_count": 60,
   "id": "3f8612a7",
   "metadata": {},
   "outputs": [],
   "source": [
    "#to display the next 20 results in the next page\n",
    "next_page2=driver.find_element(By.XPATH,'/html/body/div[1]/div/div[3]/div[1]/div[2]/div[12]/div/div/nav/a[11]')\n",
    "next_page2.click()"
   ]
  },
  {
   "cell_type": "code",
   "execution_count": 61,
   "id": "dc3105cb",
   "metadata": {},
   "outputs": [
    {
     "data": {
      "text/plain": [
       "['Fastrack',\n",
       " 'Rich Club',\n",
       " 'Fastrack',\n",
       " 'like future',\n",
       " 'NuVew',\n",
       " 'EYELLUSION',\n",
       " 'Fastrack',\n",
       " 'ROZZETTA CRAFT',\n",
       " 'Elligator',\n",
       " 'SUNBEE',\n",
       " 'New Specs',\n",
       " 'Singco India',\n",
       " 'NuVew',\n",
       " 'PIRASO',\n",
       " 'kingsunglasses',\n",
       " 'Dervin',\n",
       " 'Fastrack',\n",
       " 'New Specs',\n",
       " 'PIRASO',\n",
       " 'hayden haiza']"
      ]
     },
     "execution_count": 61,
     "metadata": {},
     "output_type": "execute_result"
    }
   ],
   "source": [
    "#creating a list to display the results on the 3rd page\n",
    "brand_name2=[]\n",
    "\n",
    "#scrapting all the tags having Brand names from page 3\n",
    "brand_tags3=driver.find_elements(By.CLASS_NAME,\"_2WkVRV\")\n",
    "\n",
    "#displaying the tags extracted above into text \n",
    "for i in brand_tags3:\n",
    "    brand_name2.append(i.text)\n",
    "brand_name2[0:20]"
   ]
  },
  {
   "cell_type": "code",
   "execution_count": 62,
   "id": "52a7488a",
   "metadata": {},
   "outputs": [
    {
     "data": {
      "text/plain": [
       "['UV Protection Wayfarer Sunglasses (Free Size)',\n",
       " 'UV Protection Retro Square Sunglasses (54)',\n",
       " 'Gradient, UV Protection Wayfarer Sunglasses (Free Size)',\n",
       " 'UV Protection Rectangular Sunglasses (Free Size)',\n",
       " 'UV Protection, Mirrored Wayfarer Sunglasses (58)',\n",
       " 'Night Vision, Polarized, UV Protection, Riding Glasses ...',\n",
       " 'UV Protection Wayfarer Sunglasses (Free Size)',\n",
       " 'UV Protection Aviator Sunglasses (55)',\n",
       " 'UV Protection Round Sunglasses (53)',\n",
       " 'UV Protection Cat-eye Sunglasses (Free Size)',\n",
       " 'UV Protection Retro Square Sunglasses (Free Size)',\n",
       " 'Gradient, Toughened Glass Lens, UV Protection Retro Squ...',\n",
       " 'UV Protection, Mirrored Wayfarer, Rectangular Sunglasse...',\n",
       " 'UV Protection Wayfarer Sunglasses (32)',\n",
       " 'UV Protection, Night Vision Wayfarer Sunglasses (Free S...',\n",
       " 'UV Protection Wayfarer Sunglasses (Free Size)',\n",
       " 'Polarized Retro Square Sunglasses (Free Size)',\n",
       " 'UV Protection, Night Vision Retro Square Sunglasses (Fr...',\n",
       " 'UV Protection Aviator Sunglasses (Free Size)',\n",
       " 'UV Protection Cat-eye Sunglasses (46)',\n",
       " 'UV Protection Aviator, Wayfarer Sunglasses (54)',\n",
       " 'Others Cat-eye, Retro Square, Wayfarer Sunglasses (54)',\n",
       " 'UV Protection, Polarized Wayfarer Sunglasses (Free Size...',\n",
       " 'UV Protection Aviator Sunglasses (88)',\n",
       " 'UV Protection Shield Sunglasses (Free Size)',\n",
       " 'Polarized, UV Protection Round Sunglasses (51)',\n",
       " 'UV Protection Wayfarer Sunglasses (Free Size)',\n",
       " 'Riding Glasses, UV Protection, Mirrored Retro Square Su...',\n",
       " 'by Lenskart Polarized, UV Protection Aviator Sunglasses...',\n",
       " 'UV Protection Rectangular, Retro Square Sunglasses (58)',\n",
       " 'UV Protection Aviator Sunglasses (54)',\n",
       " 'UV Protection, Gradient Rectangular Sunglasses (Free Si...',\n",
       " 'UV Protection Wayfarer Sunglasses (53)',\n",
       " 'UV Protection Rectangular Sunglasses (Free Size)',\n",
       " 'UV Protection, Mirrored Wayfarer Sunglasses (54)',\n",
       " 'UV Protection, Gradient Over-sized Sunglasses (Free Siz...',\n",
       " 'UV Protection, Riding Glasses, Gradient Aviator Sunglas...',\n",
       " 'UV Protection Aviator Sunglasses (62)',\n",
       " 'UV Protection Shield Sunglasses (Free Size)',\n",
       " 'UV Protection Aviator Sunglasses (58)']"
      ]
     },
     "execution_count": 62,
     "metadata": {},
     "output_type": "execute_result"
    }
   ],
   "source": [
    "#scrapting all the tags having product description\n",
    "product_tags=driver.find_elements(By.CLASS_NAME,\"IRpwTa\")\n",
    "product_tags[0:40]\n",
    "#displaying 40 tags extracted above into text \n",
    "for i in product_tags:\n",
    "    product_description.append(i.text)\n",
    "product_description[0:40]"
   ]
  },
  {
   "cell_type": "code",
   "execution_count": 63,
   "id": "795e871f",
   "metadata": {},
   "outputs": [],
   "source": [
    "#to display the next 40 results in the next page\n",
    "next_page3=driver.find_element(By.XPATH,'/html/body/div[1]/div/div[3]/div[1]/div[2]/div[12]/div/div/nav/a[12]')\n",
    "next_page3.click()"
   ]
  },
  {
   "cell_type": "code",
   "execution_count": 64,
   "id": "c58fddb2",
   "metadata": {},
   "outputs": [
    {
     "data": {
      "text/plain": [
       "['Mirrored, UV Protection Aviator Sunglasses (58)',\n",
       " 'Others Spectacle Sunglasses (Free Size)',\n",
       " 'UV Protection Wayfarer Sunglasses (Free Size)',\n",
       " 'UV Protection Rectangular Sunglasses (Free Size)',\n",
       " 'Polarized, UV Protection Round Sunglasses (51)',\n",
       " 'by Lenskart Polarized, UV Protection Aviator Sunglasses...',\n",
       " 'Mirrored Aviator Sunglasses (55)',\n",
       " 'UV Protection, Gradient Rectangular Sunglasses (Free Si...',\n",
       " 'UV Protection Over-sized Sunglasses (65)',\n",
       " 'Polarized, UV Protection Round Sunglasses (50)',\n",
       " 'UV Protection Wayfarer Sunglasses (53)',\n",
       " 'UV Protection Aviator Sunglasses (55)',\n",
       " 'UV Protection Cat-eye Sunglasses (Free Size)',\n",
       " 'UV Protection Wrap-around Sunglasses (Free Size)',\n",
       " 'UV Protection, Mirrored Aviator Sunglasses (57)',\n",
       " 'Gradient, Toughened Glass Lens, UV Protection Retro Squ...',\n",
       " 'UV Protection Rectangular Sunglasses (55)',\n",
       " 'Polarized Wayfarer Sunglasses (53)',\n",
       " 'UV Protection, Gradient Rectangular Sunglasses (Free Si...',\n",
       " 'UV Protection Wayfarer Sunglasses (Free Size)',\n",
       " 'UV Protection Wayfarer Sunglasses (Free Size)',\n",
       " 'UV Protection, Night Vision, Riding Glasses Wayfarer Su...',\n",
       " 'UV Protection, Mirrored Aviator Sunglasses (58)',\n",
       " 'UV Protection Cat-eye Sunglasses (46)',\n",
       " 'UV Protection Wayfarer Sunglasses (56)',\n",
       " 'UV Protection, Gradient Butterfly Sunglasses (62)',\n",
       " 'UV Protection Round Sunglasses (53)',\n",
       " 'UV Protection Aviator Sunglasses (88)',\n",
       " 'UV Protection Wayfarer Sunglasses (Free Size)',\n",
       " 'by Lenskart Polarized, UV Protection Rectangular Sungla...',\n",
       " 'UV Protection, Mirrored Round Sunglasses (Free Size)',\n",
       " 'Riding Glasses, UV Protection, Mirrored Retro Square Su...',\n",
       " 'Polarized, UV Protection Rectangular Sunglasses (Free S...',\n",
       " 'UV Protection Sports Sunglasses (65)',\n",
       " 'Others Retro Square Sunglasses (66)',\n",
       " 'UV Protection, Gradient Over-sized Sunglasses (Free Siz...',\n",
       " 'UV Protection Rectangular Sunglasses (56)',\n",
       " 'UV Protection, Polarized, Mirrored Retro Square Sunglas...',\n",
       " 'UV Protection Aviator Sunglasses (Free Size)',\n",
       " 'Polarized, UV Protection Retro Square Sunglasses (55)']"
      ]
     },
     "execution_count": 64,
     "metadata": {},
     "output_type": "execute_result"
    }
   ],
   "source": [
    "Product_description1=[]\n",
    "#scrapting all the tags having product description\n",
    "product_tags1=driver.find_elements(By.CLASS_NAME,\"IRpwTa\")\n",
    "product_tags1[0:40]\n",
    "#displaying 40 tags extracted above into text \n",
    "for i in product_tags1:\n",
    "    Product_description1.append(i.text)\n",
    "Product_description1[0:40]"
   ]
  },
  {
   "cell_type": "code",
   "execution_count": 65,
   "id": "3fac6cda",
   "metadata": {},
   "outputs": [],
   "source": [
    "#to display the next 40 results in the next page\n",
    "next_page4=driver.find_element(By.XPATH,'/html/body/div[1]/div/div[3]/div[1]/div[2]/div[12]/div/div/nav/a[12]')\n",
    "next_page4.click()"
   ]
  },
  {
   "cell_type": "code",
   "execution_count": 66,
   "id": "299f0d3f",
   "metadata": {},
   "outputs": [
    {
     "data": {
      "text/plain": [
       "['Mirrored, UV Protection Aviator Sunglasses (58)',\n",
       " 'Others Spectacle Sunglasses (Free Size)',\n",
       " 'UV Protection Wayfarer Sunglasses (Free Size)',\n",
       " 'UV Protection Rectangular Sunglasses (Free Size)',\n",
       " 'Polarized, UV Protection Round Sunglasses (51)',\n",
       " 'by Lenskart Polarized, UV Protection Aviator Sunglasses...',\n",
       " 'Mirrored Aviator Sunglasses (55)',\n",
       " 'UV Protection, Gradient Rectangular Sunglasses (Free Si...',\n",
       " 'UV Protection Over-sized Sunglasses (65)',\n",
       " 'Polarized, UV Protection Round Sunglasses (50)',\n",
       " 'UV Protection Wayfarer Sunglasses (53)',\n",
       " 'UV Protection Aviator Sunglasses (55)',\n",
       " 'UV Protection Cat-eye Sunglasses (Free Size)',\n",
       " 'UV Protection Wrap-around Sunglasses (Free Size)',\n",
       " 'UV Protection, Mirrored Aviator Sunglasses (57)',\n",
       " 'Gradient, Toughened Glass Lens, UV Protection Retro Squ...',\n",
       " 'UV Protection Rectangular Sunglasses (55)',\n",
       " 'Polarized Wayfarer Sunglasses (53)',\n",
       " 'UV Protection, Gradient Rectangular Sunglasses (Free Si...',\n",
       " 'UV Protection Wayfarer Sunglasses (Free Size)']"
      ]
     },
     "execution_count": 66,
     "metadata": {},
     "output_type": "execute_result"
    }
   ],
   "source": [
    "Product_description2=[]\n",
    "#scrapting all the tags having product description\n",
    "product_tags2=driver.find_elements(By.CLASS_NAME,\"IRpwTa\")\n",
    "product_tags2[0:20]\n",
    "#displaying 20 tags extracted above into text \n",
    "for i in product_tags2:\n",
    "    Product_description1.append(i.text)\n",
    "Product_description1[0:20]"
   ]
  },
  {
   "cell_type": "code",
   "execution_count": 67,
   "id": "08b18f8d",
   "metadata": {},
   "outputs": [
    {
     "data": {
      "text/plain": [
       "['₹129',\n",
       " '₹214',\n",
       " '₹290',\n",
       " '₹1,399',\n",
       " '₹699',\n",
       " '₹129',\n",
       " '₹129',\n",
       " '₹1,399',\n",
       " '₹276',\n",
       " '₹699',\n",
       " '₹3,289',\n",
       " '₹599',\n",
       " '₹949',\n",
       " '₹129',\n",
       " '₹629',\n",
       " '₹1,244',\n",
       " '₹839',\n",
       " '₹519',\n",
       " '₹899',\n",
       " '₹399',\n",
       " '₹259',\n",
       " '₹399',\n",
       " '₹186',\n",
       " '₹299',\n",
       " '₹699',\n",
       " '₹664',\n",
       " '₹256',\n",
       " '₹398',\n",
       " '₹579',\n",
       " '₹699',\n",
       " '₹949',\n",
       " '₹278',\n",
       " '₹125',\n",
       " '₹749',\n",
       " '₹530',\n",
       " '₹649',\n",
       " '₹479',\n",
       " '₹949',\n",
       " '₹1,059',\n",
       " '₹256']"
      ]
     },
     "execution_count": 67,
     "metadata": {},
     "output_type": "execute_result"
    }
   ],
   "source": [
    "#scrapting all the tags having price\n",
    "price_tags=driver.find_elements(By.CLASS_NAME,\"_30jeq3\")\n",
    "price_tags[0:40]\n",
    "#displaying 40 tags extracted above into text \n",
    "for i in price_tags:\n",
    "    price.append(i.text)\n",
    "price[0:40]"
   ]
  },
  {
   "cell_type": "code",
   "execution_count": 68,
   "id": "f8c6e09d",
   "metadata": {},
   "outputs": [],
   "source": [
    "#to display the next 40 results in the next page\n",
    "next_page5=driver.find_element(By.XPATH,'/html/body/div[1]/div/div[3]/div[1]/div[2]/div[12]/div/div/nav/a[12]')\n",
    "next_page5.click()"
   ]
  },
  {
   "cell_type": "code",
   "execution_count": 69,
   "id": "7e93c032",
   "metadata": {},
   "outputs": [
    {
     "data": {
      "text/plain": [
       "['₹399',\n",
       " '₹195',\n",
       " '₹479',\n",
       " '₹1,518',\n",
       " '₹839',\n",
       " '₹120',\n",
       " '₹199',\n",
       " '₹811',\n",
       " '₹289',\n",
       " '₹415',\n",
       " '₹3,289',\n",
       " '₹699',\n",
       " '₹199',\n",
       " '₹199',\n",
       " '₹519',\n",
       " '₹759',\n",
       " '₹129',\n",
       " '₹699',\n",
       " '₹949',\n",
       " '₹664',\n",
       " '₹263',\n",
       " '₹839',\n",
       " '₹1,349',\n",
       " '₹229',\n",
       " '₹949',\n",
       " '₹247',\n",
       " '₹949',\n",
       " '₹1,234',\n",
       " '₹664',\n",
       " '₹338',\n",
       " '₹849',\n",
       " '₹664',\n",
       " '₹369',\n",
       " '₹129',\n",
       " '₹129',\n",
       " '₹664',\n",
       " '₹499',\n",
       " '₹170',\n",
       " '₹289',\n",
       " '₹811']"
      ]
     },
     "execution_count": 69,
     "metadata": {},
     "output_type": "execute_result"
    }
   ],
   "source": [
    "#creating a list\n",
    "price2=[]\n",
    "#scrapting all the tags having price in page 2\n",
    "price_tags2=driver.find_elements(By.CLASS_NAME,\"_30jeq3\")\n",
    "price_tags2[0:40]\n",
    "#displaying 40 tags extracted above into text \n",
    "for i in price_tags2:\n",
    "    price2.append(i.text)\n",
    "price2[0:40]"
   ]
  },
  {
   "cell_type": "code",
   "execution_count": 70,
   "id": "11f170c3",
   "metadata": {},
   "outputs": [],
   "source": [
    "#to display the next 40 results in the next page\n",
    "next_page6=driver.find_element(By.XPATH,'/html/body/div[1]/div/div[3]/div[1]/div[2]/div[12]/div/div/nav/a[12]')\n",
    "next_page6.click()"
   ]
  },
  {
   "cell_type": "code",
   "execution_count": 71,
   "id": "2a13789c",
   "metadata": {},
   "outputs": [
    {
     "data": {
      "text/plain": [
       "['₹949',\n",
       " '₹449',\n",
       " '₹289',\n",
       " '₹194',\n",
       " '₹499',\n",
       " '₹170',\n",
       " '₹415',\n",
       " '₹1,519',\n",
       " '₹230',\n",
       " '₹839',\n",
       " '₹159',\n",
       " '₹721',\n",
       " '₹363',\n",
       " '₹949',\n",
       " '₹485',\n",
       " '₹1,519',\n",
       " '₹289',\n",
       " '₹279',\n",
       " '₹499',\n",
       " '₹711']"
      ]
     },
     "execution_count": 71,
     "metadata": {},
     "output_type": "execute_result"
    }
   ],
   "source": [
    "#creating a list\n",
    "price3=[]\n",
    "#scrapting all the tags having price in page 2\n",
    "price_tags3=driver.find_elements(By.CLASS_NAME,\"_30jeq3\")\n",
    "price_tags2[0:20]\n",
    "#displaying 20 tags extracted above into text \n",
    "for i in price_tags3:\n",
    "    price3.append(i.text)\n",
    "price3[0:20]"
   ]
  },
  {
   "cell_type": "code",
   "execution_count": 73,
   "id": "1988e684",
   "metadata": {},
   "outputs": [
    {
     "name": "stdout",
     "output_type": "stream",
     "text": [
      "100 100 100\n"
     ]
    }
   ],
   "source": [
    "print(len(brand_name[0:40]+brand_name[0:40]+brand_name2[0:20]),len(product_description[0:40]+Product_description1[0:40]+Product_description1[0:20]),len(price[0:40]+price2[0:40]+price3[0:20]))"
   ]
  },
  {
   "cell_type": "code",
   "execution_count": 75,
   "id": "b70abfbe",
   "metadata": {},
   "outputs": [],
   "source": [
    "#creating a DataFrame\n",
    "import pandas as pd\n",
    "df = pd.DataFrame({'Brand_Name':brand_name[0:40]+brand_name[0:40]+brand_name2[0:20],'Product_description':product_description[0:40]+Product_description1[0:40]+Product_description1[0:20],'Price':price[0:40]+price2[0:40]+price3[0:20]})"
   ]
  },
  {
   "cell_type": "code",
   "execution_count": 76,
   "id": "eaf3e565",
   "metadata": {},
   "outputs": [
    {
     "data": {
      "text/html": [
       "<div>\n",
       "<style scoped>\n",
       "    .dataframe tbody tr th:only-of-type {\n",
       "        vertical-align: middle;\n",
       "    }\n",
       "\n",
       "    .dataframe tbody tr th {\n",
       "        vertical-align: top;\n",
       "    }\n",
       "\n",
       "    .dataframe thead th {\n",
       "        text-align: right;\n",
       "    }\n",
       "</style>\n",
       "<table border=\"1\" class=\"dataframe\">\n",
       "  <thead>\n",
       "    <tr style=\"text-align: right;\">\n",
       "      <th></th>\n",
       "      <th>Brand_Name</th>\n",
       "      <th>Product_description</th>\n",
       "      <th>Price</th>\n",
       "    </tr>\n",
       "  </thead>\n",
       "  <tbody>\n",
       "    <tr>\n",
       "      <th>0</th>\n",
       "      <td>like future</td>\n",
       "      <td>UV Protection Wayfarer Sunglasses (Free Size)</td>\n",
       "      <td>₹129</td>\n",
       "    </tr>\n",
       "    <tr>\n",
       "      <th>1</th>\n",
       "      <td>ROZZETTA CRAFT</td>\n",
       "      <td>UV Protection Retro Square Sunglasses (54)</td>\n",
       "      <td>₹214</td>\n",
       "    </tr>\n",
       "    <tr>\n",
       "      <th>2</th>\n",
       "      <td>Fastrack</td>\n",
       "      <td>Gradient, UV Protection Wayfarer Sunglasses (F...</td>\n",
       "      <td>₹290</td>\n",
       "    </tr>\n",
       "    <tr>\n",
       "      <th>3</th>\n",
       "      <td>Elligator</td>\n",
       "      <td>UV Protection Rectangular Sunglasses (Free Size)</td>\n",
       "      <td>₹1,399</td>\n",
       "    </tr>\n",
       "    <tr>\n",
       "      <th>4</th>\n",
       "      <td>Fastrack</td>\n",
       "      <td>UV Protection, Mirrored Wayfarer Sunglasses (58)</td>\n",
       "      <td>₹699</td>\n",
       "    </tr>\n",
       "    <tr>\n",
       "      <th>...</th>\n",
       "      <td>...</td>\n",
       "      <td>...</td>\n",
       "      <td>...</td>\n",
       "    </tr>\n",
       "    <tr>\n",
       "      <th>95</th>\n",
       "      <td>Dervin</td>\n",
       "      <td>Gradient, Toughened Glass Lens, UV Protection ...</td>\n",
       "      <td>₹1,519</td>\n",
       "    </tr>\n",
       "    <tr>\n",
       "      <th>96</th>\n",
       "      <td>Fastrack</td>\n",
       "      <td>UV Protection Rectangular Sunglasses (55)</td>\n",
       "      <td>₹289</td>\n",
       "    </tr>\n",
       "    <tr>\n",
       "      <th>97</th>\n",
       "      <td>New Specs</td>\n",
       "      <td>Polarized Wayfarer Sunglasses (53)</td>\n",
       "      <td>₹279</td>\n",
       "    </tr>\n",
       "    <tr>\n",
       "      <th>98</th>\n",
       "      <td>PIRASO</td>\n",
       "      <td>UV Protection, Gradient Rectangular Sunglasses...</td>\n",
       "      <td>₹499</td>\n",
       "    </tr>\n",
       "    <tr>\n",
       "      <th>99</th>\n",
       "      <td>hayden haiza</td>\n",
       "      <td>UV Protection Wayfarer Sunglasses (Free Size)</td>\n",
       "      <td>₹711</td>\n",
       "    </tr>\n",
       "  </tbody>\n",
       "</table>\n",
       "<p>100 rows × 3 columns</p>\n",
       "</div>"
      ],
      "text/plain": [
       "        Brand_Name                                Product_description   Price\n",
       "0      like future      UV Protection Wayfarer Sunglasses (Free Size)    ₹129\n",
       "1   ROZZETTA CRAFT         UV Protection Retro Square Sunglasses (54)    ₹214\n",
       "2         Fastrack  Gradient, UV Protection Wayfarer Sunglasses (F...    ₹290\n",
       "3        Elligator   UV Protection Rectangular Sunglasses (Free Size)  ₹1,399\n",
       "4         Fastrack   UV Protection, Mirrored Wayfarer Sunglasses (58)    ₹699\n",
       "..             ...                                                ...     ...\n",
       "95          Dervin  Gradient, Toughened Glass Lens, UV Protection ...  ₹1,519\n",
       "96        Fastrack          UV Protection Rectangular Sunglasses (55)    ₹289\n",
       "97       New Specs                 Polarized Wayfarer Sunglasses (53)    ₹279\n",
       "98          PIRASO  UV Protection, Gradient Rectangular Sunglasses...    ₹499\n",
       "99    hayden haiza      UV Protection Wayfarer Sunglasses (Free Size)    ₹711\n",
       "\n",
       "[100 rows x 3 columns]"
      ]
     },
     "execution_count": 76,
     "metadata": {},
     "output_type": "execute_result"
    }
   ],
   "source": [
    "df"
   ]
  },
  {
   "cell_type": "code",
   "execution_count": 77,
   "id": "8f4164b6",
   "metadata": {},
   "outputs": [],
   "source": [
    "driver.close()\n",
    "from selenium.common.exceptions import NoSuchElementException\n"
   ]
  },
  {
   "cell_type": "markdown",
   "id": "41bca8c1",
   "metadata": {},
   "source": [
    "# Q5: Scrape 100 reviews data from flipkart.com for iphone11 phone.\n",
    "### This task will be done in following steps:\n",
    "\n",
    "#### First get the webpage https://www.flipkart.com/\n",
    "##### Enter “iphone 11” in “Search” field .\n",
    "##### Then click the search button."
   ]
  },
  {
   "cell_type": "code",
   "execution_count": 78,
   "id": "da8346b9",
   "metadata": {},
   "outputs": [],
   "source": [
    "driver=webdriver.Chrome(r\"C:\\Users\\swaro\\Downloads\\chromedriver.exe\")"
   ]
  },
  {
   "cell_type": "code",
   "execution_count": 79,
   "id": "46a9b241",
   "metadata": {},
   "outputs": [],
   "source": [
    "url = \"https://www.flipkart.com/\"\n",
    "driver.get(url)"
   ]
  },
  {
   "cell_type": "code",
   "execution_count": 82,
   "id": "27f5d529",
   "metadata": {},
   "outputs": [],
   "source": [
    "# finding element on search bar\n",
    "search_iphone= driver.find_element(By.XPATH,\"/html/body/div[1]/div/div[1]/div[1]/div[2]/div[2]/form/div/div/input\")\n",
    "search_iphone.send_keys('iphone 11')"
   ]
  },
  {
   "cell_type": "code",
   "execution_count": 83,
   "id": "dbc17f77",
   "metadata": {},
   "outputs": [],
   "source": [
    "# clicking using class function\n",
    "search = driver.find_element(By.CLASS_NAME,\"L0Z3Pu\")\n",
    "search.click()"
   ]
  },
  {
   "cell_type": "code",
   "execution_count": 84,
   "id": "286d3db8",
   "metadata": {},
   "outputs": [],
   "source": [
    "# clicking the 1st result \n",
    "search_iphone11 = driver.find_element(By.CLASS_NAME,\"_4rR01T\")\n",
    "search_iphone11.click()"
   ]
  },
  {
   "cell_type": "code",
   "execution_count": 94,
   "id": "9e450546",
   "metadata": {},
   "outputs": [
    {
     "data": {
      "text/plain": [
       "[\"After using 3 years mobile review. Excellent & Awesome Mobile fully I love it mobile don't wait take it perfectly suits everyone very stylish and operating a...\\nRead full review\",\n",
       " 'I am using the phone for last 5 years and found no cons as such. The camera quality is bit low as compared to other iphone varient but it can be managable. B...\\nRead full review',\n",
       " 'Fast performance to previous iPhone x\\nGood camera quality but the best part of night mode #killing\\n\\nI am already One-plus7\\nHuge difference between in night m...\\nRead full review',\n",
       " 'Awesome product ❤️❤️\\nThank you Flipkart',\n",
       " \"impressively Nice......\\nOne of the greatest iPhone i ever used ....\\nAll was like Never before ...\\nit's just Amazing ...\\nBattery Life is too good ...2 Days wi...\\nRead full review\",\n",
       " 'Nice products thanks flkat',\n",
       " 'Really satisfied with the Product I received... It’s totally genuine and the packaging was also really good so if ur planning to buy just go for it.',\n",
       " \"Don't wary camra osm performance is very good degine to 5 star 🌟 pese west nhi honge\"]"
      ]
     },
     "execution_count": 94,
     "metadata": {},
     "output_type": "execute_result"
    }
   ],
   "source": [
    "#creating an empty list to display 100 full reviews\n",
    "full_review=[]\n",
    "\n",
    "#scrapting all tags having reviews\n",
    "Review_tags=driver.find_elements(By.CLASS_NAME,'t-ZTKy')\n",
    "Review_tags[0:100]\n",
    "#displaying the tags extracted above into text \n",
    "for i in Review_tags:\n",
    "    full_review.append(i.text)\n",
    "full_review[0:100]"
   ]
  },
  {
   "cell_type": "code",
   "execution_count": 90,
   "id": "533d937c",
   "metadata": {},
   "outputs": [
    {
     "data": {
      "text/plain": [
       "['4.6',\n",
       " '4.6',\n",
       " '4.6',\n",
       " '4.6',\n",
       " '4.6',\n",
       " '4.6',\n",
       " '4.6',\n",
       " '4.6',\n",
       " '4.6',\n",
       " '4.6',\n",
       " '4.6',\n",
       " '4.6',\n",
       " '4.4',\n",
       " '4.7',\n",
       " '4.7',\n",
       " '4.6',\n",
       " '4.6',\n",
       " '4.7',\n",
       " '4.7',\n",
       " '4.6',\n",
       " '4.6',\n",
       " '4.6',\n",
       " '4.7',\n",
       " '4.7',\n",
       " '4.4',\n",
       " '5',\n",
       " '5',\n",
       " '4.6',\n",
       " '5',\n",
       " '5',\n",
       " '4.7',\n",
       " '4',\n",
       " '5',\n",
       " '4.6',\n",
       " '5',\n",
       " '5']"
      ]
     },
     "execution_count": 90,
     "metadata": {},
     "output_type": "execute_result"
    }
   ],
   "source": [
    "#creating an empty list to display 100 ratings\n",
    "ratings=[]\n",
    "\n",
    "#scrapting all tags having rating\n",
    "rating_tags=driver.find_elements(By.CLASS_NAME,'_3LWZlK')\n",
    "\n",
    "#displaying the tags extracted above into text \n",
    "for i in rating_tags:\n",
    "    ratings.append(i.text)\n",
    "ratings[0:100]"
   ]
  },
  {
   "cell_type": "code",
   "execution_count": 95,
   "id": "d00cc231",
   "metadata": {},
   "outputs": [
    {
     "data": {
      "text/plain": [
       "['Perfect product!',\n",
       " 'Terrific',\n",
       " 'Fabulous!',\n",
       " 'Great product',\n",
       " 'Good quality product',\n",
       " 'Perfect product!',\n",
       " 'Simply awesome',\n",
       " 'Must buy!']"
      ]
     },
     "execution_count": 95,
     "metadata": {},
     "output_type": "execute_result"
    }
   ],
   "source": [
    "#creating an empty list to display 100 summarys\n",
    "summary=[]\n",
    "\n",
    "#scrapting all tags having summary\n",
    "summary_tags=driver.find_elements(By.CLASS_NAME,'_2-N8zT')\n",
    "\n",
    "#displaying the tags extracted above into text \n",
    "for i in summary_tags:\n",
    "    summary.append(i.text)\n",
    "summary[0:100]"
   ]
  },
  {
   "cell_type": "code",
   "execution_count": 96,
   "id": "ad5a29a0",
   "metadata": {},
   "outputs": [
    {
     "name": "stdout",
     "output_type": "stream",
     "text": [
      "8 36 8\n"
     ]
    }
   ],
   "source": [
    "print(len(full_review[0:100]),len(ratings[0:100]),len(summary[0:100]))"
   ]
  },
  {
   "cell_type": "markdown",
   "id": "dc600d87",
   "metadata": {},
   "source": [
    "#### Observation:  DataFrame cannot be created as lengths are not equal.\n"
   ]
  },
  {
   "cell_type": "code",
   "execution_count": 97,
   "id": "fb19af39",
   "metadata": {},
   "outputs": [],
   "source": [
    "\n",
    "driver.close()\n",
    "from selenium.common.exceptions import NoSuchElementException"
   ]
  },
  {
   "cell_type": "markdown",
   "id": "8611ab95",
   "metadata": {},
   "source": [
    "# Q6: Scrape data for first 100 sneakers you find when you visit flipkart.com and search for “sneakers” in the search field.\n",
    "#### You have to scrape 4 attributes of each sneaker:\n",
    "### Brand\n",
    "### Product Description\n",
    "### Price\n",
    "### Discount"
   ]
  },
  {
   "cell_type": "code",
   "execution_count": 27,
   "id": "49046880",
   "metadata": {},
   "outputs": [],
   "source": [
    "driver=webdriver.Chrome(r\"C:\\Users\\swaro\\Downloads\\chromedriver.exe\")"
   ]
  },
  {
   "cell_type": "code",
   "execution_count": null,
   "id": "d7a12adf",
   "metadata": {},
   "outputs": [],
   "source": []
  },
  {
   "cell_type": "code",
   "execution_count": 28,
   "id": "570a3b19",
   "metadata": {},
   "outputs": [],
   "source": [
    "url = \"https://www.flipkart.com\"\n",
    "driver.get(url)"
   ]
  },
  {
   "cell_type": "code",
   "execution_count": null,
   "id": "e5a8f0b4",
   "metadata": {},
   "outputs": [],
   "source": []
  },
  {
   "cell_type": "code",
   "execution_count": 29,
   "id": "4e4bca56",
   "metadata": {},
   "outputs": [],
   "source": [
    "# finding element on search bar\n",
    "search_sneakers= driver.find_element(By.XPATH,\"/html/body/div[1]/div/div[1]/div[1]/div[2]/div[2]/form/div/div/input\")\n",
    "search_sneakers.send_keys('sneakers')"
   ]
  },
  {
   "cell_type": "code",
   "execution_count": null,
   "id": "44e4100d",
   "metadata": {},
   "outputs": [],
   "source": []
  },
  {
   "cell_type": "code",
   "execution_count": 31,
   "id": "48b6d6d1",
   "metadata": {},
   "outputs": [],
   "source": [
    "# clicking using class function\n",
    "search_sneakers= driver.find_element(By.CLASS_NAME,\"L0Z3Pu\")\n",
    "search_sneakers.click()"
   ]
  },
  {
   "cell_type": "code",
   "execution_count": 32,
   "id": "6505aa6f",
   "metadata": {},
   "outputs": [
    {
     "data": {
      "text/plain": [
       "['GVR',\n",
       " 'SFR',\n",
       " 'World Wear Footwear',\n",
       " 'aadi',\n",
       " 'ADIDAS',\n",
       " 'PUMA',\n",
       " 'Asian Shoes',\n",
       " 'BRUTON',\n",
       " 'aadi',\n",
       " 'SFR',\n",
       " 'PUMA',\n",
       " 'BRUTON',\n",
       " 'World Wear Footwear',\n",
       " 'Kzaara',\n",
       " 'Layasa',\n",
       " 'BRUTON',\n",
       " 'HRX by Hrithik Roshan',\n",
       " 'Kraasa',\n",
       " 'Deals4you',\n",
       " 'Footox',\n",
       " 'Kraasa',\n",
       " 'RED TAPE',\n",
       " 'Layasa',\n",
       " 'RapidBox',\n",
       " 'ADIDAS',\n",
       " 'Asian Shoes',\n",
       " 'PUMA',\n",
       " 'aadi',\n",
       " 'Layasa',\n",
       " 'PUMA',\n",
       " 'BIRDE',\n",
       " 'Sparx',\n",
       " 'aadi',\n",
       " 'U.S. POLO ASSN.',\n",
       " 'Sparx',\n",
       " 'corsac',\n",
       " 'U.S. POLO ASSN.',\n",
       " 'HIGHLANDER',\n",
       " 'PUMA',\n",
       " 'Airland']"
      ]
     },
     "execution_count": 32,
     "metadata": {},
     "output_type": "execute_result"
    }
   ],
   "source": [
    "#creating an empty list to display 100 Brand names\n",
    "Brand_sneakers=[]\n",
    "\n",
    "#scrapting all tags having brand names\n",
    "brand_tags2=driver.find_elements(By.CLASS_NAME,'_2WkVRV')\n",
    "\n",
    "#displaying the tags extracted above into text \n",
    "for i in brand_tags2:\n",
    "    Brand_sneakers.append(i.text)\n",
    "Brand_sneakers[0:40]"
   ]
  },
  {
   "cell_type": "code",
   "execution_count": null,
   "id": "9d2e81a1",
   "metadata": {},
   "outputs": [],
   "source": []
  },
  {
   "cell_type": "code",
   "execution_count": 109,
   "id": "c350953a",
   "metadata": {},
   "outputs": [],
   "source": [
    "#to display the next 40 results in the next page\n",
    "Next_page=driver.find_element(By.XPATH,'/html/body/div[1]/div/div[3]/div[1]/div[2]/div[12]/div/div/nav/a[12]')\n",
    "Next_page.click()"
   ]
  },
  {
   "cell_type": "code",
   "execution_count": 111,
   "id": "97898cca",
   "metadata": {},
   "outputs": [
    {
     "data": {
      "text/plain": [
       "['Skechers',\n",
       " 'Skechers',\n",
       " 'PUMA',\n",
       " 'Robbie jones',\n",
       " 'NIKE',\n",
       " 'PUMA',\n",
       " 'GVR',\n",
       " 'BIRDE',\n",
       " 'World Wear Footwear',\n",
       " 'U.S. POLO ASSN.',\n",
       " 'PETER ENGLAND',\n",
       " 'PUMA',\n",
       " 'PUMA',\n",
       " 'PUMA',\n",
       " 'PUMA',\n",
       " 'PUMA',\n",
       " 'PUMA',\n",
       " 'Layasa',\n",
       " 'PUMA',\n",
       " 'Robbie jones',\n",
       " 'Skechers',\n",
       " 'Shozie',\n",
       " 'U.S. POLO ASSN.',\n",
       " 'asian',\n",
       " 'bacca bucci',\n",
       " 'HRX by Hrithik Roshan',\n",
       " 'PUMA',\n",
       " 'Asian Shoes',\n",
       " 'RED TAPE',\n",
       " 'Skechers',\n",
       " 'Sparx']"
      ]
     },
     "execution_count": 111,
     "metadata": {},
     "output_type": "execute_result"
    }
   ],
   "source": [
    "#creating an empty list to display 100 Brand names\n",
    "Brand_sneakers2=[]\n",
    "\n",
    "#scrapting all tags having brand names\n",
    "brand_tags2=driver.find_elements(By.CLASS_NAME,'_2WkVRV')\n",
    "\n",
    "#displaying the tags extracted above into text \n",
    "for i in brand_tags2:\n",
    "    Brand_sneakers2.append(i.text)\n",
    "Brand_sneakers2[0:40]"
   ]
  },
  {
   "cell_type": "code",
   "execution_count": 144,
   "id": "829e2891",
   "metadata": {},
   "outputs": [],
   "source": [
    "#to display the next 20 results in the next page\n",
    "\n",
    "Next_page=driver.find_element(By.XPATH,'/html/body/div[1]/div/div[3]/div[1]/div[2]/div[12]/div/div/nav/a[12]')\n",
    "Next_page.click()"
   ]
  },
  {
   "cell_type": "code",
   "execution_count": null,
   "id": "e2ff7c48",
   "metadata": {},
   "outputs": [],
   "source": []
  },
  {
   "cell_type": "code",
   "execution_count": 145,
   "id": "9a4573f5",
   "metadata": {},
   "outputs": [
    {
     "data": {
      "text/plain": [
       "['K- FOOTLANCE',\n",
       " 'Denill',\n",
       " 'PUMA',\n",
       " 'GVR',\n",
       " 'WOODLAND',\n",
       " 'WOODLAND',\n",
       " 'Roadster',\n",
       " 'WELDONE',\n",
       " 'PUMA',\n",
       " 'Vellinto',\n",
       " 'PUMA',\n",
       " 'PUMA',\n",
       " 'PUMA',\n",
       " 'U.S. POLO ASSN.',\n",
       " 'U.S. POLO ASSN.',\n",
       " 'TR',\n",
       " 'Denill',\n",
       " 'RED TAPE',\n",
       " 'PUMA',\n",
       " 'SFR']"
      ]
     },
     "execution_count": 145,
     "metadata": {},
     "output_type": "execute_result"
    }
   ],
   "source": [
    "#creating an empty list to display 100 Brand names\n",
    "Brand_sneakers3=[]\n",
    "\n",
    "#scrapting all tags having brand names\n",
    "brand_tags2=driver.find_elements(By.CLASS_NAME,'_2WkVRV')\n",
    "\n",
    "#displaying the tags extracted above into text \n",
    "for i in brand_tags2:\n",
    "    Brand_sneakers3.append(i.text)\n",
    "Brand_sneakers3[0:20]"
   ]
  },
  {
   "cell_type": "code",
   "execution_count": null,
   "id": "4c45791c",
   "metadata": {},
   "outputs": [],
   "source": []
  },
  {
   "cell_type": "code",
   "execution_count": 146,
   "id": "33b21716",
   "metadata": {},
   "outputs": [
    {
     "data": {
      "text/plain": [
       "[\"Women's Mesh Sports Shoes Walking Sneakers For Women\",\n",
       " 'Sneakers For Women',\n",
       " 'Pacer Pro Reload Sneakers For Men',\n",
       " 'SNEAKERS FOR MEN Sneakers For Men',\n",
       " 'Sneakers For Men',\n",
       " 'Sneakers For Men',\n",
       " 'Sneakers For Men',\n",
       " 'Sneakers For Men',\n",
       " 'Supernal V2 Wns Sneakers For Women',\n",
       " 'Sneakers For Men',\n",
       " 'BMW MMS Speedcat M Sneakers For Men',\n",
       " 'Puma Wired Cage Sneakers For Men',\n",
       " 'C-Skate Vulc Sneakers For Men',\n",
       " 'TERRI 2.0 Sneakers For Men',\n",
       " 'SERGIO 2.0 Sneakers For Men',\n",
       " 'Running / Walking / Sport Shoes For Men Sneakers For Me...',\n",
       " 'Latest Collection & Trendy Sneakers For Women',\n",
       " 'Sneakers For Men',\n",
       " 'Caven Tape Sneakers For Men',\n",
       " 'Casual Shoes For Men Sneakers For Men',\n",
       " \"D'LITES ARCH FIT - BETTER SEL Sneakers For Men\",\n",
       " 'TELLER SNEAKER Sneakers For Men',\n",
       " 'Sneakers For Men',\n",
       " 'Wellshore Sneakers For Men',\n",
       " 'GLIDE-STEP SPORT-CONTROLLER Sneakers For Men',\n",
       " 'Sneakers For Men',\n",
       " 'Achiever-14 Blue Sneakers,Loafers,Casuals,Synthetic Sne...',\n",
       " \"Men's Streetwear Pro Style High Top Platform Fashion Sn...\",\n",
       " \"Bella V Wn's MU Sneakers For Women\",\n",
       " 'Sneakers For Men',\n",
       " 'Sneakers For Men',\n",
       " 'Latest Exclusive Affordable Collection of Trendy & Styl...',\n",
       " \"NK Court Royale Women's Shoes Sneakers For Women\",\n",
       " 'City Rider Sneakers For Men',\n",
       " 'Sneakers For Men',\n",
       " 'Sneakers For Women',\n",
       " 'Sneakers For Men',\n",
       " 'Achiever-11 White Stylish Comfortable Casual Sneakers F...',\n",
       " 'Sneakers For Men',\n",
       " 'Sneakers For Men']"
      ]
     },
     "execution_count": 146,
     "metadata": {},
     "output_type": "execute_result"
    }
   ],
   "source": [
    "#creating an empty list to display 100 brand's product description\n",
    "Product_Description = []\n",
    "\n",
    "#scrapting all 40 tags having product descriptions\n",
    "p_dtags= driver.find_elements(By.CLASS_NAME,\"IRpwTa\")\n",
    "\n",
    "#displaying tags into texts\n",
    "for i in p_dtags:\n",
    "    Product_Description.append(i.text)\n",
    "Product_Description[0:40]"
   ]
  },
  {
   "cell_type": "code",
   "execution_count": null,
   "id": "52ba20e9",
   "metadata": {},
   "outputs": [],
   "source": []
  },
  {
   "cell_type": "code",
   "execution_count": 147,
   "id": "b4fd99e7",
   "metadata": {},
   "outputs": [],
   "source": [
    "#to display the next 40 results in the next page\n",
    "\n",
    "Next_page=driver.find_element(By.XPATH,'/html/body/div[1]/div/div[3]/div[1]/div[2]/div[12]/div/div/nav/a[12]')\n",
    "Next_page.click()"
   ]
  },
  {
   "cell_type": "code",
   "execution_count": null,
   "id": "e06c75bd",
   "metadata": {},
   "outputs": [],
   "source": []
  },
  {
   "cell_type": "code",
   "execution_count": 148,
   "id": "e718966b",
   "metadata": {},
   "outputs": [
    {
     "data": {
      "text/plain": [
       "['CA Pro Heritage Sneakers For Men',\n",
       " 'NEO CASUAL-GAVIN Sneakers For Men',\n",
       " 'ADISET 2020 M Sneakers For Men',\n",
       " 'Casual Shoes For Men Sneakers For Men',\n",
       " 'Puma x 1DER Jack V3 Sneakers For Men',\n",
       " 'Supertec Open Road Sneakers For Men',\n",
       " 'Lightweight Pack Of 1 Trendy Sneakers Sneakers For Men',\n",
       " 'Walking Shoes For women Sneakers For Women',\n",
       " 'Premium Casual Shoes For Women Sneakers For Women',\n",
       " 'Pacer Future Classic Pop Sneakers For Men',\n",
       " 'Sneakers For Men',\n",
       " 'Colored Sneakers For Women',\n",
       " 'Sneakers For Men',\n",
       " 'Sneakers For Women',\n",
       " 'Sneakers For Men',\n",
       " 'Sneakers For Men',\n",
       " 'Premium Casual Shoes for Men Sneakers For Men',\n",
       " 'Electron E Sneakers For Men',\n",
       " 'Cliff Sneakers For Men',\n",
       " 'Smash SD Sneakers For Men',\n",
       " 'Stylish and Trendy New Design Lightweight,Casual shoes ...',\n",
       " 'BMW MMS Drift Cat Delta Sneakers For Men',\n",
       " 'Knit Slip On Sneakers For Men',\n",
       " 'Sneakers For Women Sneakers For Women',\n",
       " 'Sneakers For Men',\n",
       " 'Go Run 600 - Sneakers For Women',\n",
       " 'Slipstream Lo Retro Sneakers For Men',\n",
       " 'Latest Exclusive Affordable Collection of Trendy & Styl...',\n",
       " 'Sneakers For Men',\n",
       " 'Carina L Sneakers For Women',\n",
       " 'Latest Collection Sneakers For Women',\n",
       " 'Court Star Vulc FS Sneakers For Men',\n",
       " 'Sneakers For Women',\n",
       " 'Court Legacy Canvas Sneakers For Women',\n",
       " 'Knit Slip On Sneakers For Men',\n",
       " 'Synthetic Leather |Lightweight|Comfort|Summer|Trendy|Wa...',\n",
       " 'Dual Flex Sneakers For Men',\n",
       " 'Venture Runner Sneakers For Men',\n",
       " 'NEO CASUAL - LANDMARK Sneakers For Men',\n",
       " 'Colored Sneakers For Women']"
      ]
     },
     "execution_count": 148,
     "metadata": {},
     "output_type": "execute_result"
    }
   ],
   "source": [
    "#creating an empty list to display 100 brand's product description\n",
    "Product_Description1= []\n",
    "\n",
    "#scrapting all 40 tags having product descriptions\n",
    "p_dtags1= driver.find_elements(By.CLASS_NAME,\"IRpwTa\")\n",
    "\n",
    "#displaying tags into texts\n",
    "for i in p_dtags1:\n",
    "    Product_Description1.append(i.text)\n",
    "Product_Description1[0:40]"
   ]
  },
  {
   "cell_type": "code",
   "execution_count": null,
   "id": "1b169c71",
   "metadata": {},
   "outputs": [],
   "source": []
  },
  {
   "cell_type": "code",
   "execution_count": 149,
   "id": "e8983c46",
   "metadata": {},
   "outputs": [],
   "source": [
    "#to display the next 40 results in the next page\n",
    "\n",
    "Next_page=driver.find_element(By.XPATH,'/html/body/div[1]/div/div[3]/div[1]/div[2]/div[12]/div/div/nav/a[12]')\n",
    "Next_page.click()"
   ]
  },
  {
   "cell_type": "code",
   "execution_count": null,
   "id": "332b8084",
   "metadata": {},
   "outputs": [],
   "source": []
  },
  {
   "cell_type": "code",
   "execution_count": 150,
   "id": "aaeff46c",
   "metadata": {},
   "outputs": [
    {
     "data": {
      "text/plain": [
       "['Sneakers For Men',\n",
       " 'Red Synthetic Leather Stylish Partywear Casual Sneakers...',\n",
       " 'Synthetic Leather Casual Sneaker shoes for Women/girls ...',\n",
       " 'FAST Trenddy Tainer Lace-ups Sporty Casuals Sneakers Fo...',\n",
       " 'Sneakers For Men',\n",
       " 'RTE3664 Sneakers For Men',\n",
       " 'Sneakers Outdoor Walking Sport Running Gym Cycling Trek...',\n",
       " 'Kaia Platform Sneakers For Women',\n",
       " 'Go Walk Max-Centric Sneakers For Men',\n",
       " 'Sneakers For Men',\n",
       " 'Kaia Platform Sneakers For Women',\n",
       " '2 Combo Sneaker Shoes Sneakers For Men',\n",
       " 'Sneakers For Men',\n",
       " 'Supernal V2 Wns Sneakers For Women',\n",
       " 'Sneakers For Men',\n",
       " 'Stylish and Trendy Design ,Sport Walking Gym Shoes For ...',\n",
       " 'Sneakers For Men',\n",
       " 'FENNY Sneakers For Men',\n",
       " 'Premium Casual Shoes White Sneakers For Men',\n",
       " 'Sneakers Shoes for Men for Running / Walking / Gym / Sp...']"
      ]
     },
     "execution_count": 150,
     "metadata": {},
     "output_type": "execute_result"
    }
   ],
   "source": [
    "Product_Description2= []\n",
    "\n",
    "#scrapting all 20 tags having product descriptions\n",
    "p_dtags2= driver.find_elements(By.CLASS_NAME,\"IRpwTa\")\n",
    "\n",
    "#displaying tags into texts\n",
    "for i in p_dtags2:\n",
    "    Product_Description2.append(i.text)\n",
    "Product_Description2[0:20]"
   ]
  },
  {
   "cell_type": "code",
   "execution_count": null,
   "id": "1da63163",
   "metadata": {},
   "outputs": [],
   "source": []
  },
  {
   "cell_type": "code",
   "execution_count": 151,
   "id": "ce2d6113",
   "metadata": {},
   "outputs": [
    {
     "data": {
      "text/plain": [
       "['₹3,846',\n",
       " '₹449',\n",
       " '₹399',\n",
       " '₹399',\n",
       " '₹3,009',\n",
       " '₹1,247',\n",
       " '₹548',\n",
       " '₹2,683',\n",
       " '₹3,444',\n",
       " '₹1,974',\n",
       " '₹2,685',\n",
       " '₹599',\n",
       " '₹995',\n",
       " '₹1,634',\n",
       " '₹799',\n",
       " '₹449',\n",
       " '₹719',\n",
       " '₹934',\n",
       " '₹504',\n",
       " '₹679',\n",
       " '₹3,187',\n",
       " '₹349',\n",
       " '₹1,919',\n",
       " '₹585',\n",
       " '₹5,399',\n",
       " '₹2,180',\n",
       " '₹1,124',\n",
       " '₹1,539',\n",
       " '₹1,839',\n",
       " '₹2,791',\n",
       " '₹1,014',\n",
       " '₹674',\n",
       " '₹2,940',\n",
       " '₹1,329',\n",
       " '₹584',\n",
       " '₹399',\n",
       " '₹299',\n",
       " '₹4,499',\n",
       " '₹1,797',\n",
       " '₹835']"
      ]
     },
     "execution_count": 151,
     "metadata": {},
     "output_type": "execute_result"
    }
   ],
   "source": [
    "#creating an empty list to display 100 brand's price\n",
    "Price= []\n",
    "\n",
    "#scrapting all 40 tags having product descriptions\n",
    "price_tags= driver.find_elements(By.CLASS_NAME,\"_30jeq3\")\n",
    "\n",
    "#displaying tags into texts\n",
    "for i in price_tags:\n",
    "    Price.append(i.text)\n",
    "Price[0:40]"
   ]
  },
  {
   "cell_type": "code",
   "execution_count": null,
   "id": "c6b8ffb7",
   "metadata": {},
   "outputs": [],
   "source": []
  },
  {
   "cell_type": "code",
   "execution_count": 152,
   "id": "074f05fc",
   "metadata": {},
   "outputs": [],
   "source": [
    "#to display the next 40 results in the next page\n",
    "\n",
    "Next_page=driver.find_element(By.XPATH,'/html/body/div[1]/div/div[3]/div[1]/div[2]/div[12]/div/div/nav/a[12]')\n",
    "Next_page.click()"
   ]
  },
  {
   "cell_type": "code",
   "execution_count": null,
   "id": "57c381c9",
   "metadata": {},
   "outputs": [],
   "source": []
  },
  {
   "cell_type": "code",
   "execution_count": 153,
   "id": "1c1fc452",
   "metadata": {},
   "outputs": [
    {
     "data": {
      "text/plain": [
       "['₹1,794',\n",
       " '₹2,609',\n",
       " '₹1,797',\n",
       " '₹399',\n",
       " '₹434',\n",
       " '₹3,599',\n",
       " '₹519',\n",
       " '₹799',\n",
       " '₹2,521',\n",
       " '₹2,279',\n",
       " '₹299',\n",
       " '₹434',\n",
       " '₹1,247',\n",
       " '₹399',\n",
       " '₹2,759',\n",
       " '₹799',\n",
       " '₹1,332',\n",
       " '₹1,807',\n",
       " '₹3,712',\n",
       " '₹4,139',\n",
       " '₹769',\n",
       " '₹2,719',\n",
       " '₹799',\n",
       " '₹549',\n",
       " '₹449',\n",
       " '₹548',\n",
       " '₹799',\n",
       " '₹849',\n",
       " '₹3,595',\n",
       " '₹799',\n",
       " '₹5,999',\n",
       " '₹699',\n",
       " '₹2,759',\n",
       " '₹2,989',\n",
       " '₹2,921',\n",
       " '₹1,839',\n",
       " '₹7,499',\n",
       " '₹449',\n",
       " '₹3,039',\n",
       " '₹1,929']"
      ]
     },
     "execution_count": 153,
     "metadata": {},
     "output_type": "execute_result"
    }
   ],
   "source": [
    "#creating an empty list to display 100 brand's price\n",
    "Price1= []\n",
    "\n",
    "#scrapting all 40 tags having product descriptions\n",
    "price_tags1= driver.find_elements(By.CLASS_NAME,\"_30jeq3\")\n",
    "\n",
    "#displaying tags into texts\n",
    "for i in price_tags1:\n",
    "    Price1.append(i.text)\n",
    "Price1[0:40]"
   ]
  },
  {
   "cell_type": "code",
   "execution_count": null,
   "id": "a1e0be58",
   "metadata": {},
   "outputs": [],
   "source": []
  },
  {
   "cell_type": "code",
   "execution_count": 154,
   "id": "e4894662",
   "metadata": {},
   "outputs": [],
   "source": [
    "#to display the next 40 results in the next page\n",
    "\n",
    "Next_page=driver.find_element(By.XPATH,'/html/body/div[1]/div/div[3]/div[1]/div[2]/div[12]/div/div/nav/a[12]')\n",
    "Next_page.click()"
   ]
  },
  {
   "cell_type": "code",
   "execution_count": null,
   "id": "1f754ed8",
   "metadata": {},
   "outputs": [],
   "source": []
  },
  {
   "cell_type": "code",
   "execution_count": 155,
   "id": "c0e5900f",
   "metadata": {},
   "outputs": [
    {
     "data": {
      "text/plain": [
       "['₹5,999',\n",
       " '₹319',\n",
       " '₹3,432',\n",
       " '₹599',\n",
       " '₹2,279',\n",
       " '₹3,909',\n",
       " '₹1,899',\n",
       " '₹499',\n",
       " '₹2,420',\n",
       " '₹2,299',\n",
       " '₹2,859',\n",
       " '₹2,587',\n",
       " '₹5,247',\n",
       " '₹4,196',\n",
       " '₹3,187',\n",
       " '₹594',\n",
       " '₹2,303',\n",
       " '₹1,747',\n",
       " '₹895',\n",
       " '₹499']"
      ]
     },
     "execution_count": 155,
     "metadata": {},
     "output_type": "execute_result"
    }
   ],
   "source": [
    "#creating an empty list to display 100 brand's price\n",
    "Price2= []\n",
    "\n",
    "#scrapting all 20 tags having product descriptions\n",
    "price_tags2= driver.find_elements(By.CLASS_NAME,\"_30jeq3\")\n",
    "\n",
    "#displaying tags into texts\n",
    "for i in price_tags2:\n",
    "    Price2.append(i.text)\n",
    "Price2[0:20]"
   ]
  },
  {
   "cell_type": "code",
   "execution_count": null,
   "id": "df3699b0",
   "metadata": {},
   "outputs": [],
   "source": []
  },
  {
   "cell_type": "code",
   "execution_count": 156,
   "id": "bd815449",
   "metadata": {},
   "outputs": [
    {
     "data": {
      "text/plain": [
       "['40% off',\n",
       " '36% off',\n",
       " '37% off',\n",
       " '40% off',\n",
       " '40% off',\n",
       " '54% off',\n",
       " '50% off',\n",
       " '50% off',\n",
       " '51% off',\n",
       " '54% off',\n",
       " '35% off',\n",
       " '52% off',\n",
       " '52% off',\n",
       " '30% off',\n",
       " '57% off',\n",
       " '40% off',\n",
       " '52% off',\n",
       " '50% off',\n",
       " '55% off',\n",
       " '50% off',\n",
       " '44% off',\n",
       " '53% off',\n",
       " '46% off',\n",
       " '79% off',\n",
       " '56% off',\n",
       " '53% off',\n",
       " '45% off',\n",
       " '40% off',\n",
       " '60% off',\n",
       " '55% off',\n",
       " '35% off',\n",
       " '66% off',\n",
       " '77% off',\n",
       " '54% off',\n",
       " '52% off',\n",
       " '80% off',\n",
       " '75% off',\n",
       " '41% off',\n",
       " '53% off',\n",
       " '50% off']"
      ]
     },
     "execution_count": 156,
     "metadata": {},
     "output_type": "execute_result"
    }
   ],
   "source": [
    "#creating an empty list to display 100 brand's discount %\n",
    "Discount= []\n",
    "\n",
    "#scrapting all 40 tags having product descriptions\n",
    "discount_tags= driver.find_elements(By.CLASS_NAME,\"_3Ay6Sb\")\n",
    "\n",
    "#displaying tags into texts\n",
    "for i in discount_tags:\n",
    "    Discount.append(i.text)\n",
    "Discount[0:40]"
   ]
  },
  {
   "cell_type": "code",
   "execution_count": null,
   "id": "50b9f6da",
   "metadata": {},
   "outputs": [],
   "source": []
  },
  {
   "cell_type": "code",
   "execution_count": 157,
   "id": "3c8dc504",
   "metadata": {},
   "outputs": [],
   "source": [
    "#to display the next 40 results in the next page\n",
    "\n",
    "Next_page=driver.find_element(By.XPATH,'/html/body/div[1]/div/div[3]/div[1]/div[2]/div[12]/div/div/nav/a[12]')\n",
    "Next_page.click()"
   ]
  },
  {
   "cell_type": "code",
   "execution_count": null,
   "id": "6fbd97c4",
   "metadata": {},
   "outputs": [],
   "source": []
  },
  {
   "cell_type": "code",
   "execution_count": 158,
   "id": "b839c73e",
   "metadata": {},
   "outputs": [
    {
     "data": {
      "text/plain": [
       "['71% off',\n",
       " '75% off',\n",
       " '52% off',\n",
       " '44% off',\n",
       " '55% off',\n",
       " '60% off',\n",
       " '58% off',\n",
       " '40% off',\n",
       " '50% off',\n",
       " '56% off',\n",
       " '53% off',\n",
       " '40% off',\n",
       " '77% off',\n",
       " '71% off',\n",
       " '55% off',\n",
       " '54% off',\n",
       " '54% off',\n",
       " '81% off',\n",
       " '54% off',\n",
       " '50% off',\n",
       " '53% off',\n",
       " '30% off',\n",
       " '47% off',\n",
       " '42% off',\n",
       " '55% off',\n",
       " '54% off',\n",
       " '63% off',\n",
       " '35% off',\n",
       " '35% off',\n",
       " '30% off',\n",
       " '62% off',\n",
       " '60% off',\n",
       " '54% off',\n",
       " '50% off',\n",
       " '62% off',\n",
       " '63% off',\n",
       " '48% off',\n",
       " '54% off',\n",
       " '40% off',\n",
       " '55% off']"
      ]
     },
     "execution_count": 158,
     "metadata": {},
     "output_type": "execute_result"
    }
   ],
   "source": [
    "#creating an empty list to display 100 brand's discount %\n",
    "Discount1= []\n",
    "\n",
    "#scrapting all 40 tags having product descriptions\n",
    "discount_tags1= driver.find_elements(By.CLASS_NAME,\"_3Ay6Sb\")\n",
    "\n",
    "#displaying tags into texts\n",
    "for i in discount_tags1:\n",
    "    Discount1.append(i.text)\n",
    "Discount1[0:40]"
   ]
  },
  {
   "cell_type": "code",
   "execution_count": null,
   "id": "6e4036d9",
   "metadata": {},
   "outputs": [],
   "source": []
  },
  {
   "cell_type": "code",
   "execution_count": 159,
   "id": "884fb906",
   "metadata": {},
   "outputs": [],
   "source": [
    "#to display the next 40 results in the next page\n",
    "\n",
    "Next_page=driver.find_element(By.XPATH,'/html/body/div[1]/div/div[3]/div[1]/div[2]/div[12]/div/div/nav/a[12]')\n",
    "Next_page.click()"
   ]
  },
  {
   "cell_type": "code",
   "execution_count": null,
   "id": "1d73531d",
   "metadata": {},
   "outputs": [],
   "source": []
  },
  {
   "cell_type": "code",
   "execution_count": 160,
   "id": "0416b580",
   "metadata": {},
   "outputs": [
    {
     "data": {
      "text/plain": [
       "['55% off',\n",
       " '40% off',\n",
       " '35% off',\n",
       " '62% off',\n",
       " '43% off',\n",
       " '35% off',\n",
       " '49% off',\n",
       " '53% off',\n",
       " '56% off',\n",
       " '50% off',\n",
       " '45% off',\n",
       " '52% off',\n",
       " '49% off',\n",
       " '52% off',\n",
       " '40% off',\n",
       " '54% off',\n",
       " '61% off',\n",
       " '48% off',\n",
       " '40% off',\n",
       " '65% off']"
      ]
     },
     "execution_count": 160,
     "metadata": {},
     "output_type": "execute_result"
    }
   ],
   "source": [
    "#creating an empty list to display 100 brand's discount %\n",
    "Discount2= []\n",
    "\n",
    "#scrapting all 20 tags having product descriptions\n",
    "discount_tags2= driver.find_elements(By.CLASS_NAME,\"_3Ay6Sb\")\n",
    "\n",
    "#displaying tags into texts\n",
    "for i in discount_tags2:\n",
    "    Discount2.append(i.text)\n",
    "Discount2[0:20]"
   ]
  },
  {
   "cell_type": "code",
   "execution_count": null,
   "id": "188b1323",
   "metadata": {},
   "outputs": [],
   "source": []
  },
  {
   "cell_type": "code",
   "execution_count": 161,
   "id": "5ca97c94",
   "metadata": {},
   "outputs": [
    {
     "name": "stdout",
     "output_type": "stream",
     "text": [
      "91 100 100 100\n"
     ]
    }
   ],
   "source": [
    "print(len(Brand_sneakers[0:40]+Brand_sneakers2[0:40]+Brand_sneakers3[0:20]),len(Product_Description[0:40]+Product_Description1[0:40]+Product_Description2[0:20]),len(Price[0:40]+Price1[0:40]+Price2[0:20]),len(Discount[0:40]+Discount1[0:40]+Discount2[0:20]))\n",
    " "
   ]
  },
  {
   "cell_type": "markdown",
   "id": "ae75f3c8",
   "metadata": {},
   "source": [
    "### Observation : DataFrame wont be created as Arrays are not Equal in length"
   ]
  },
  {
   "cell_type": "markdown",
   "id": "82a29cc3",
   "metadata": {},
   "source": [
    "# Q8: Go to webpage https://www.amazon.in/ ,Enter “Laptop” in the search field and then click the search icon, Then set CPU Type filter to “Intel Core i7” as shown in the below image:\n",
    "After setting the filters scrape first 10 laptops data. You have to scrape 3 attributesfor each laptop:\n",
    "\n",
    "### Title\n",
    "### Ratings\n",
    "### Price"
   ]
  },
  {
   "cell_type": "code",
   "execution_count": 7,
   "id": "877cc4c9",
   "metadata": {},
   "outputs": [],
   "source": [
    "## importing neccessary libraries\n",
    "import selenium\n",
    "from selenium import webdriver\n",
    "import pandas as pd\n",
    "import warnings\n",
    "warnings.filterwarnings('ignore')\n",
    "from selenium.webdriver.common.by import By\n",
    "import time"
   ]
  },
  {
   "cell_type": "code",
   "execution_count": null,
   "id": "c1d58f23",
   "metadata": {},
   "outputs": [],
   "source": [
    "driver=webdriver.Chrome(r\"C:\\Users\\swaro\\Downloads\\chromedriver.exe\")"
   ]
  },
  {
   "cell_type": "code",
   "execution_count": 8,
   "id": "01505f9d",
   "metadata": {},
   "outputs": [],
   "source": [
    "url = 'https://www.amazon.in/'\n",
    "driver.get(url)"
   ]
  },
  {
   "cell_type": "code",
   "execution_count": 167,
   "id": "c6e32573",
   "metadata": {},
   "outputs": [],
   "source": [
    "#finding the element to search for laptops\n",
    "search_product_name=driver.find_element(By.CLASS_NAME,'nav-input')\n",
    "search_product_name.send_keys('Laptops')\n"
   ]
  },
  {
   "cell_type": "code",
   "execution_count": 168,
   "id": "ec163230",
   "metadata": {},
   "outputs": [],
   "source": [
    "#to display the results for laptops in amazon\n",
    "Page=driver.find_element(By.XPATH,'/html/body/div[1]/header/div/div[1]/div[2]/div/form/div[3]/div/span/input')\n",
    "Page.click()"
   ]
  },
  {
   "cell_type": "code",
   "execution_count": 170,
   "id": "d8464910",
   "metadata": {},
   "outputs": [],
   "source": [
    "#setting filters to display filters of intel i7\n",
    "filter1=driver.find_element(By.XPATH,'/html/body/div[1]/div[2]/div[1]/div[2]/div/div[3]/span/div[1]/div/div/div[6]/ul[6]/li[13]/span/a/span')\n",
    "filter1.click()"
   ]
  },
  {
   "cell_type": "code",
   "execution_count": 171,
   "id": "8c68d5bb",
   "metadata": {},
   "outputs": [
    {
     "data": {
      "text/plain": [
       "['LG Gram14 Intel EVO-[12th Gen Corei7/Win11/16GB/512GB SSD Intel Iris Xe Graphics] [Thunderbolt4/USB-C] [FHD Webcam+Built-in AI] 72WH Battery 3Yrs Warranty (Black,999 Grams)',\n",
       " 'LG Gram17 Intel EVO-[12th Gen Core i7/Win11/16GB/512GB SSD Intel Iris Xe Graphics] [Thunderbolt4/USB-C] [FHD Webcam+Built-in AI] 80WH Battery 3Yrs Warranty(Black,1.35 kg)',\n",
       " 'ASUS Vivobook 14, Intel Core i7-1165G7 11th Gen, 14\" (35.56 cm) FHD, Thin and Laptop (16GB/512GB SSD/Intel Iris Xe Graphics/Windows 11/Office 2021/FP Sensor/Silver/1.55 kg), X415EA-EK701WS',\n",
       " 'Acer Nitro 5 Gaming Laptop Intel core i7 11th Gen (16 GB/ 512 GB SSD/ NVIDIA® GeForce RTX 3050 Ti/ Windows 11 Home/144hz) AN515-57 with 39.6 cm (15.6 inches) IPS Display / 2.2 Kgs',\n",
       " 'HP Pavilion Plus, 12th Gen Intel Core i7 16GB RAM/1TB SSD 14 inch(35.6 cm)Creator Laptop with OLED,UWVA,Eye Safe Laptop/Intel Iris Xe Graphics/Backlit KB/B&O/FPR/Win 11/Alexa Built-in/MSO,14-eh0024TU',\n",
       " 'HP Victus Gaming Latest 12th Gen Intel Core i7 15.6 inch(39.6 cm) FHD Gaming Laptop (8GB RAM/512GB SSD/RTX 3050 4GB Graphics/144Hz/9ms Response Time/Win 11/MSO/BL KB/B&O/Alexa/Xbox Pass),15-fa0073TX',\n",
       " 'Dell Alienware x14 Gaming Laptop, Intel i7-12700H, 14 “(35.5cm) FHD 144Hz 400nits GSYNC+Advanced Optimus,16GB DDR5, 512GB SSD, Nvidia RTX 3050 Ti 4GB, Dolby Atmos, Lunar Light (1.84 kgs) D569938WIN9',\n",
       " 'Lenovo IdeaPad Slim 5 12th Gen Intel Core i7 15.6\"(39.62cm) FHD IPS Laptop (16GB/512GB SSD/Win 11/Office 2021/Backlit KB/Fingerprint/FHD Camera/Alexa/3 Month Game Pass/Storm Grey/1.85Kg), 82SF004XIN',\n",
       " 'Lenovo ThinkPad E14 Intel Core i7 12th Gen 14\" FHD IPS Thin and Light Laptop (16GB RAM/1TB SSD/Windows 11 Home/MS Office H&S 2021/Backlit Keybaord/FPR/Black/1.59 kg), 21E3S05800',\n",
       " 'ASUS TUF Dash F15 (2022), 15.6-inch (39.62 cms) WQHD 165Hz/3ms, Intel Core i7-12650H 12th Gen, RTX 3070 8GB Graphics, Gaming Laptop (16GB/1TB SSD/Windows 11/Office 2021/Black/2 kg), FX517ZR-HQ030WS']"
      ]
     },
     "execution_count": 171,
     "metadata": {},
     "output_type": "execute_result"
    }
   ],
   "source": [
    "#creating an empty list to scrap all title names\n",
    "title1=[]\n",
    "#scrapting all the tags brand names\n",
    "lap=driver.find_elements(By.CLASS_NAME,\"a-size-mini\")\n",
    "\n",
    "#displaying 10 tags extracted above into text \n",
    "for i in lap:\n",
    "    title1.append(i.text)\n",
    "title1[0:10]"
   ]
  },
  {
   "cell_type": "code",
   "execution_count": 172,
   "id": "e9e2ff74",
   "metadata": {},
   "outputs": [
    {
     "data": {
      "text/plain": [
       "['84,500',\n",
       " '1,15,999',\n",
       " '56,990',\n",
       " '78,990',\n",
       " '94,630',\n",
       " '84,990',\n",
       " '1,69,990',\n",
       " '79,990',\n",
       " '1,02,490',\n",
       " '1,44,990']"
      ]
     },
     "execution_count": 172,
     "metadata": {},
     "output_type": "execute_result"
    }
   ],
   "source": [
    "#creating an empty list to scrap all prices for laptops\n",
    "price_laptop=[]\n",
    "#scrapting all the tags brand names\n",
    "lap_price=driver.find_elements(By.CLASS_NAME,\"a-price-whole\")\n",
    "\n",
    "#displaying 10 tags extracted above into text \n",
    "for i in lap_price:\n",
    "    price_laptop.append(i.text)\n",
    "price_laptop[0:10]"
   ]
  },
  {
   "cell_type": "code",
   "execution_count": 173,
   "id": "2f26ee0f",
   "metadata": {},
   "outputs": [
    {
     "data": {
      "text/html": [
       "<div>\n",
       "<style scoped>\n",
       "    .dataframe tbody tr th:only-of-type {\n",
       "        vertical-align: middle;\n",
       "    }\n",
       "\n",
       "    .dataframe tbody tr th {\n",
       "        vertical-align: top;\n",
       "    }\n",
       "\n",
       "    .dataframe thead th {\n",
       "        text-align: right;\n",
       "    }\n",
       "</style>\n",
       "<table border=\"1\" class=\"dataframe\">\n",
       "  <thead>\n",
       "    <tr style=\"text-align: right;\">\n",
       "      <th></th>\n",
       "      <th>Laptop name</th>\n",
       "      <th>Price</th>\n",
       "    </tr>\n",
       "  </thead>\n",
       "  <tbody>\n",
       "    <tr>\n",
       "      <th>0</th>\n",
       "      <td>LG Gram14 Intel EVO-[12th Gen Corei7/Win11/16G...</td>\n",
       "      <td>84,500</td>\n",
       "    </tr>\n",
       "    <tr>\n",
       "      <th>1</th>\n",
       "      <td>LG Gram17 Intel EVO-[12th Gen Core i7/Win11/16...</td>\n",
       "      <td>1,15,999</td>\n",
       "    </tr>\n",
       "    <tr>\n",
       "      <th>2</th>\n",
       "      <td>ASUS Vivobook 14, Intel Core i7-1165G7 11th Ge...</td>\n",
       "      <td>56,990</td>\n",
       "    </tr>\n",
       "    <tr>\n",
       "      <th>3</th>\n",
       "      <td>Acer Nitro 5 Gaming Laptop Intel core i7 11th ...</td>\n",
       "      <td>78,990</td>\n",
       "    </tr>\n",
       "    <tr>\n",
       "      <th>4</th>\n",
       "      <td>HP Pavilion Plus, 12th Gen Intel Core i7 16GB ...</td>\n",
       "      <td>94,630</td>\n",
       "    </tr>\n",
       "    <tr>\n",
       "      <th>5</th>\n",
       "      <td>HP Victus Gaming Latest 12th Gen Intel Core i7...</td>\n",
       "      <td>84,990</td>\n",
       "    </tr>\n",
       "    <tr>\n",
       "      <th>6</th>\n",
       "      <td>Dell Alienware x14 Gaming Laptop, Intel i7-127...</td>\n",
       "      <td>1,69,990</td>\n",
       "    </tr>\n",
       "    <tr>\n",
       "      <th>7</th>\n",
       "      <td>Lenovo IdeaPad Slim 5 12th Gen Intel Core i7 1...</td>\n",
       "      <td>79,990</td>\n",
       "    </tr>\n",
       "    <tr>\n",
       "      <th>8</th>\n",
       "      <td>Lenovo ThinkPad E14 Intel Core i7 12th Gen 14\"...</td>\n",
       "      <td>1,02,490</td>\n",
       "    </tr>\n",
       "    <tr>\n",
       "      <th>9</th>\n",
       "      <td>ASUS TUF Dash F15 (2022), 15.6-inch (39.62 cms...</td>\n",
       "      <td>1,44,990</td>\n",
       "    </tr>\n",
       "  </tbody>\n",
       "</table>\n",
       "</div>"
      ],
      "text/plain": [
       "                                         Laptop name     Price\n",
       "0  LG Gram14 Intel EVO-[12th Gen Corei7/Win11/16G...    84,500\n",
       "1  LG Gram17 Intel EVO-[12th Gen Core i7/Win11/16...  1,15,999\n",
       "2  ASUS Vivobook 14, Intel Core i7-1165G7 11th Ge...    56,990\n",
       "3  Acer Nitro 5 Gaming Laptop Intel core i7 11th ...    78,990\n",
       "4  HP Pavilion Plus, 12th Gen Intel Core i7 16GB ...    94,630\n",
       "5  HP Victus Gaming Latest 12th Gen Intel Core i7...    84,990\n",
       "6  Dell Alienware x14 Gaming Laptop, Intel i7-127...  1,69,990\n",
       "7  Lenovo IdeaPad Slim 5 12th Gen Intel Core i7 1...    79,990\n",
       "8  Lenovo ThinkPad E14 Intel Core i7 12th Gen 14\"...  1,02,490\n",
       "9  ASUS TUF Dash F15 (2022), 15.6-inch (39.62 cms...  1,44,990"
      ]
     },
     "execution_count": 173,
     "metadata": {},
     "output_type": "execute_result"
    }
   ],
   "source": [
    "import pandas as pd\n",
    "df = pd.DataFrame({'Laptop name':title1[0:10],'Price':price_laptop[0:10]})\n",
    "df"
   ]
  },
  {
   "cell_type": "code",
   "execution_count": 174,
   "id": "2e843a71",
   "metadata": {},
   "outputs": [],
   "source": [
    "driver.close()"
   ]
  },
  {
   "cell_type": "code",
   "execution_count": 175,
   "id": "ef87fb0e",
   "metadata": {},
   "outputs": [],
   "source": [
    "\n",
    "from selenium.common.exceptions import NoSuchElementException"
   ]
  },
  {
   "cell_type": "markdown",
   "id": "f6ee4541",
   "metadata": {},
   "source": [
    "#### Q8: Write a python program to scrape data for Top 1000 Quotes of All Time.\n",
    "##### The above task will be done in following steps:\n",
    "##### 1. First get the webpagehttps://www.azquotes.com/\n",
    "##### 2. Click on TopQuotes\n",
    "#### #3. Than scrap a) Quote b) Author c) Type Of Quotes"
   ]
  },
  {
   "cell_type": "code",
   "execution_count": null,
   "id": "312135b5",
   "metadata": {},
   "outputs": [],
   "source": []
  },
  {
   "cell_type": "code",
   "execution_count": 9,
   "id": "f42c9e66",
   "metadata": {},
   "outputs": [],
   "source": [
    "## importing neccessary libraries\n",
    "import selenium\n",
    "from selenium import webdriver\n",
    "import pandas as pd\n",
    "import warnings\n",
    "warnings.filterwarnings('ignore')\n",
    "from selenium.webdriver.common.by import By\n",
    "import time"
   ]
  },
  {
   "cell_type": "code",
   "execution_count": 10,
   "id": "493e46e6",
   "metadata": {},
   "outputs": [],
   "source": [
    "driver=webdriver.Chrome(r\"C:\\Users\\swaro\\Downloads\\chromedriver.exe\")"
   ]
  },
  {
   "cell_type": "code",
   "execution_count": 12,
   "id": "329af205",
   "metadata": {},
   "outputs": [],
   "source": [
    "url='https://www.azquotes.com/'\n",
    "driver.get(url)    "
   ]
  },
  {
   "cell_type": "code",
   "execution_count": 14,
   "id": "b0394be4",
   "metadata": {},
   "outputs": [],
   "source": [
    "Top_Quotes=driver.find_element(By.XPATH,'/html/body/div[1]/div[1]/div[1]/div/div[3]/ul/li[5]/a')\n",
    "Top_Quotes.click()"
   ]
  },
  {
   "cell_type": "code",
   "execution_count": 15,
   "id": "6992a963",
   "metadata": {},
   "outputs": [
    {
     "data": {
      "text/plain": [
       "[<selenium.webdriver.remote.webelement.WebElement (session=\"963c1411e6ce45a77c60a7c9f4f7dc7d\", element=\"427f48cc-bb01-49f2-a27f-f27d8889f6d3\")>,\n",
       " <selenium.webdriver.remote.webelement.WebElement (session=\"963c1411e6ce45a77c60a7c9f4f7dc7d\", element=\"69ae2dfa-105c-48a0-a2a0-cbd1bb37c8c6\")>,\n",
       " <selenium.webdriver.remote.webelement.WebElement (session=\"963c1411e6ce45a77c60a7c9f4f7dc7d\", element=\"59358c6a-1167-4498-a96b-5c5fe17c5f48\")>,\n",
       " <selenium.webdriver.remote.webelement.WebElement (session=\"963c1411e6ce45a77c60a7c9f4f7dc7d\", element=\"76b197af-4746-477e-8393-391791441623\")>,\n",
       " <selenium.webdriver.remote.webelement.WebElement (session=\"963c1411e6ce45a77c60a7c9f4f7dc7d\", element=\"ad61a460-9511-484d-9e13-4668d0141249\")>,\n",
       " <selenium.webdriver.remote.webelement.WebElement (session=\"963c1411e6ce45a77c60a7c9f4f7dc7d\", element=\"83ab9af5-d5a4-480a-b4e0-975827f05db3\")>,\n",
       " <selenium.webdriver.remote.webelement.WebElement (session=\"963c1411e6ce45a77c60a7c9f4f7dc7d\", element=\"593d76da-99fb-45f7-8f20-7116cd70090d\")>,\n",
       " <selenium.webdriver.remote.webelement.WebElement (session=\"963c1411e6ce45a77c60a7c9f4f7dc7d\", element=\"3d3346d1-19b1-4dd3-97c6-ecd7a5fece76\")>,\n",
       " <selenium.webdriver.remote.webelement.WebElement (session=\"963c1411e6ce45a77c60a7c9f4f7dc7d\", element=\"c301eabd-2ab8-4812-9cba-6b97b775720c\")>,\n",
       " <selenium.webdriver.remote.webelement.WebElement (session=\"963c1411e6ce45a77c60a7c9f4f7dc7d\", element=\"cb227ca2-bf89-43eb-936a-4365a679057c\")>,\n",
       " <selenium.webdriver.remote.webelement.WebElement (session=\"963c1411e6ce45a77c60a7c9f4f7dc7d\", element=\"d9c38821-4a56-4985-a203-3af360fb93d3\")>,\n",
       " <selenium.webdriver.remote.webelement.WebElement (session=\"963c1411e6ce45a77c60a7c9f4f7dc7d\", element=\"570656c0-e1f3-41c5-85e2-76b044eed175\")>,\n",
       " <selenium.webdriver.remote.webelement.WebElement (session=\"963c1411e6ce45a77c60a7c9f4f7dc7d\", element=\"e63e2889-3548-4f4c-a789-c5a8064ffba8\")>,\n",
       " <selenium.webdriver.remote.webelement.WebElement (session=\"963c1411e6ce45a77c60a7c9f4f7dc7d\", element=\"cbe3a461-891c-4406-86de-b932b934e1fa\")>,\n",
       " <selenium.webdriver.remote.webelement.WebElement (session=\"963c1411e6ce45a77c60a7c9f4f7dc7d\", element=\"8c3d92af-eec1-4d0d-850c-cdd1ac739d6f\")>,\n",
       " <selenium.webdriver.remote.webelement.WebElement (session=\"963c1411e6ce45a77c60a7c9f4f7dc7d\", element=\"2323e370-f095-45a2-a556-ef149f115469\")>,\n",
       " <selenium.webdriver.remote.webelement.WebElement (session=\"963c1411e6ce45a77c60a7c9f4f7dc7d\", element=\"5835dd9f-1df4-47cd-9608-32dd67c49e9e\")>,\n",
       " <selenium.webdriver.remote.webelement.WebElement (session=\"963c1411e6ce45a77c60a7c9f4f7dc7d\", element=\"ab67e978-3867-44e7-b225-7ac72330efe0\")>,\n",
       " <selenium.webdriver.remote.webelement.WebElement (session=\"963c1411e6ce45a77c60a7c9f4f7dc7d\", element=\"8f040308-a0f6-4b75-8ee4-58204cbc8dcf\")>,\n",
       " <selenium.webdriver.remote.webelement.WebElement (session=\"963c1411e6ce45a77c60a7c9f4f7dc7d\", element=\"3062a194-610d-4783-b616-475a0833e8e0\")>,\n",
       " <selenium.webdriver.remote.webelement.WebElement (session=\"963c1411e6ce45a77c60a7c9f4f7dc7d\", element=\"4d5c34be-49bf-4585-b4d0-4af89eb62d15\")>,\n",
       " <selenium.webdriver.remote.webelement.WebElement (session=\"963c1411e6ce45a77c60a7c9f4f7dc7d\", element=\"d1d7516d-060c-4dfc-a3d1-fe4434b10cc6\")>,\n",
       " <selenium.webdriver.remote.webelement.WebElement (session=\"963c1411e6ce45a77c60a7c9f4f7dc7d\", element=\"c79eeed2-bef9-4430-a784-984e040d1191\")>,\n",
       " <selenium.webdriver.remote.webelement.WebElement (session=\"963c1411e6ce45a77c60a7c9f4f7dc7d\", element=\"9eeffdc9-1277-43d9-80d7-5f3e40736be7\")>,\n",
       " <selenium.webdriver.remote.webelement.WebElement (session=\"963c1411e6ce45a77c60a7c9f4f7dc7d\", element=\"eb0e51a4-fcb7-4100-a0dd-8ef1659acdd8\")>,\n",
       " <selenium.webdriver.remote.webelement.WebElement (session=\"963c1411e6ce45a77c60a7c9f4f7dc7d\", element=\"3939a463-5315-4e3a-8344-999036a9ca08\")>,\n",
       " <selenium.webdriver.remote.webelement.WebElement (session=\"963c1411e6ce45a77c60a7c9f4f7dc7d\", element=\"358fe125-5427-4cd8-9f38-b7e73527a12c\")>,\n",
       " <selenium.webdriver.remote.webelement.WebElement (session=\"963c1411e6ce45a77c60a7c9f4f7dc7d\", element=\"da8e69a6-6cf5-4603-9273-1093af164ccb\")>,\n",
       " <selenium.webdriver.remote.webelement.WebElement (session=\"963c1411e6ce45a77c60a7c9f4f7dc7d\", element=\"edf5ff93-db02-46b7-b0af-087dee8c78cc\")>,\n",
       " <selenium.webdriver.remote.webelement.WebElement (session=\"963c1411e6ce45a77c60a7c9f4f7dc7d\", element=\"2201987d-c285-4585-8506-a0b6a64464e6\")>,\n",
       " <selenium.webdriver.remote.webelement.WebElement (session=\"963c1411e6ce45a77c60a7c9f4f7dc7d\", element=\"e80a9d23-1e7c-48b7-a858-b16fbf9f44e8\")>,\n",
       " <selenium.webdriver.remote.webelement.WebElement (session=\"963c1411e6ce45a77c60a7c9f4f7dc7d\", element=\"5cec0ebb-2eab-4a5d-8cf4-c7cf0d48f482\")>,\n",
       " <selenium.webdriver.remote.webelement.WebElement (session=\"963c1411e6ce45a77c60a7c9f4f7dc7d\", element=\"4ce6fb5b-725a-43ff-b71a-342a54117185\")>,\n",
       " <selenium.webdriver.remote.webelement.WebElement (session=\"963c1411e6ce45a77c60a7c9f4f7dc7d\", element=\"0cd7d1d7-1195-4a76-914d-aa68f53d56c6\")>,\n",
       " <selenium.webdriver.remote.webelement.WebElement (session=\"963c1411e6ce45a77c60a7c9f4f7dc7d\", element=\"946cc0db-83e2-481a-814e-6d528d8bcc8e\")>,\n",
       " <selenium.webdriver.remote.webelement.WebElement (session=\"963c1411e6ce45a77c60a7c9f4f7dc7d\", element=\"b0301f2b-d437-4f06-9bf2-67a99f441f18\")>,\n",
       " <selenium.webdriver.remote.webelement.WebElement (session=\"963c1411e6ce45a77c60a7c9f4f7dc7d\", element=\"3be68417-7392-4271-aef1-bd8f88fe9207\")>,\n",
       " <selenium.webdriver.remote.webelement.WebElement (session=\"963c1411e6ce45a77c60a7c9f4f7dc7d\", element=\"76c93a47-e642-4541-91ec-bf5973bd9010\")>,\n",
       " <selenium.webdriver.remote.webelement.WebElement (session=\"963c1411e6ce45a77c60a7c9f4f7dc7d\", element=\"b800925b-ab2d-496b-a1b4-b22823d59b5e\")>,\n",
       " <selenium.webdriver.remote.webelement.WebElement (session=\"963c1411e6ce45a77c60a7c9f4f7dc7d\", element=\"0926e4f0-40e9-40ac-943f-2dae3472b353\")>,\n",
       " <selenium.webdriver.remote.webelement.WebElement (session=\"963c1411e6ce45a77c60a7c9f4f7dc7d\", element=\"ab8ea420-5bcd-4656-98a7-75fc8be2383a\")>,\n",
       " <selenium.webdriver.remote.webelement.WebElement (session=\"963c1411e6ce45a77c60a7c9f4f7dc7d\", element=\"8e575207-539f-40d8-9a8f-1616f5058000\")>,\n",
       " <selenium.webdriver.remote.webelement.WebElement (session=\"963c1411e6ce45a77c60a7c9f4f7dc7d\", element=\"c162a8ad-3783-4afc-a0f2-d8120eaba817\")>,\n",
       " <selenium.webdriver.remote.webelement.WebElement (session=\"963c1411e6ce45a77c60a7c9f4f7dc7d\", element=\"19fa124d-3791-49e9-b7c2-3e3da7b9060b\")>,\n",
       " <selenium.webdriver.remote.webelement.WebElement (session=\"963c1411e6ce45a77c60a7c9f4f7dc7d\", element=\"3eac40e5-fb46-4c9f-8cf5-d6e4065b1121\")>,\n",
       " <selenium.webdriver.remote.webelement.WebElement (session=\"963c1411e6ce45a77c60a7c9f4f7dc7d\", element=\"355d06b9-e8b9-43c8-a51f-1eb83ad504d4\")>,\n",
       " <selenium.webdriver.remote.webelement.WebElement (session=\"963c1411e6ce45a77c60a7c9f4f7dc7d\", element=\"eb698098-c3f8-48ef-b358-cfe7e8e19fd0\")>,\n",
       " <selenium.webdriver.remote.webelement.WebElement (session=\"963c1411e6ce45a77c60a7c9f4f7dc7d\", element=\"9360c519-5fe5-4da9-bad2-65dfa09d6860\")>,\n",
       " <selenium.webdriver.remote.webelement.WebElement (session=\"963c1411e6ce45a77c60a7c9f4f7dc7d\", element=\"904e3856-63d5-441f-913c-b095d0e43d3b\")>,\n",
       " <selenium.webdriver.remote.webelement.WebElement (session=\"963c1411e6ce45a77c60a7c9f4f7dc7d\", element=\"b3209007-0e02-433f-b9be-3318624e0da8\")>,\n",
       " <selenium.webdriver.remote.webelement.WebElement (session=\"963c1411e6ce45a77c60a7c9f4f7dc7d\", element=\"5de79030-14da-4e04-b9b7-531dd3e3b0d7\")>,\n",
       " <selenium.webdriver.remote.webelement.WebElement (session=\"963c1411e6ce45a77c60a7c9f4f7dc7d\", element=\"a315ff5c-d562-43f3-b863-89cbc233292b\")>,\n",
       " <selenium.webdriver.remote.webelement.WebElement (session=\"963c1411e6ce45a77c60a7c9f4f7dc7d\", element=\"1eef9c42-b112-4289-a243-df634eacf33f\")>,\n",
       " <selenium.webdriver.remote.webelement.WebElement (session=\"963c1411e6ce45a77c60a7c9f4f7dc7d\", element=\"404f1915-ed1a-4d1d-bb08-6676c46c115d\")>,\n",
       " <selenium.webdriver.remote.webelement.WebElement (session=\"963c1411e6ce45a77c60a7c9f4f7dc7d\", element=\"c262dad5-54e3-4f79-84f1-b9199638b825\")>,\n",
       " <selenium.webdriver.remote.webelement.WebElement (session=\"963c1411e6ce45a77c60a7c9f4f7dc7d\", element=\"676dccb4-8d43-4683-bbbf-8e2557eabc99\")>,\n",
       " <selenium.webdriver.remote.webelement.WebElement (session=\"963c1411e6ce45a77c60a7c9f4f7dc7d\", element=\"9b4b2f55-b106-49d9-842d-2c08cb7f7cae\")>,\n",
       " <selenium.webdriver.remote.webelement.WebElement (session=\"963c1411e6ce45a77c60a7c9f4f7dc7d\", element=\"1fb9078f-e255-437b-a109-f59f14d7a2a3\")>,\n",
       " <selenium.webdriver.remote.webelement.WebElement (session=\"963c1411e6ce45a77c60a7c9f4f7dc7d\", element=\"d3b57ff5-63ba-4f11-b50b-23b35679cee4\")>,\n",
       " <selenium.webdriver.remote.webelement.WebElement (session=\"963c1411e6ce45a77c60a7c9f4f7dc7d\", element=\"1092d7ff-7636-49eb-9ec9-ecdd545684fb\")>,\n",
       " <selenium.webdriver.remote.webelement.WebElement (session=\"963c1411e6ce45a77c60a7c9f4f7dc7d\", element=\"36faf0da-5e09-4e62-be34-dea8ba8463da\")>,\n",
       " <selenium.webdriver.remote.webelement.WebElement (session=\"963c1411e6ce45a77c60a7c9f4f7dc7d\", element=\"461018f8-3f28-4c1b-a315-6535fd073a93\")>,\n",
       " <selenium.webdriver.remote.webelement.WebElement (session=\"963c1411e6ce45a77c60a7c9f4f7dc7d\", element=\"befcf1eb-b305-4842-ad42-66cb874aadb3\")>,\n",
       " <selenium.webdriver.remote.webelement.WebElement (session=\"963c1411e6ce45a77c60a7c9f4f7dc7d\", element=\"176f3af7-85ba-4837-b9c9-bdba1b80ca6b\")>,\n",
       " <selenium.webdriver.remote.webelement.WebElement (session=\"963c1411e6ce45a77c60a7c9f4f7dc7d\", element=\"e925b035-d338-4453-b08e-27c672c888f5\")>,\n",
       " <selenium.webdriver.remote.webelement.WebElement (session=\"963c1411e6ce45a77c60a7c9f4f7dc7d\", element=\"4e41c76d-fae1-48a0-a4fe-6b0c9dbeed8b\")>,\n",
       " <selenium.webdriver.remote.webelement.WebElement (session=\"963c1411e6ce45a77c60a7c9f4f7dc7d\", element=\"ce304a88-e535-4f2b-a70f-a235efee22b3\")>,\n",
       " <selenium.webdriver.remote.webelement.WebElement (session=\"963c1411e6ce45a77c60a7c9f4f7dc7d\", element=\"ef65a005-fac3-4152-ad67-6e5670d536b2\")>,\n",
       " <selenium.webdriver.remote.webelement.WebElement (session=\"963c1411e6ce45a77c60a7c9f4f7dc7d\", element=\"79a9ada8-f42d-4e18-99f4-e03a858f5dcf\")>,\n",
       " <selenium.webdriver.remote.webelement.WebElement (session=\"963c1411e6ce45a77c60a7c9f4f7dc7d\", element=\"4036b1f1-9cfd-491a-9b66-b033ae48a186\")>,\n",
       " <selenium.webdriver.remote.webelement.WebElement (session=\"963c1411e6ce45a77c60a7c9f4f7dc7d\", element=\"6a33e59e-6199-493d-91ec-b1610ff38b6b\")>,\n",
       " <selenium.webdriver.remote.webelement.WebElement (session=\"963c1411e6ce45a77c60a7c9f4f7dc7d\", element=\"2eed99eb-2c8e-4120-8bb6-02791a86018d\")>,\n",
       " <selenium.webdriver.remote.webelement.WebElement (session=\"963c1411e6ce45a77c60a7c9f4f7dc7d\", element=\"52ab2c52-5488-4937-a2bb-9cf7857b1545\")>,\n",
       " <selenium.webdriver.remote.webelement.WebElement (session=\"963c1411e6ce45a77c60a7c9f4f7dc7d\", element=\"cc58eeb2-feea-4c9d-a98a-70497a04c08e\")>,\n",
       " <selenium.webdriver.remote.webelement.WebElement (session=\"963c1411e6ce45a77c60a7c9f4f7dc7d\", element=\"eb0b1c27-0aed-4255-bfaa-19138d4dc51f\")>,\n",
       " <selenium.webdriver.remote.webelement.WebElement (session=\"963c1411e6ce45a77c60a7c9f4f7dc7d\", element=\"66f1f2c5-e496-4e45-919c-5325613e32aa\")>,\n",
       " <selenium.webdriver.remote.webelement.WebElement (session=\"963c1411e6ce45a77c60a7c9f4f7dc7d\", element=\"bc811133-c49e-48c8-b1d8-7f15607f9ad1\")>,\n",
       " <selenium.webdriver.remote.webelement.WebElement (session=\"963c1411e6ce45a77c60a7c9f4f7dc7d\", element=\"c3a986eb-5ce3-4028-b1d2-03c6f48b7e95\")>,\n",
       " <selenium.webdriver.remote.webelement.WebElement (session=\"963c1411e6ce45a77c60a7c9f4f7dc7d\", element=\"170c7031-518b-4f4e-a9b2-e376fa474eea\")>,\n",
       " <selenium.webdriver.remote.webelement.WebElement (session=\"963c1411e6ce45a77c60a7c9f4f7dc7d\", element=\"7fca7996-d6f7-4a4c-891d-6929519fd2f3\")>,\n",
       " <selenium.webdriver.remote.webelement.WebElement (session=\"963c1411e6ce45a77c60a7c9f4f7dc7d\", element=\"635753d3-2ba2-4350-8f38-a2738985e114\")>,\n",
       " <selenium.webdriver.remote.webelement.WebElement (session=\"963c1411e6ce45a77c60a7c9f4f7dc7d\", element=\"dd7e9260-92ea-4361-a8fc-a7a900644357\")>,\n",
       " <selenium.webdriver.remote.webelement.WebElement (session=\"963c1411e6ce45a77c60a7c9f4f7dc7d\", element=\"8c387d43-8a7d-46e4-b16c-3b68923b9241\")>,\n",
       " <selenium.webdriver.remote.webelement.WebElement (session=\"963c1411e6ce45a77c60a7c9f4f7dc7d\", element=\"94bf36a9-31be-45e0-be85-8ad9ed492d96\")>,\n",
       " <selenium.webdriver.remote.webelement.WebElement (session=\"963c1411e6ce45a77c60a7c9f4f7dc7d\", element=\"b3de0885-1805-43ff-a8e9-40c6a581a98b\")>,\n",
       " <selenium.webdriver.remote.webelement.WebElement (session=\"963c1411e6ce45a77c60a7c9f4f7dc7d\", element=\"f93ef4c1-f2a2-4f81-9511-515cd3cc483f\")>,\n",
       " <selenium.webdriver.remote.webelement.WebElement (session=\"963c1411e6ce45a77c60a7c9f4f7dc7d\", element=\"9bba2d77-616f-41c5-82b7-dca8f7348482\")>,\n",
       " <selenium.webdriver.remote.webelement.WebElement (session=\"963c1411e6ce45a77c60a7c9f4f7dc7d\", element=\"6dc35d67-df27-484a-bfd5-cba32337ba40\")>,\n",
       " <selenium.webdriver.remote.webelement.WebElement (session=\"963c1411e6ce45a77c60a7c9f4f7dc7d\", element=\"9ca9ab70-6015-45ce-b11d-10b248a3e177\")>,\n",
       " <selenium.webdriver.remote.webelement.WebElement (session=\"963c1411e6ce45a77c60a7c9f4f7dc7d\", element=\"463a41b4-55f4-4982-a5a0-bf313ab43fbe\")>,\n",
       " <selenium.webdriver.remote.webelement.WebElement (session=\"963c1411e6ce45a77c60a7c9f4f7dc7d\", element=\"dfbca94a-9932-4937-89bf-06b461a3b979\")>,\n",
       " <selenium.webdriver.remote.webelement.WebElement (session=\"963c1411e6ce45a77c60a7c9f4f7dc7d\", element=\"56dd3e8d-3a96-4e8d-8756-13c72c670c3a\")>,\n",
       " <selenium.webdriver.remote.webelement.WebElement (session=\"963c1411e6ce45a77c60a7c9f4f7dc7d\", element=\"04b8a6ef-6162-48ae-b1e7-be87a1310bdd\")>,\n",
       " <selenium.webdriver.remote.webelement.WebElement (session=\"963c1411e6ce45a77c60a7c9f4f7dc7d\", element=\"449d0dcd-a969-46eb-89a3-c8ef798d1dd3\")>,\n",
       " <selenium.webdriver.remote.webelement.WebElement (session=\"963c1411e6ce45a77c60a7c9f4f7dc7d\", element=\"5fe48033-05bf-4623-9457-225d18c8cc5f\")>,\n",
       " <selenium.webdriver.remote.webelement.WebElement (session=\"963c1411e6ce45a77c60a7c9f4f7dc7d\", element=\"6c98e9d4-efc7-47b7-aec5-5a86f9cf8b87\")>,\n",
       " <selenium.webdriver.remote.webelement.WebElement (session=\"963c1411e6ce45a77c60a7c9f4f7dc7d\", element=\"b0d773c8-7531-483e-b9f9-0d6fc1004b33\")>,\n",
       " <selenium.webdriver.remote.webelement.WebElement (session=\"963c1411e6ce45a77c60a7c9f4f7dc7d\", element=\"e09d0a8d-b1a7-4345-b480-42c0100b1140\")>,\n",
       " <selenium.webdriver.remote.webelement.WebElement (session=\"963c1411e6ce45a77c60a7c9f4f7dc7d\", element=\"e15865ac-687b-40f6-8376-56abc60fd340\")>,\n",
       " <selenium.webdriver.remote.webelement.WebElement (session=\"963c1411e6ce45a77c60a7c9f4f7dc7d\", element=\"94566d12-b161-4bd8-90d8-4666f1b1cb08\")>]"
      ]
     },
     "execution_count": 15,
     "metadata": {},
     "output_type": "execute_result"
    }
   ],
   "source": [
    "#so let's extract all the quotes \n",
    "quote_tags=driver.find_elements(By.XPATH,'//a[@class=\"title\"]')\n",
    "quote_tags"
   ]
  },
  {
   "cell_type": "code",
   "execution_count": 16,
   "id": "eaebf90e",
   "metadata": {},
   "outputs": [
    {
     "data": {
      "text/plain": [
       "['The essence of strategy is choosing what not to do.',\n",
       " 'One cannot and must not try to erase the past merely because it does not fit the present.',\n",
       " 'Patriotism means to stand by the country. It does not mean to stand by the president.',\n",
       " 'Death is something inevitable. When a man has done what he considers to be his duty to his people and his country, he can rest in peace. I believe I have made that effort and that is, therefore, why I will sleep for the eternity.',\n",
       " 'You have to love a nation that celebrates its independence every July 4, not with a parade of guns, tanks, and soldiers who file by the White House in a show of strength and muscle, but with family picnics where kids throw Frisbees, the potato salad gets iffy, and the flies die from happiness. You may think you have overeaten, but it is patriotism.',\n",
       " 'Be more concerned with your character than your reputation, because your character is what you really are, while your reputation is merely what others think you are.',\n",
       " 'Weak people revenge. Strong people forgive. Intelligent People Ignore.',\n",
       " \"A mind is like a parachute. It doesn't work if it is not open.\",\n",
       " 'Never be afraid to raise your voice for honesty and truth and compassion against injustice and lying and greed. If people all over the world...would do this, it would change the earth.',\n",
       " 'There are three kinds of men. The one that learns by reading. The few who learn by observation. The rest of them have to pee on the electric fence for themselves.',\n",
       " \"A strong nation, like a strong person, can afford to be gentle, firm, thoughtful, and restrained. It can afford to extend a helping hand to others. It's a weak nation, like a weak person, that must behave with bluster and boasting and rashness and other signs of insecurity.\",\n",
       " 'The difference between stupidity and genius is that genius has its limits.',\n",
       " 'We the people are the rightful masters of both Congress and the courts, not to overthrow the Constitution but to overthrow the men who pervert the Constitution.',\n",
       " 'With or without religion, you would have good people doing good things and evil people doing evil things. But for good people to do evil things, that takes religion.',\n",
       " 'Human kindness has never weakened the stamina or softened the fiber of a free people. A nation does not have to be cruel to be tough.',\n",
       " 'A person who never made a mistake never tried anything new.',\n",
       " 'My mission in life is not merely to survive, but to thrive; and to do so with some passion, some compassion, some humor, and some style',\n",
       " 'Life is short, Break the Rules. Forgive quickly, Kiss slowly. Love truly. Laugh uncontrollably And never regret ANYTHING That makes you smile.',\n",
       " 'This country will not be a good place for any of us to live in unless we make it a good place for all of us to live in.',\n",
       " 'In a world filled with hate, we must still dare to hope. In a world filled with anger, we must still dare to comfort. In a world filled with despair, we must still dare to dream. And in a world filled with distrust, we must still dare to believe.',\n",
       " 'Darkness cannot drive out darkness; only light can do that. Hate cannot drive out hate; only love can do that.',\n",
       " 'To be a Christian means to forgive the inexcusable because God has forgiven the inexcusable in you.',\n",
       " 'A man who is good enough to shed his blood for the country is good enough to be given a square deal afterwards.',\n",
       " 'Kindness is the language which the deaf can hear and the blind can see.',\n",
       " 'Most folks are as happy as they make up their minds to be.',\n",
       " 'A happy marriage is the union of two good forgivers.',\n",
       " 'I believe in Christianity as I believe that the sun has risen: not only because I see it, but because by it I see everything else.',\n",
       " 'Politics is the art of looking for trouble, finding it everywhere, diagnosing it incorrectly and applying the wrong remedies.',\n",
       " \"I believe in everything until it's disproved. So I believe in fairies, the myths, dragons. It all exists, even if it's in your mind. Who's to say that dreams and nightmares aren't as real as the here and now?\",\n",
       " 'At the end of your life, you will never regret not having passed one more test, not winning one more verdict or not closing one more deal. You will regret time not spent with a husband, a friend, a child, or a parent.',\n",
       " 'I never think of the future - it comes soon enough.',\n",
       " \"Our greatest fear should not be of failure but of succeeding at things in life that don't really matter.\",\n",
       " 'Failure is simply the opportunity to begin again, this time more intelligently.',\n",
       " 'Music expresses that which cannot be put into words.',\n",
       " 'Good actions are a guard against the blows of adversity.',\n",
       " 'Positive thinking will let you do everything better than negative thinking will.',\n",
       " \"You have enemies? Good. That means you've stood up for something, sometime in your life.\",\n",
       " \"You don't have to be great to start, but you have to start to be great\",\n",
       " 'Let every nation know, whether it wishes us well or ill, that we shall pay any price, bear any burden, meet any hardship, support any friend, oppose any foe to assure the survival and the success of liberty.',\n",
       " \"If you want total security, go to prison. There you're fed, clothed, given medical care and so on. The only thing lacking... is freedom.\",\n",
       " 'Socialism is a philosophy of failure, the creed of ignorance, and the gospel of envy, its inherent virtue is the equal sharing of misery.',\n",
       " 'It is the supreme art of the teacher to awaken joy in creative expression and knowledge.',\n",
       " \"Once you replace negative thoughts with positive ones, you'll start having positive results.\",\n",
       " \"You build on failure. You use it as a stepping stone. Close the door on the past. You don't try to forget the mistakes, but you don't dwell on it. You don't let it have any of your energy, or any of your time, or any of your space.\",\n",
       " 'All my life through, the new sights of Nature made me rejoice like a child.',\n",
       " \"I've learned that people will forget what you said, people will forget what you did, but people will never forget how you made them feel.\",\n",
       " 'Marriage is not a ritual or an end. It is a long, intricate, intimate dance together and nothing matters more than your own sense of balance and your choice of partner.',\n",
       " 'When obstacles arise, you change your direction to reach your goal; you do not change your decision to get there.',\n",
       " 'Time you enjoy wasting, was not wasted.',\n",
       " 'The next time some academics tell you how important diversity is, ask how many Republicans there are in their sociology department.',\n",
       " 'Faith is not the belief that God will do what you want. It is the belief that God will do what is right.',\n",
       " \"If you can't fly then run, if you can't run then walk, if you can't walk then crawl, but whatever you do you have to keep moving forward.\",\n",
       " 'I say that the most liberating thing about beauty is realizing that you are the beholder.',\n",
       " 'It is hard to imagine a more stupid or more dangerous way of making decisions than by putting those decisions in the hands of people who pay no price for being wrong.',\n",
       " 'The ultimate measure of a man is not where he stands in moments of comfort and convenience, but where he stands at times of challenge and controversy.',\n",
       " 'The soldier, above all other people, prays for peace, for he must suffer and bear the deepest wounds and scars of war.',\n",
       " 'A true leader has the confidence to stand alone, the courage to make tough decisions, and the compassion to listen to the needs of others. He does not set out to be a leader, but becomes one by the equality of his actions and the integrity of his intent.',\n",
       " 'I am a Soldier, I fight where I am told, and I win where I fight.',\n",
       " \"Trying to do the Lord's work in your own strength is the most confusing, exhausting, and tedious of all work. But when you are filled with the Holy Spirit, then the ministry of Jesus just flows out of you.\",\n",
       " \"Sports for me is when a guy walks off the court, and you really can't tell whether he won or lost, when he carries himself with pride either way.\",\n",
       " 'Expect the best. Prepare for the worst. Capitalize on what comes.',\n",
       " 'I became insane, with long intervals of horrible sanity.',\n",
       " 'Failure is a detour, not a dead-end street.',\n",
       " 'I am not a product of my circumstances. I am a product of my decisions.',\n",
       " 'You can cut all the flowers but you cannot keep spring from coming.',\n",
       " \"Life doesn't run away from nobody. Life runs at people.\",\n",
       " 'In order to succeed, your desire for success should be greater than your fear of failure.',\n",
       " \"It's difficult to think anything but pleasant thoughts while eating a homegrown tomato.\",\n",
       " 'Too many of us are not living our dreams because we are living our fears.',\n",
       " 'If the only prayer you ever say in your entire life is thank you, it will be enough.',\n",
       " \"It's just a job. Grass grows, birds fly, waves pound the sand. I beat people up.\",\n",
       " 'A man must be big enough to admit his mistakes, smart enough to profit from them, and strong enough to correct them.',\n",
       " 'Our greatest weakness lies in giving up. The most certain way to succeed is always to try just one more time.',\n",
       " 'This is one small step for a man, one giant leap for mankind.',\n",
       " \"It has been said, 'time heals all wounds.' I do not agree. The wounds remain. In time, the mind, protecting its sanity, covers them with scar tissue and the pain lessens. But it is never gone.\",\n",
       " \"I have held many things in my hands, and I have lost them all; but whatever I have placed in God's hands, that I still possess.\",\n",
       " \"Welfare's purpose should be to eliminate, as far as possible, the need for its own existence.\",\n",
       " 'Each time, before you intercede, be quiet first, and worship God in His glory. Think of what He can do, and how He delights to hear the prayers of His redeemed people. Think of your place and privilege in Christ, and expect great things!',\n",
       " \"Failure is not the opposite of success; it's part of success.\",\n",
       " 'No one has ever become poor by giving.',\n",
       " 'It is not my ability, but my response to God’s ability, that counts.',\n",
       " 'No matter what people tell you, words and ideas can change the world.',\n",
       " 'No one is born hating another person because of the color of his skin, or his background, or his religion. People must learn to hate, and if they can learn to hate, they can be taught to love, for love comes more naturally to the human heart than its opposite.',\n",
       " 'A man should never neglect his family for business.',\n",
       " 'Those who dare to fail miserably can achieve greatly.',\n",
       " 'The two most important days in your life are the day you are born and the day you find out why.',\n",
       " 'We must be global Christians with a global vision because our God is a global God.',\n",
       " 'With everything that has happened to you, you can either feel sorry for yourself or treat what has happened as a gift. Everything is either an opportunity to grow or an obstacle to keep you from growing. You get to choose.',\n",
       " 'Don’t let the noise of others’ opinions drown out your own inner voice.',\n",
       " 'History, despite its wrenching pain, cannot be unlived, but if faced with courage, need not be lived again.',\n",
       " \"How old would you be if you didn't know how old you are?\",\n",
       " 'Leadership is a privilege to better the lives of others. It is not an opportunity to satisfy personal greed.',\n",
       " 'If you have good thoughts they will shine out of your face like sunbeams and you will always look lovely.',\n",
       " 'Never cut a tree down in the wintertime. Never make a negative decision in the low time. Never make your most important decisions when you are in your worst moods. Wait. Be patient. The storm will pass. The spring will come.',\n",
       " 'An optimist stays up until midnight to see the new year in. A pessimist stays up to make sure the old year leaves.',\n",
       " 'When the going gets weird, the weird turn pro.',\n",
       " \"When a train goes through a tunnel and it gets dark, you don't throw away the ticket and jump off. You sit still and trust the engineer.\",\n",
       " 'If you think you are too small to make a difference, try sleeping with a mosquito.',\n",
       " \"God doesn't require us to succeed, he only requires that you try.\",\n",
       " 'Change your thoughts and you change your world.']"
      ]
     },
     "execution_count": 16,
     "metadata": {},
     "output_type": "execute_result"
    }
   ],
   "source": [
    "# extract the top 1000 quotes\n",
    "Top_Quotes=[]\n",
    "for i in quote_tags:\n",
    "    if i.text is None:\n",
    "        Top_Quotes.append('Not')\n",
    "    else:\n",
    "        Top_Quotes.append(i.text)\n",
    "Top_Quotes[:1000]  "
   ]
  },
  {
   "cell_type": "code",
   "execution_count": 19,
   "id": "3ae9988e",
   "metadata": {},
   "outputs": [
    {
     "data": {
      "text/plain": [
       "[<selenium.webdriver.remote.webelement.WebElement (session=\"963c1411e6ce45a77c60a7c9f4f7dc7d\", element=\"e9de3a45-4733-42ff-97b9-0d97b7f6ff4f\")>,\n",
       " <selenium.webdriver.remote.webelement.WebElement (session=\"963c1411e6ce45a77c60a7c9f4f7dc7d\", element=\"f616dbda-f68c-44aa-b241-eb34869be2d2\")>,\n",
       " <selenium.webdriver.remote.webelement.WebElement (session=\"963c1411e6ce45a77c60a7c9f4f7dc7d\", element=\"50a34cae-4103-44c9-8240-e89f33b25fc4\")>,\n",
       " <selenium.webdriver.remote.webelement.WebElement (session=\"963c1411e6ce45a77c60a7c9f4f7dc7d\", element=\"a07931eb-563e-4247-84f9-99e3a080f5cf\")>,\n",
       " <selenium.webdriver.remote.webelement.WebElement (session=\"963c1411e6ce45a77c60a7c9f4f7dc7d\", element=\"1b62df68-f441-450e-b358-f0872993968d\")>,\n",
       " <selenium.webdriver.remote.webelement.WebElement (session=\"963c1411e6ce45a77c60a7c9f4f7dc7d\", element=\"d2fbf223-b506-4a0b-8947-558a88d15f44\")>,\n",
       " <selenium.webdriver.remote.webelement.WebElement (session=\"963c1411e6ce45a77c60a7c9f4f7dc7d\", element=\"f100065a-df18-42f0-ae52-6fa9f99cb74e\")>,\n",
       " <selenium.webdriver.remote.webelement.WebElement (session=\"963c1411e6ce45a77c60a7c9f4f7dc7d\", element=\"dd8368eb-201d-462f-be1a-c99751a6f62d\")>,\n",
       " <selenium.webdriver.remote.webelement.WebElement (session=\"963c1411e6ce45a77c60a7c9f4f7dc7d\", element=\"081fbb51-cb13-4787-bed7-01f682b80e89\")>,\n",
       " <selenium.webdriver.remote.webelement.WebElement (session=\"963c1411e6ce45a77c60a7c9f4f7dc7d\", element=\"2ef1d4b0-22d2-486a-9f39-1f89dad5aa0e\")>,\n",
       " <selenium.webdriver.remote.webelement.WebElement (session=\"963c1411e6ce45a77c60a7c9f4f7dc7d\", element=\"3c4a759d-0642-4cb6-bbc0-4dbfc1334430\")>,\n",
       " <selenium.webdriver.remote.webelement.WebElement (session=\"963c1411e6ce45a77c60a7c9f4f7dc7d\", element=\"dc200154-1f19-4f78-be74-e125690e2fb5\")>,\n",
       " <selenium.webdriver.remote.webelement.WebElement (session=\"963c1411e6ce45a77c60a7c9f4f7dc7d\", element=\"c68c457f-7cf9-4051-922e-079270d79223\")>,\n",
       " <selenium.webdriver.remote.webelement.WebElement (session=\"963c1411e6ce45a77c60a7c9f4f7dc7d\", element=\"61443185-ab48-4833-b6a5-3795e3ab1831\")>,\n",
       " <selenium.webdriver.remote.webelement.WebElement (session=\"963c1411e6ce45a77c60a7c9f4f7dc7d\", element=\"d0bedb68-8730-4407-a9a7-2c0878e230ed\")>,\n",
       " <selenium.webdriver.remote.webelement.WebElement (session=\"963c1411e6ce45a77c60a7c9f4f7dc7d\", element=\"57945adc-379d-4b54-9f72-684043c6d4ae\")>,\n",
       " <selenium.webdriver.remote.webelement.WebElement (session=\"963c1411e6ce45a77c60a7c9f4f7dc7d\", element=\"ece42a19-c70d-4264-bac1-eecc96f232ad\")>,\n",
       " <selenium.webdriver.remote.webelement.WebElement (session=\"963c1411e6ce45a77c60a7c9f4f7dc7d\", element=\"38038500-90b8-436d-b1b8-d68505dc077e\")>,\n",
       " <selenium.webdriver.remote.webelement.WebElement (session=\"963c1411e6ce45a77c60a7c9f4f7dc7d\", element=\"a52fbce9-19c7-4f58-97b5-ba9be686e5ff\")>,\n",
       " <selenium.webdriver.remote.webelement.WebElement (session=\"963c1411e6ce45a77c60a7c9f4f7dc7d\", element=\"d3c01a9d-d77f-4e57-97cf-b349a3962bb9\")>,\n",
       " <selenium.webdriver.remote.webelement.WebElement (session=\"963c1411e6ce45a77c60a7c9f4f7dc7d\", element=\"c3acdb5b-7dd1-43d0-bca6-830ee45adc50\")>,\n",
       " <selenium.webdriver.remote.webelement.WebElement (session=\"963c1411e6ce45a77c60a7c9f4f7dc7d\", element=\"5eac7284-8cfb-4db1-ab40-b3ec22ae4f7a\")>,\n",
       " <selenium.webdriver.remote.webelement.WebElement (session=\"963c1411e6ce45a77c60a7c9f4f7dc7d\", element=\"33c7061d-7fce-4747-a422-874298cefdc2\")>,\n",
       " <selenium.webdriver.remote.webelement.WebElement (session=\"963c1411e6ce45a77c60a7c9f4f7dc7d\", element=\"740cd5c4-11f9-4eb3-bbb3-c87055f79fcb\")>,\n",
       " <selenium.webdriver.remote.webelement.WebElement (session=\"963c1411e6ce45a77c60a7c9f4f7dc7d\", element=\"1ac75a6f-588f-42d3-a3fa-a60f1956ef8e\")>,\n",
       " <selenium.webdriver.remote.webelement.WebElement (session=\"963c1411e6ce45a77c60a7c9f4f7dc7d\", element=\"b7640365-2e15-4418-b94f-4c94e705c979\")>,\n",
       " <selenium.webdriver.remote.webelement.WebElement (session=\"963c1411e6ce45a77c60a7c9f4f7dc7d\", element=\"0c794354-55b0-4058-a8b2-23bb759a0ff6\")>,\n",
       " <selenium.webdriver.remote.webelement.WebElement (session=\"963c1411e6ce45a77c60a7c9f4f7dc7d\", element=\"74c971ec-1691-4b4d-af80-32cd0a7cdcaa\")>,\n",
       " <selenium.webdriver.remote.webelement.WebElement (session=\"963c1411e6ce45a77c60a7c9f4f7dc7d\", element=\"1f369964-ce06-4f68-9f1d-31f7112ebdec\")>,\n",
       " <selenium.webdriver.remote.webelement.WebElement (session=\"963c1411e6ce45a77c60a7c9f4f7dc7d\", element=\"24bc6055-60f4-46c6-b96d-5e66564350e1\")>,\n",
       " <selenium.webdriver.remote.webelement.WebElement (session=\"963c1411e6ce45a77c60a7c9f4f7dc7d\", element=\"dbbd189d-6bd0-431e-a8a4-256145c7db45\")>,\n",
       " <selenium.webdriver.remote.webelement.WebElement (session=\"963c1411e6ce45a77c60a7c9f4f7dc7d\", element=\"e62914c2-d372-4221-850f-80181c7fdc96\")>,\n",
       " <selenium.webdriver.remote.webelement.WebElement (session=\"963c1411e6ce45a77c60a7c9f4f7dc7d\", element=\"c2576b46-8197-4a00-ad55-9b28a114148d\")>,\n",
       " <selenium.webdriver.remote.webelement.WebElement (session=\"963c1411e6ce45a77c60a7c9f4f7dc7d\", element=\"a8445036-581a-46e3-9878-e59657437d5b\")>,\n",
       " <selenium.webdriver.remote.webelement.WebElement (session=\"963c1411e6ce45a77c60a7c9f4f7dc7d\", element=\"e056bc12-d8f8-41dd-8369-d04293dab017\")>,\n",
       " <selenium.webdriver.remote.webelement.WebElement (session=\"963c1411e6ce45a77c60a7c9f4f7dc7d\", element=\"435060c0-d854-4530-8324-20a5d9dbf306\")>,\n",
       " <selenium.webdriver.remote.webelement.WebElement (session=\"963c1411e6ce45a77c60a7c9f4f7dc7d\", element=\"1ecffe63-7301-4f85-96f9-bbf6f5a8a2ff\")>,\n",
       " <selenium.webdriver.remote.webelement.WebElement (session=\"963c1411e6ce45a77c60a7c9f4f7dc7d\", element=\"e26047c8-5693-4e27-a2ba-aee357856a51\")>,\n",
       " <selenium.webdriver.remote.webelement.WebElement (session=\"963c1411e6ce45a77c60a7c9f4f7dc7d\", element=\"5dab876b-09f3-4aa1-8e21-24e143bf79ea\")>,\n",
       " <selenium.webdriver.remote.webelement.WebElement (session=\"963c1411e6ce45a77c60a7c9f4f7dc7d\", element=\"c676ebe1-5097-4796-82d6-dbf4f57722ff\")>,\n",
       " <selenium.webdriver.remote.webelement.WebElement (session=\"963c1411e6ce45a77c60a7c9f4f7dc7d\", element=\"33e07f3b-e4d6-47d5-98bc-14b04eb03200\")>,\n",
       " <selenium.webdriver.remote.webelement.WebElement (session=\"963c1411e6ce45a77c60a7c9f4f7dc7d\", element=\"e08b6e33-6541-46e7-a9a7-8c071f7efd35\")>,\n",
       " <selenium.webdriver.remote.webelement.WebElement (session=\"963c1411e6ce45a77c60a7c9f4f7dc7d\", element=\"e787d091-71c5-45df-85e9-2cfe034874d7\")>,\n",
       " <selenium.webdriver.remote.webelement.WebElement (session=\"963c1411e6ce45a77c60a7c9f4f7dc7d\", element=\"efaf1664-d590-4776-9f77-e0c675017897\")>,\n",
       " <selenium.webdriver.remote.webelement.WebElement (session=\"963c1411e6ce45a77c60a7c9f4f7dc7d\", element=\"cf39af58-4e5c-4269-9af3-994237e82df6\")>,\n",
       " <selenium.webdriver.remote.webelement.WebElement (session=\"963c1411e6ce45a77c60a7c9f4f7dc7d\", element=\"9520ed7c-ad97-47c2-b0e1-a46edc18d821\")>,\n",
       " <selenium.webdriver.remote.webelement.WebElement (session=\"963c1411e6ce45a77c60a7c9f4f7dc7d\", element=\"527b8ca7-c952-47a0-803c-03517de7b5bc\")>,\n",
       " <selenium.webdriver.remote.webelement.WebElement (session=\"963c1411e6ce45a77c60a7c9f4f7dc7d\", element=\"71558837-0855-42c4-bbe6-735e33bed330\")>,\n",
       " <selenium.webdriver.remote.webelement.WebElement (session=\"963c1411e6ce45a77c60a7c9f4f7dc7d\", element=\"2c362499-e259-4ed1-a1b7-5c0a43f2e796\")>,\n",
       " <selenium.webdriver.remote.webelement.WebElement (session=\"963c1411e6ce45a77c60a7c9f4f7dc7d\", element=\"77b30720-0c46-4cbb-ac56-14d99da1051c\")>,\n",
       " <selenium.webdriver.remote.webelement.WebElement (session=\"963c1411e6ce45a77c60a7c9f4f7dc7d\", element=\"294e49a1-7ce3-4175-b4c2-190eb311be0f\")>,\n",
       " <selenium.webdriver.remote.webelement.WebElement (session=\"963c1411e6ce45a77c60a7c9f4f7dc7d\", element=\"57f38652-0626-4e76-a3e0-2ebfa6586d57\")>,\n",
       " <selenium.webdriver.remote.webelement.WebElement (session=\"963c1411e6ce45a77c60a7c9f4f7dc7d\", element=\"370516a1-5340-4baa-a0ac-6afd74df4bbd\")>,\n",
       " <selenium.webdriver.remote.webelement.WebElement (session=\"963c1411e6ce45a77c60a7c9f4f7dc7d\", element=\"6dbb6dec-f610-41cc-8923-63f7902c83a3\")>,\n",
       " <selenium.webdriver.remote.webelement.WebElement (session=\"963c1411e6ce45a77c60a7c9f4f7dc7d\", element=\"48186fd3-ce11-44f1-919f-dcc293f1cf7b\")>,\n",
       " <selenium.webdriver.remote.webelement.WebElement (session=\"963c1411e6ce45a77c60a7c9f4f7dc7d\", element=\"e8903ca7-aff0-4931-bf90-1bd0eb4761ca\")>,\n",
       " <selenium.webdriver.remote.webelement.WebElement (session=\"963c1411e6ce45a77c60a7c9f4f7dc7d\", element=\"a3ffe3f7-da21-49d4-85ae-3750ec32e564\")>,\n",
       " <selenium.webdriver.remote.webelement.WebElement (session=\"963c1411e6ce45a77c60a7c9f4f7dc7d\", element=\"0f185af4-42e6-4637-9092-f5abad7465be\")>,\n",
       " <selenium.webdriver.remote.webelement.WebElement (session=\"963c1411e6ce45a77c60a7c9f4f7dc7d\", element=\"4d283bc7-2825-4bb5-8cb8-20f55ce2d6c4\")>,\n",
       " <selenium.webdriver.remote.webelement.WebElement (session=\"963c1411e6ce45a77c60a7c9f4f7dc7d\", element=\"c6f2a36d-7d9a-4375-8c1a-144bf88d4818\")>,\n",
       " <selenium.webdriver.remote.webelement.WebElement (session=\"963c1411e6ce45a77c60a7c9f4f7dc7d\", element=\"7085277d-eb2f-46a7-aa33-d6854aa0af03\")>,\n",
       " <selenium.webdriver.remote.webelement.WebElement (session=\"963c1411e6ce45a77c60a7c9f4f7dc7d\", element=\"cbfa01ea-7dfe-435f-9c1e-5de15301afb5\")>,\n",
       " <selenium.webdriver.remote.webelement.WebElement (session=\"963c1411e6ce45a77c60a7c9f4f7dc7d\", element=\"1df90458-cf84-48b5-b4a0-8a53d3bef191\")>,\n",
       " <selenium.webdriver.remote.webelement.WebElement (session=\"963c1411e6ce45a77c60a7c9f4f7dc7d\", element=\"27240987-34e0-4775-b625-7ff028cfef7b\")>,\n",
       " <selenium.webdriver.remote.webelement.WebElement (session=\"963c1411e6ce45a77c60a7c9f4f7dc7d\", element=\"3be4d68c-fe9c-457e-a265-2a670530a93e\")>,\n",
       " <selenium.webdriver.remote.webelement.WebElement (session=\"963c1411e6ce45a77c60a7c9f4f7dc7d\", element=\"ecf5c6a3-d1c5-464a-9931-1fba01e3d5a6\")>,\n",
       " <selenium.webdriver.remote.webelement.WebElement (session=\"963c1411e6ce45a77c60a7c9f4f7dc7d\", element=\"4c7825c0-0920-4047-9bc0-b59574707f8e\")>,\n",
       " <selenium.webdriver.remote.webelement.WebElement (session=\"963c1411e6ce45a77c60a7c9f4f7dc7d\", element=\"a993c4c1-b5ee-4e31-ae28-32d7af37fcac\")>,\n",
       " <selenium.webdriver.remote.webelement.WebElement (session=\"963c1411e6ce45a77c60a7c9f4f7dc7d\", element=\"66bc25b8-c0d7-4fba-b7dd-f942cfebfcd0\")>,\n",
       " <selenium.webdriver.remote.webelement.WebElement (session=\"963c1411e6ce45a77c60a7c9f4f7dc7d\", element=\"4d84e9f2-0a90-4805-85ca-e3ead52bfe06\")>,\n",
       " <selenium.webdriver.remote.webelement.WebElement (session=\"963c1411e6ce45a77c60a7c9f4f7dc7d\", element=\"8fdae17d-ca46-40bb-a45f-78873ee33979\")>,\n",
       " <selenium.webdriver.remote.webelement.WebElement (session=\"963c1411e6ce45a77c60a7c9f4f7dc7d\", element=\"2ac99b1b-699e-4828-a5ad-47c87f95f3d9\")>,\n",
       " <selenium.webdriver.remote.webelement.WebElement (session=\"963c1411e6ce45a77c60a7c9f4f7dc7d\", element=\"f42777c9-6040-468c-97bc-afe87fb388d1\")>,\n",
       " <selenium.webdriver.remote.webelement.WebElement (session=\"963c1411e6ce45a77c60a7c9f4f7dc7d\", element=\"9eae7843-65ab-4a8d-b503-21cd0e809b11\")>,\n",
       " <selenium.webdriver.remote.webelement.WebElement (session=\"963c1411e6ce45a77c60a7c9f4f7dc7d\", element=\"59562e5b-bf92-4e3a-b637-464cadff0388\")>,\n",
       " <selenium.webdriver.remote.webelement.WebElement (session=\"963c1411e6ce45a77c60a7c9f4f7dc7d\", element=\"eb8a58f4-1850-4545-83c7-e54ee7b29e3d\")>,\n",
       " <selenium.webdriver.remote.webelement.WebElement (session=\"963c1411e6ce45a77c60a7c9f4f7dc7d\", element=\"3546abe2-70a9-491f-929b-1d56c8a2e8b9\")>,\n",
       " <selenium.webdriver.remote.webelement.WebElement (session=\"963c1411e6ce45a77c60a7c9f4f7dc7d\", element=\"aee30335-ece9-4dbc-8ac3-99386456b587\")>,\n",
       " <selenium.webdriver.remote.webelement.WebElement (session=\"963c1411e6ce45a77c60a7c9f4f7dc7d\", element=\"5a001b5c-c2b0-423b-a90e-c3e4ee36fb82\")>,\n",
       " <selenium.webdriver.remote.webelement.WebElement (session=\"963c1411e6ce45a77c60a7c9f4f7dc7d\", element=\"1512a8bb-1623-4cf2-bff6-914e98b5800a\")>,\n",
       " <selenium.webdriver.remote.webelement.WebElement (session=\"963c1411e6ce45a77c60a7c9f4f7dc7d\", element=\"92188af9-358d-4643-80fd-683654f67fdf\")>,\n",
       " <selenium.webdriver.remote.webelement.WebElement (session=\"963c1411e6ce45a77c60a7c9f4f7dc7d\", element=\"15a0c49c-d5e6-4d9a-bebe-11b5ceeb26f3\")>,\n",
       " <selenium.webdriver.remote.webelement.WebElement (session=\"963c1411e6ce45a77c60a7c9f4f7dc7d\", element=\"cf171415-9693-4bd2-b231-42fccec6d23b\")>,\n",
       " <selenium.webdriver.remote.webelement.WebElement (session=\"963c1411e6ce45a77c60a7c9f4f7dc7d\", element=\"e7b4a9b8-60ae-4db8-8e64-82ac276a50d1\")>,\n",
       " <selenium.webdriver.remote.webelement.WebElement (session=\"963c1411e6ce45a77c60a7c9f4f7dc7d\", element=\"d39eaf2f-38c2-4df6-9687-2f2f6990e051\")>,\n",
       " <selenium.webdriver.remote.webelement.WebElement (session=\"963c1411e6ce45a77c60a7c9f4f7dc7d\", element=\"a74b0291-a132-4f96-af4f-94c166ca57ee\")>,\n",
       " <selenium.webdriver.remote.webelement.WebElement (session=\"963c1411e6ce45a77c60a7c9f4f7dc7d\", element=\"fcfcb73c-f10c-4e09-898d-ab48c3076964\")>,\n",
       " <selenium.webdriver.remote.webelement.WebElement (session=\"963c1411e6ce45a77c60a7c9f4f7dc7d\", element=\"22d19b5c-af8f-4a05-bd10-b666042408fc\")>,\n",
       " <selenium.webdriver.remote.webelement.WebElement (session=\"963c1411e6ce45a77c60a7c9f4f7dc7d\", element=\"bc31fe57-833e-4425-9184-fc35e60e3d27\")>,\n",
       " <selenium.webdriver.remote.webelement.WebElement (session=\"963c1411e6ce45a77c60a7c9f4f7dc7d\", element=\"5a635664-4b78-4558-a34b-c3e6580904af\")>,\n",
       " <selenium.webdriver.remote.webelement.WebElement (session=\"963c1411e6ce45a77c60a7c9f4f7dc7d\", element=\"c778afb6-b8c3-453d-b29e-d8f0900de974\")>,\n",
       " <selenium.webdriver.remote.webelement.WebElement (session=\"963c1411e6ce45a77c60a7c9f4f7dc7d\", element=\"f3685859-d00e-4be8-b87f-70ef44f9e92c\")>,\n",
       " <selenium.webdriver.remote.webelement.WebElement (session=\"963c1411e6ce45a77c60a7c9f4f7dc7d\", element=\"451eebf5-6be9-460a-b43b-3881f01b9daf\")>,\n",
       " <selenium.webdriver.remote.webelement.WebElement (session=\"963c1411e6ce45a77c60a7c9f4f7dc7d\", element=\"591f1130-4277-412f-943a-2b37b5e9e126\")>,\n",
       " <selenium.webdriver.remote.webelement.WebElement (session=\"963c1411e6ce45a77c60a7c9f4f7dc7d\", element=\"2115cd27-6cbb-4223-b66f-baf8fd310346\")>,\n",
       " <selenium.webdriver.remote.webelement.WebElement (session=\"963c1411e6ce45a77c60a7c9f4f7dc7d\", element=\"1a3c2205-984a-4ffa-9002-517b1c779239\")>,\n",
       " <selenium.webdriver.remote.webelement.WebElement (session=\"963c1411e6ce45a77c60a7c9f4f7dc7d\", element=\"3a6f81a7-00c9-440e-aad1-767ca48dfb9e\")>,\n",
       " <selenium.webdriver.remote.webelement.WebElement (session=\"963c1411e6ce45a77c60a7c9f4f7dc7d\", element=\"6688e234-0086-4189-b623-e6688cbe10f1\")>,\n",
       " <selenium.webdriver.remote.webelement.WebElement (session=\"963c1411e6ce45a77c60a7c9f4f7dc7d\", element=\"b60526e4-7343-4633-bd27-9dd0764768de\")>,\n",
       " <selenium.webdriver.remote.webelement.WebElement (session=\"963c1411e6ce45a77c60a7c9f4f7dc7d\", element=\"ae25e571-7053-4e9e-b687-1097d581506d\")>]"
      ]
     },
     "execution_count": 19,
     "metadata": {},
     "output_type": "execute_result"
    }
   ],
   "source": [
    "#so let's extract all the authors \n",
    "author_tags=driver.find_elements(By.XPATH,'//div[@class=\"author\"]')\n",
    "author_tags"
   ]
  },
  {
   "cell_type": "code",
   "execution_count": 20,
   "id": "55330fa0",
   "metadata": {},
   "outputs": [
    {
     "data": {
      "text/plain": [
       "['Michael Porter',\n",
       " 'Golda Meir',\n",
       " 'Theodore Roosevelt',\n",
       " 'Nelson Mandela',\n",
       " 'Erma Bombeck',\n",
       " 'John Wooden',\n",
       " 'Albert Einstein',\n",
       " 'Frank Zappa',\n",
       " 'William Faulkner',\n",
       " 'Will Rogers',\n",
       " 'Jimmy Carter',\n",
       " 'Albert Einstein',\n",
       " 'Abraham Lincoln',\n",
       " 'Steven Weinberg',\n",
       " 'Franklin D. Roosevelt',\n",
       " 'Albert Einstein',\n",
       " 'Maya Angelou',\n",
       " 'Mark Twain',\n",
       " 'Theodore Roosevelt',\n",
       " 'Michael Jackson',\n",
       " 'Martin Luther King, Jr.',\n",
       " 'C. S. Lewis',\n",
       " 'Theodore Roosevelt',\n",
       " 'Mark Twain',\n",
       " 'Abraham Lincoln',\n",
       " 'Ruth Graham',\n",
       " 'C. S. Lewis',\n",
       " 'Groucho Marx',\n",
       " 'John Lennon',\n",
       " 'Barbara Bush',\n",
       " 'Albert Einstein',\n",
       " 'Francis Chan',\n",
       " 'Henry Ford',\n",
       " 'Victor Hugo',\n",
       " 'Abu Bakr',\n",
       " 'Zig Ziglar',\n",
       " 'Winston Churchill',\n",
       " 'Zig Ziglar',\n",
       " 'John F. Kennedy',\n",
       " 'Dwight D. Eisenhower',\n",
       " 'Winston Churchill',\n",
       " 'Albert Einstein',\n",
       " 'Willie Nelson',\n",
       " 'Johnny Cash',\n",
       " 'Marie Curie',\n",
       " 'Maya Angelou',\n",
       " 'Amy Bloom',\n",
       " 'Zig Ziglar',\n",
       " 'John Lennon',\n",
       " 'Thomas Sowell',\n",
       " 'Max Lucado',\n",
       " 'Martin Luther King, Jr.',\n",
       " 'Salma Hayek',\n",
       " 'Thomas Sowell',\n",
       " 'Martin Luther King, Jr.',\n",
       " 'Douglas MacArthur',\n",
       " 'Douglas MacArthur',\n",
       " 'George S. Patton',\n",
       " 'Corrie Ten Boom',\n",
       " 'Jim Courier',\n",
       " 'Zig Ziglar',\n",
       " 'Edgar Allan Poe',\n",
       " 'Zig Ziglar',\n",
       " 'Stephen Covey',\n",
       " 'Pablo Neruda',\n",
       " 'Joe Frazier',\n",
       " 'Bill Cosby',\n",
       " 'Lewis Grizzard',\n",
       " 'Les Brown',\n",
       " 'Meister Eckhart',\n",
       " 'Muhammad Ali',\n",
       " 'John C. Maxwell',\n",
       " 'Thomas A. Edison',\n",
       " 'Neil Armstrong',\n",
       " 'Rose Kennedy',\n",
       " 'Martin Luther',\n",
       " 'Ronald Reagan',\n",
       " 'Andrew Murray',\n",
       " 'Arianna Huffington',\n",
       " 'Anne Frank',\n",
       " 'Corrie Ten Boom',\n",
       " 'Robin Williams',\n",
       " 'Nelson Mandela',\n",
       " 'Walt Disney',\n",
       " 'John F. Kennedy',\n",
       " 'Mark Twain',\n",
       " 'John Stott',\n",
       " 'Wayne Dyer',\n",
       " 'Steve Jobs',\n",
       " 'Maya Angelou',\n",
       " 'Satchel Paige',\n",
       " 'Mwai Kibaki',\n",
       " 'Roald Dahl',\n",
       " 'Robert H. Schuller',\n",
       " 'Bill Vaughan',\n",
       " 'Hunter S. Thompson',\n",
       " 'Corrie Ten Boom',\n",
       " 'Dalai Lama',\n",
       " 'Mother Teresa',\n",
       " 'Norman Vincent Peale']"
      ]
     },
     "execution_count": 20,
     "metadata": {},
     "output_type": "execute_result"
    }
   ],
   "source": [
    "# extract top 1000 Authors of Quotes\n",
    "Authors=[]\n",
    "for i in author_tags:\n",
    "    if i.text is None:\n",
    "        Authors.append('Not')\n",
    "    else:\n",
    "        Authors.append(i.text)\n",
    "Authors[:1000]"
   ]
  },
  {
   "cell_type": "code",
   "execution_count": 21,
   "id": "2b67465a",
   "metadata": {},
   "outputs": [
    {
     "data": {
      "text/plain": [
       "[<selenium.webdriver.remote.webelement.WebElement (session=\"963c1411e6ce45a77c60a7c9f4f7dc7d\", element=\"96e3fc3c-a86f-4491-a901-b1d4900ffb7b\")>,\n",
       " <selenium.webdriver.remote.webelement.WebElement (session=\"963c1411e6ce45a77c60a7c9f4f7dc7d\", element=\"b8ced28d-78d8-4fbc-a379-fed55d003d7f\")>,\n",
       " <selenium.webdriver.remote.webelement.WebElement (session=\"963c1411e6ce45a77c60a7c9f4f7dc7d\", element=\"b4688fa3-3f8e-4eb0-8f98-32018a00f069\")>,\n",
       " <selenium.webdriver.remote.webelement.WebElement (session=\"963c1411e6ce45a77c60a7c9f4f7dc7d\", element=\"948e8509-6aa8-4b0b-bce4-fda7103cd4be\")>,\n",
       " <selenium.webdriver.remote.webelement.WebElement (session=\"963c1411e6ce45a77c60a7c9f4f7dc7d\", element=\"1733303e-05bd-4cc7-af60-f6e10ab38ce2\")>,\n",
       " <selenium.webdriver.remote.webelement.WebElement (session=\"963c1411e6ce45a77c60a7c9f4f7dc7d\", element=\"470f40e2-b434-45a2-8202-244f460bce30\")>,\n",
       " <selenium.webdriver.remote.webelement.WebElement (session=\"963c1411e6ce45a77c60a7c9f4f7dc7d\", element=\"b2906aeb-f234-4856-bce9-5c90811b5966\")>,\n",
       " <selenium.webdriver.remote.webelement.WebElement (session=\"963c1411e6ce45a77c60a7c9f4f7dc7d\", element=\"9ab71f46-ab11-44d6-b52b-ec30e7d99330\")>,\n",
       " <selenium.webdriver.remote.webelement.WebElement (session=\"963c1411e6ce45a77c60a7c9f4f7dc7d\", element=\"e0527a91-1a4c-437d-b6d7-ace8a8f1d2cd\")>,\n",
       " <selenium.webdriver.remote.webelement.WebElement (session=\"963c1411e6ce45a77c60a7c9f4f7dc7d\", element=\"f4895ff9-6913-4be8-9b7d-38e228825d3a\")>,\n",
       " <selenium.webdriver.remote.webelement.WebElement (session=\"963c1411e6ce45a77c60a7c9f4f7dc7d\", element=\"64ad1028-40cc-43ef-9ede-9865b08e6a74\")>,\n",
       " <selenium.webdriver.remote.webelement.WebElement (session=\"963c1411e6ce45a77c60a7c9f4f7dc7d\", element=\"d9856720-e020-4a2a-a5c3-8656e92d2d2d\")>,\n",
       " <selenium.webdriver.remote.webelement.WebElement (session=\"963c1411e6ce45a77c60a7c9f4f7dc7d\", element=\"117b665a-3bc3-49d2-b1d0-2939cb729cbb\")>,\n",
       " <selenium.webdriver.remote.webelement.WebElement (session=\"963c1411e6ce45a77c60a7c9f4f7dc7d\", element=\"3d3c6e43-c8aa-417a-b5b1-1c8910f535da\")>,\n",
       " <selenium.webdriver.remote.webelement.WebElement (session=\"963c1411e6ce45a77c60a7c9f4f7dc7d\", element=\"f5331894-33ec-4f95-93ff-3c0e3ef55290\")>,\n",
       " <selenium.webdriver.remote.webelement.WebElement (session=\"963c1411e6ce45a77c60a7c9f4f7dc7d\", element=\"89de2de1-350d-412e-8b6b-db3755d73612\")>,\n",
       " <selenium.webdriver.remote.webelement.WebElement (session=\"963c1411e6ce45a77c60a7c9f4f7dc7d\", element=\"87ab0c7e-640b-4a1b-98e4-831608138441\")>,\n",
       " <selenium.webdriver.remote.webelement.WebElement (session=\"963c1411e6ce45a77c60a7c9f4f7dc7d\", element=\"79c16d0e-cf52-442f-a2de-32c67edbe6f2\")>,\n",
       " <selenium.webdriver.remote.webelement.WebElement (session=\"963c1411e6ce45a77c60a7c9f4f7dc7d\", element=\"3237dd28-f12f-4ae6-8b5f-408377b3341d\")>,\n",
       " <selenium.webdriver.remote.webelement.WebElement (session=\"963c1411e6ce45a77c60a7c9f4f7dc7d\", element=\"81b475ec-e5e4-4cbc-a74f-dd83feed2ce8\")>,\n",
       " <selenium.webdriver.remote.webelement.WebElement (session=\"963c1411e6ce45a77c60a7c9f4f7dc7d\", element=\"4c39f62d-663e-408d-a87e-165d5498bcbb\")>,\n",
       " <selenium.webdriver.remote.webelement.WebElement (session=\"963c1411e6ce45a77c60a7c9f4f7dc7d\", element=\"f9a5c002-c63e-4e1d-b518-af7250e86330\")>,\n",
       " <selenium.webdriver.remote.webelement.WebElement (session=\"963c1411e6ce45a77c60a7c9f4f7dc7d\", element=\"ff155a6e-81d5-4d55-aa7a-6dc25bb99bab\")>,\n",
       " <selenium.webdriver.remote.webelement.WebElement (session=\"963c1411e6ce45a77c60a7c9f4f7dc7d\", element=\"fb4787d2-302e-4cca-8ea1-2d0f2df242b7\")>,\n",
       " <selenium.webdriver.remote.webelement.WebElement (session=\"963c1411e6ce45a77c60a7c9f4f7dc7d\", element=\"47ac60f0-ce82-49fc-977e-e7b4d4ec7d8a\")>,\n",
       " <selenium.webdriver.remote.webelement.WebElement (session=\"963c1411e6ce45a77c60a7c9f4f7dc7d\", element=\"0467a775-3109-4601-8714-6bf9aa55f84e\")>,\n",
       " <selenium.webdriver.remote.webelement.WebElement (session=\"963c1411e6ce45a77c60a7c9f4f7dc7d\", element=\"99a6b77c-f010-422d-b4ee-1a3279aa5f70\")>,\n",
       " <selenium.webdriver.remote.webelement.WebElement (session=\"963c1411e6ce45a77c60a7c9f4f7dc7d\", element=\"1699ff9d-ed7d-4c72-a8bf-ef2856b2759b\")>,\n",
       " <selenium.webdriver.remote.webelement.WebElement (session=\"963c1411e6ce45a77c60a7c9f4f7dc7d\", element=\"7fc79d9b-52cc-483d-9652-0d9f41bdaf3e\")>,\n",
       " <selenium.webdriver.remote.webelement.WebElement (session=\"963c1411e6ce45a77c60a7c9f4f7dc7d\", element=\"a1b04494-6e98-4f98-95fb-f3da123aa520\")>,\n",
       " <selenium.webdriver.remote.webelement.WebElement (session=\"963c1411e6ce45a77c60a7c9f4f7dc7d\", element=\"a85d0f2b-4450-4f92-93f8-5c5e68889263\")>,\n",
       " <selenium.webdriver.remote.webelement.WebElement (session=\"963c1411e6ce45a77c60a7c9f4f7dc7d\", element=\"46aacc34-ae8a-4bd1-aae0-4e6dba715a54\")>,\n",
       " <selenium.webdriver.remote.webelement.WebElement (session=\"963c1411e6ce45a77c60a7c9f4f7dc7d\", element=\"7ea9a4fe-4401-422a-9398-f563541ba802\")>,\n",
       " <selenium.webdriver.remote.webelement.WebElement (session=\"963c1411e6ce45a77c60a7c9f4f7dc7d\", element=\"86fc7ab5-6eea-48ae-bb35-305b3f9cc92e\")>,\n",
       " <selenium.webdriver.remote.webelement.WebElement (session=\"963c1411e6ce45a77c60a7c9f4f7dc7d\", element=\"23d9fb88-3880-4274-b283-49b74027d895\")>,\n",
       " <selenium.webdriver.remote.webelement.WebElement (session=\"963c1411e6ce45a77c60a7c9f4f7dc7d\", element=\"c62c2652-011d-4960-b45b-bbf964e0d8c3\")>,\n",
       " <selenium.webdriver.remote.webelement.WebElement (session=\"963c1411e6ce45a77c60a7c9f4f7dc7d\", element=\"05bcb7ee-94a7-47a6-82cc-8d88990f8272\")>,\n",
       " <selenium.webdriver.remote.webelement.WebElement (session=\"963c1411e6ce45a77c60a7c9f4f7dc7d\", element=\"babc5451-5638-47d4-bc33-92dd4f1ab9f3\")>,\n",
       " <selenium.webdriver.remote.webelement.WebElement (session=\"963c1411e6ce45a77c60a7c9f4f7dc7d\", element=\"4aab6632-2b6c-40b3-aa77-112e4915ea16\")>,\n",
       " <selenium.webdriver.remote.webelement.WebElement (session=\"963c1411e6ce45a77c60a7c9f4f7dc7d\", element=\"20f31c7c-7bb6-4b09-a5b5-f0efdfe67d16\")>,\n",
       " <selenium.webdriver.remote.webelement.WebElement (session=\"963c1411e6ce45a77c60a7c9f4f7dc7d\", element=\"71dec561-acb0-4130-97b2-64d2be14fd59\")>,\n",
       " <selenium.webdriver.remote.webelement.WebElement (session=\"963c1411e6ce45a77c60a7c9f4f7dc7d\", element=\"e3cfba1c-449d-493c-a38c-c8ed5f34a0ec\")>,\n",
       " <selenium.webdriver.remote.webelement.WebElement (session=\"963c1411e6ce45a77c60a7c9f4f7dc7d\", element=\"65912d48-5255-4fe8-8a36-6794451df117\")>,\n",
       " <selenium.webdriver.remote.webelement.WebElement (session=\"963c1411e6ce45a77c60a7c9f4f7dc7d\", element=\"4378a688-859d-45ee-9ca2-0421701a999d\")>,\n",
       " <selenium.webdriver.remote.webelement.WebElement (session=\"963c1411e6ce45a77c60a7c9f4f7dc7d\", element=\"383d8166-087f-415d-9907-3f67d774c7d7\")>,\n",
       " <selenium.webdriver.remote.webelement.WebElement (session=\"963c1411e6ce45a77c60a7c9f4f7dc7d\", element=\"faecc1b1-cf57-44f4-b7fc-7fe65a03be3f\")>,\n",
       " <selenium.webdriver.remote.webelement.WebElement (session=\"963c1411e6ce45a77c60a7c9f4f7dc7d\", element=\"3539c72e-9c37-40d7-b541-e57be19d92ee\")>,\n",
       " <selenium.webdriver.remote.webelement.WebElement (session=\"963c1411e6ce45a77c60a7c9f4f7dc7d\", element=\"6fca35ca-cd91-44e2-bde3-81897b3ec90f\")>,\n",
       " <selenium.webdriver.remote.webelement.WebElement (session=\"963c1411e6ce45a77c60a7c9f4f7dc7d\", element=\"f52ebce6-3823-47a3-ae92-dda6376745b8\")>,\n",
       " <selenium.webdriver.remote.webelement.WebElement (session=\"963c1411e6ce45a77c60a7c9f4f7dc7d\", element=\"a15bb765-5f4b-43aa-a687-84ad5bf7ecae\")>,\n",
       " <selenium.webdriver.remote.webelement.WebElement (session=\"963c1411e6ce45a77c60a7c9f4f7dc7d\", element=\"6a0de24c-42ca-4fa5-b70d-40aa46acd488\")>,\n",
       " <selenium.webdriver.remote.webelement.WebElement (session=\"963c1411e6ce45a77c60a7c9f4f7dc7d\", element=\"2ea5af4e-77a0-4a2f-847b-789aa298d3dc\")>,\n",
       " <selenium.webdriver.remote.webelement.WebElement (session=\"963c1411e6ce45a77c60a7c9f4f7dc7d\", element=\"1d6bed6b-c15e-4fb7-9e92-bd5ac8c42ee9\")>,\n",
       " <selenium.webdriver.remote.webelement.WebElement (session=\"963c1411e6ce45a77c60a7c9f4f7dc7d\", element=\"4b5d16f0-9b72-4063-9d5a-511731e589ff\")>,\n",
       " <selenium.webdriver.remote.webelement.WebElement (session=\"963c1411e6ce45a77c60a7c9f4f7dc7d\", element=\"8955b6c8-c060-421e-85f1-1663ad0bac92\")>,\n",
       " <selenium.webdriver.remote.webelement.WebElement (session=\"963c1411e6ce45a77c60a7c9f4f7dc7d\", element=\"cd0aff00-feaa-4014-bbb9-73d42bda7f86\")>,\n",
       " <selenium.webdriver.remote.webelement.WebElement (session=\"963c1411e6ce45a77c60a7c9f4f7dc7d\", element=\"f52a5c52-79ed-4aee-a6ee-5c2882e05e45\")>,\n",
       " <selenium.webdriver.remote.webelement.WebElement (session=\"963c1411e6ce45a77c60a7c9f4f7dc7d\", element=\"6c7c69e1-70b6-4752-9d2d-b4c78f6008f4\")>,\n",
       " <selenium.webdriver.remote.webelement.WebElement (session=\"963c1411e6ce45a77c60a7c9f4f7dc7d\", element=\"11029bbd-c9a5-4ea4-afaf-5ef40acd40e1\")>,\n",
       " <selenium.webdriver.remote.webelement.WebElement (session=\"963c1411e6ce45a77c60a7c9f4f7dc7d\", element=\"bf34e777-db3b-4f65-a882-18ef61503ceb\")>,\n",
       " <selenium.webdriver.remote.webelement.WebElement (session=\"963c1411e6ce45a77c60a7c9f4f7dc7d\", element=\"adec4bda-10b1-49a2-ba52-dafa27cf8315\")>,\n",
       " <selenium.webdriver.remote.webelement.WebElement (session=\"963c1411e6ce45a77c60a7c9f4f7dc7d\", element=\"bf873873-6ad1-4adb-b858-e6b6bda24834\")>,\n",
       " <selenium.webdriver.remote.webelement.WebElement (session=\"963c1411e6ce45a77c60a7c9f4f7dc7d\", element=\"43571297-c604-4405-814f-51fa1e59535d\")>,\n",
       " <selenium.webdriver.remote.webelement.WebElement (session=\"963c1411e6ce45a77c60a7c9f4f7dc7d\", element=\"0e2d124d-1136-4b1a-b6a2-88d0d6b1f18c\")>,\n",
       " <selenium.webdriver.remote.webelement.WebElement (session=\"963c1411e6ce45a77c60a7c9f4f7dc7d\", element=\"ab3bd456-b58e-45bc-8aa8-f46e757d6dda\")>,\n",
       " <selenium.webdriver.remote.webelement.WebElement (session=\"963c1411e6ce45a77c60a7c9f4f7dc7d\", element=\"928d2673-da80-482f-9a75-f0c525a55d0c\")>,\n",
       " <selenium.webdriver.remote.webelement.WebElement (session=\"963c1411e6ce45a77c60a7c9f4f7dc7d\", element=\"8f7357cd-9854-47d0-b406-91573b6e08d4\")>,\n",
       " <selenium.webdriver.remote.webelement.WebElement (session=\"963c1411e6ce45a77c60a7c9f4f7dc7d\", element=\"8fff0546-cc32-4bff-bec1-618824ba99f0\")>,\n",
       " <selenium.webdriver.remote.webelement.WebElement (session=\"963c1411e6ce45a77c60a7c9f4f7dc7d\", element=\"8d3e8035-3e74-401c-816e-ff534d0d760a\")>,\n",
       " <selenium.webdriver.remote.webelement.WebElement (session=\"963c1411e6ce45a77c60a7c9f4f7dc7d\", element=\"ca9e5f75-ae0a-4fcb-b0f0-6f4d3e5f4279\")>,\n",
       " <selenium.webdriver.remote.webelement.WebElement (session=\"963c1411e6ce45a77c60a7c9f4f7dc7d\", element=\"30b84fee-4583-462e-b0a2-7be62bb11af9\")>,\n",
       " <selenium.webdriver.remote.webelement.WebElement (session=\"963c1411e6ce45a77c60a7c9f4f7dc7d\", element=\"f9e9c83b-4f55-463b-a8a3-8c49860b70e0\")>,\n",
       " <selenium.webdriver.remote.webelement.WebElement (session=\"963c1411e6ce45a77c60a7c9f4f7dc7d\", element=\"0bcc714a-4117-4332-93c2-99cb2462a88f\")>,\n",
       " <selenium.webdriver.remote.webelement.WebElement (session=\"963c1411e6ce45a77c60a7c9f4f7dc7d\", element=\"8898e3a3-4594-44ad-a9d2-47fa53482b1b\")>,\n",
       " <selenium.webdriver.remote.webelement.WebElement (session=\"963c1411e6ce45a77c60a7c9f4f7dc7d\", element=\"b723d901-ec49-47e1-9ade-b4ed9f41468d\")>,\n",
       " <selenium.webdriver.remote.webelement.WebElement (session=\"963c1411e6ce45a77c60a7c9f4f7dc7d\", element=\"bc300afe-65da-4f43-ad66-89c568ad6ec0\")>,\n",
       " <selenium.webdriver.remote.webelement.WebElement (session=\"963c1411e6ce45a77c60a7c9f4f7dc7d\", element=\"e8bf97e6-348f-48b2-919d-36dff8b6414a\")>,\n",
       " <selenium.webdriver.remote.webelement.WebElement (session=\"963c1411e6ce45a77c60a7c9f4f7dc7d\", element=\"3b1d3d72-f59a-409e-989f-825d3b2d80b4\")>,\n",
       " <selenium.webdriver.remote.webelement.WebElement (session=\"963c1411e6ce45a77c60a7c9f4f7dc7d\", element=\"ee3c29aa-05e7-4c56-85e9-51b5b83d11ca\")>,\n",
       " <selenium.webdriver.remote.webelement.WebElement (session=\"963c1411e6ce45a77c60a7c9f4f7dc7d\", element=\"974754bd-7f99-416f-b486-55b11b6e0ee9\")>,\n",
       " <selenium.webdriver.remote.webelement.WebElement (session=\"963c1411e6ce45a77c60a7c9f4f7dc7d\", element=\"0757d3d5-7154-4402-8f1f-d9822281737f\")>,\n",
       " <selenium.webdriver.remote.webelement.WebElement (session=\"963c1411e6ce45a77c60a7c9f4f7dc7d\", element=\"f7f9507f-a3f3-4114-9e40-8e028912d1f3\")>,\n",
       " <selenium.webdriver.remote.webelement.WebElement (session=\"963c1411e6ce45a77c60a7c9f4f7dc7d\", element=\"5c29f920-ba54-49fa-b0cd-6358f220b409\")>,\n",
       " <selenium.webdriver.remote.webelement.WebElement (session=\"963c1411e6ce45a77c60a7c9f4f7dc7d\", element=\"d6e01b25-c911-4789-b86f-41b50e7efe58\")>,\n",
       " <selenium.webdriver.remote.webelement.WebElement (session=\"963c1411e6ce45a77c60a7c9f4f7dc7d\", element=\"63a48d15-100e-4205-a57f-8ec82d634242\")>,\n",
       " <selenium.webdriver.remote.webelement.WebElement (session=\"963c1411e6ce45a77c60a7c9f4f7dc7d\", element=\"983b95e2-028a-43ee-87f0-ae21eb140b9a\")>,\n",
       " <selenium.webdriver.remote.webelement.WebElement (session=\"963c1411e6ce45a77c60a7c9f4f7dc7d\", element=\"6f61b542-1c1b-4be9-8827-8c9ed513c189\")>,\n",
       " <selenium.webdriver.remote.webelement.WebElement (session=\"963c1411e6ce45a77c60a7c9f4f7dc7d\", element=\"156d1492-9276-4bae-9f47-a88a8eb110ea\")>,\n",
       " <selenium.webdriver.remote.webelement.WebElement (session=\"963c1411e6ce45a77c60a7c9f4f7dc7d\", element=\"ceda3bab-bc72-45ea-8c6a-5de329a2142e\")>,\n",
       " <selenium.webdriver.remote.webelement.WebElement (session=\"963c1411e6ce45a77c60a7c9f4f7dc7d\", element=\"acd9b2e4-d8a4-435d-96dd-37a76fa60503\")>,\n",
       " <selenium.webdriver.remote.webelement.WebElement (session=\"963c1411e6ce45a77c60a7c9f4f7dc7d\", element=\"f225a8f3-e023-471f-bc14-a426c41d82d7\")>,\n",
       " <selenium.webdriver.remote.webelement.WebElement (session=\"963c1411e6ce45a77c60a7c9f4f7dc7d\", element=\"09f33cc1-009f-4fe9-ab21-889f277094ee\")>,\n",
       " <selenium.webdriver.remote.webelement.WebElement (session=\"963c1411e6ce45a77c60a7c9f4f7dc7d\", element=\"5dbe15ef-acc1-4e22-a1a7-178be813e5a0\")>,\n",
       " <selenium.webdriver.remote.webelement.WebElement (session=\"963c1411e6ce45a77c60a7c9f4f7dc7d\", element=\"c58d3ef2-16ea-400f-8c85-b524b79fb9e6\")>,\n",
       " <selenium.webdriver.remote.webelement.WebElement (session=\"963c1411e6ce45a77c60a7c9f4f7dc7d\", element=\"754c4f05-77ee-401b-a5eb-4df15c8c0ddf\")>,\n",
       " <selenium.webdriver.remote.webelement.WebElement (session=\"963c1411e6ce45a77c60a7c9f4f7dc7d\", element=\"72fee0bf-797a-4347-b48c-04deb87da9a6\")>,\n",
       " <selenium.webdriver.remote.webelement.WebElement (session=\"963c1411e6ce45a77c60a7c9f4f7dc7d\", element=\"9cc4110e-ff8b-4788-b216-e6b50495e328\")>,\n",
       " <selenium.webdriver.remote.webelement.WebElement (session=\"963c1411e6ce45a77c60a7c9f4f7dc7d\", element=\"c11c5ff6-ec86-4b6c-9051-ca5eb0911daf\")>,\n",
       " <selenium.webdriver.remote.webelement.WebElement (session=\"963c1411e6ce45a77c60a7c9f4f7dc7d\", element=\"38007831-4d17-4331-9657-0450339a21b6\")>,\n",
       " <selenium.webdriver.remote.webelement.WebElement (session=\"963c1411e6ce45a77c60a7c9f4f7dc7d\", element=\"eebf15b5-9412-4528-b9a0-547b89916a28\")>]"
      ]
     },
     "execution_count": 21,
     "metadata": {},
     "output_type": "execute_result"
    }
   ],
   "source": [
    "#so let's extract  Type of quotes \n",
    "type_tags=driver.find_elements(By.XPATH,'//div[@class=\"tags\"]')\n",
    "type_tags"
   ]
  },
  {
   "cell_type": "code",
   "execution_count": 22,
   "id": "e7125e12",
   "metadata": {},
   "outputs": [
    {
     "data": {
      "text/plain": [
       "['Essence, Deep Thought, Transcendentalism',\n",
       " 'Inspiration, Past, Trying',\n",
       " 'Country, Peace, War',\n",
       " 'Inspirational, Motivational, Death',\n",
       " '4th Of July, Food, Patriotic',\n",
       " 'Inspirational, Success, Basketball',\n",
       " 'Strong, Revenge, Intelligent',\n",
       " 'Inspirational, Teacher, Religious',\n",
       " 'Truth, Honesty, Lying',\n",
       " 'Funny, Reading, Learning',\n",
       " 'Strong, Thoughtful, Compassion',\n",
       " 'Love, Funny, Life',\n",
       " 'Freedom, Men, Democracies Have',\n",
       " 'God, Religious, Atheist',\n",
       " 'Respect, Kindness, Character',\n",
       " 'Inspirational, Motivational, Change',\n",
       " 'Inspirational, Life, Inspiring',\n",
       " 'Love, Inspirational, Life',\n",
       " 'Inspiring, Country, 4th Of July',\n",
       " 'Inspirational, Dream, Hate',\n",
       " 'Love, Inspirational, Life',\n",
       " 'Forgiveness, God, Christian',\n",
       " 'Country, Men, Squares',\n",
       " 'Inspirational, Relationship, Positive',\n",
       " 'Inspirational, Motivational, Positive',\n",
       " 'Love, Friendship, Relationship',\n",
       " 'Faith, God, Christian',\n",
       " 'Art, Freedom, Political Will',\n",
       " 'Inspirational, Life, Faith',\n",
       " 'Inspirational, Life, Meaningful',\n",
       " 'Happiness, Time, Clever',\n",
       " 'Inspirational, Inspiring, Success',\n",
       " 'Love, Inspirational, Life',\n",
       " 'Music, Sound And Music, Musical Life',\n",
       " 'Adversity, Blow, Action',\n",
       " 'Positive, Thinking Of You, Attitude',\n",
       " 'Inspirational, Funny, Life',\n",
       " 'Inspirational, Life, Motivational',\n",
       " 'Inspirational, Memorial Day, Freedom',\n",
       " 'Freedom, Patriotic, Vaccines',\n",
       " 'Philosophy, Ignorance, Democratic Socialism',\n",
       " 'Inspirational, Dance, Education',\n",
       " 'Life, Change, Positive',\n",
       " 'Life, Bullying, Mistake',\n",
       " 'Life, Nature, Children',\n",
       " 'Inspirational, Life, Motivational',\n",
       " 'Marriage, Love You, Long',\n",
       " 'Inspirational, Motivational, Success',\n",
       " 'Love, Inspirational, Life',\n",
       " 'Diversity, Important, Liberty',\n",
       " 'Inspirational, God, Faith',\n",
       " 'Inspirational, Motivational, Inspiring',\n",
       " 'Beauty, Love Yourself, Your Beautiful',\n",
       " 'Business, Stupid, Government',\n",
       " 'Inspirational, Life, Motivational',\n",
       " 'Peace, Military, War',\n",
       " 'Inspirational, Leadership, Confidence',\n",
       " 'Motivational, Military, War',\n",
       " 'Christian, Jesus, Confusing',\n",
       " 'Inspirational, Success, Sports',\n",
       " 'Inspirational, Motivational, Success',\n",
       " 'Inspirational, Life, Clever',\n",
       " 'Inspirational, Death, Failure',\n",
       " 'Inspirational, Life, Motivational',\n",
       " 'Inspiring, Hope, Spring',\n",
       " 'Motivational, Running, People',\n",
       " 'Inspirational, Motivational, Positive',\n",
       " 'Summer, Food, Garden',\n",
       " 'Inspirational, Life, Motivational',\n",
       " 'Inspirational, Life, Thank You',\n",
       " 'Funny, Sports, Jobs',\n",
       " 'Being Strong, Wisdom, Stay Strong',\n",
       " 'Inspirational, Motivational, Positive',\n",
       " 'Motivational, Positive, Moon',\n",
       " 'Time, Pain, Get Well',\n",
       " 'Life, God, Christian',\n",
       " 'President, Needs, Purpose',\n",
       " 'God, Faith, Christian',\n",
       " 'Women, Failure, Successful',\n",
       " 'Inspirational, Morning, Kindness',\n",
       " 'Hiding Place, Ability, Baby Boom',\n",
       " 'Inspirational, Change, Philosophy',\n",
       " 'Love, Inspirational, Life',\n",
       " 'Inspirational, Family, Inspiring',\n",
       " 'Inspirational, Success, Courage',\n",
       " 'Inspirational, Life, Motivational',\n",
       " 'Christian, Vision, Missionary',\n",
       " 'Inspirational, Positive, Regret',\n",
       " 'Love, Inspirational, Life',\n",
       " 'Inspirational, Life, Encouragement',\n",
       " 'Happy Birthday, Baseball, Fun',\n",
       " 'Leadership, Power, Opportunity',\n",
       " 'Inspirational, Life, Positive',\n",
       " 'Inspirational, Encouraging, Patience',\n",
       " 'New Year, Fun, New Beginnings',\n",
       " 'Music, Sports, Hunting',\n",
       " 'Trust, Encouraging, Uplifting',\n",
       " 'Inspirational, Funny, Change',\n",
       " 'Success, God, Mother',\n",
       " 'Inspirational, Motivational, Change']"
      ]
     },
     "execution_count": 22,
     "metadata": {},
     "output_type": "execute_result"
    }
   ],
   "source": [
    "# extract top 1000 Type of Quotes\n",
    "Type_of_Quotes=[]\n",
    "for i in type_tags:\n",
    "    if i.text is None:\n",
    "        Type_of_Quotes.append('Not')\n",
    "    else:\n",
    "        Type_of_Quotes.append(i.text)\n",
    "Type_of_Quotes[:1000]"
   ]
  },
  {
   "cell_type": "code",
   "execution_count": 23,
   "id": "986724de",
   "metadata": {},
   "outputs": [
    {
     "name": "stdout",
     "output_type": "stream",
     "text": [
      "100\n",
      "100\n",
      "100\n"
     ]
    },
    {
     "data": {
      "text/plain": [
       "(None, None, None)"
      ]
     },
     "execution_count": 23,
     "metadata": {},
     "output_type": "execute_result"
    }
   ],
   "source": [
    "#So lets check th length of ech element.\n",
    "print(len(Top_Quotes[:1000] )),print(len(Authors[:1000])),print(len(Type_of_Quotes[:1000]))"
   ]
  },
  {
   "cell_type": "code",
   "execution_count": 24,
   "id": "363e0dad",
   "metadata": {},
   "outputs": [],
   "source": [
    "import pandas as pd\n"
   ]
  },
  {
   "cell_type": "code",
   "execution_count": 26,
   "id": "ccff1ad5",
   "metadata": {},
   "outputs": [],
   "source": [
    "#Creating Data Frame\n",
    "AzQuotes=pd.DataFrame()\n",
    "AzQuotes['Top_Quotes']=Top_Quotes\n",
    "AzQuotes['Authors']=Authors\n",
    "AzQuotes['Type_of_Quotes']=Type_of_Quotes\n",
    "\n"
   ]
  },
  {
   "cell_type": "code",
   "execution_count": 28,
   "id": "0e15ab2c",
   "metadata": {},
   "outputs": [
    {
     "data": {
      "text/html": [
       "<div>\n",
       "<style scoped>\n",
       "    .dataframe tbody tr th:only-of-type {\n",
       "        vertical-align: middle;\n",
       "    }\n",
       "\n",
       "    .dataframe tbody tr th {\n",
       "        vertical-align: top;\n",
       "    }\n",
       "\n",
       "    .dataframe thead th {\n",
       "        text-align: right;\n",
       "    }\n",
       "</style>\n",
       "<table border=\"1\" class=\"dataframe\">\n",
       "  <thead>\n",
       "    <tr style=\"text-align: right;\">\n",
       "      <th></th>\n",
       "      <th>Top_Quotes</th>\n",
       "      <th>Authors</th>\n",
       "      <th>Type_of_Quotes</th>\n",
       "    </tr>\n",
       "  </thead>\n",
       "  <tbody>\n",
       "    <tr>\n",
       "      <th>0</th>\n",
       "      <td>The essence of strategy is choosing what not t...</td>\n",
       "      <td>Michael Porter</td>\n",
       "      <td>Essence, Deep Thought, Transcendentalism</td>\n",
       "    </tr>\n",
       "    <tr>\n",
       "      <th>1</th>\n",
       "      <td>One cannot and must not try to erase the past ...</td>\n",
       "      <td>Golda Meir</td>\n",
       "      <td>Inspiration, Past, Trying</td>\n",
       "    </tr>\n",
       "    <tr>\n",
       "      <th>2</th>\n",
       "      <td>Patriotism means to stand by the country. It d...</td>\n",
       "      <td>Theodore Roosevelt</td>\n",
       "      <td>Country, Peace, War</td>\n",
       "    </tr>\n",
       "    <tr>\n",
       "      <th>3</th>\n",
       "      <td>Death is something inevitable. When a man has ...</td>\n",
       "      <td>Nelson Mandela</td>\n",
       "      <td>Inspirational, Motivational, Death</td>\n",
       "    </tr>\n",
       "    <tr>\n",
       "      <th>4</th>\n",
       "      <td>You have to love a nation that celebrates its ...</td>\n",
       "      <td>Erma Bombeck</td>\n",
       "      <td>4th Of July, Food, Patriotic</td>\n",
       "    </tr>\n",
       "    <tr>\n",
       "      <th>...</th>\n",
       "      <td>...</td>\n",
       "      <td>...</td>\n",
       "      <td>...</td>\n",
       "    </tr>\n",
       "    <tr>\n",
       "      <th>95</th>\n",
       "      <td>When the going gets weird, the weird turn pro.</td>\n",
       "      <td>Hunter S. Thompson</td>\n",
       "      <td>Music, Sports, Hunting</td>\n",
       "    </tr>\n",
       "    <tr>\n",
       "      <th>96</th>\n",
       "      <td>When a train goes through a tunnel and it gets...</td>\n",
       "      <td>Corrie Ten Boom</td>\n",
       "      <td>Trust, Encouraging, Uplifting</td>\n",
       "    </tr>\n",
       "    <tr>\n",
       "      <th>97</th>\n",
       "      <td>If you think you are too small to make a diffe...</td>\n",
       "      <td>Dalai Lama</td>\n",
       "      <td>Inspirational, Funny, Change</td>\n",
       "    </tr>\n",
       "    <tr>\n",
       "      <th>98</th>\n",
       "      <td>God doesn't require us to succeed, he only req...</td>\n",
       "      <td>Mother Teresa</td>\n",
       "      <td>Success, God, Mother</td>\n",
       "    </tr>\n",
       "    <tr>\n",
       "      <th>99</th>\n",
       "      <td>Change your thoughts and you change your world.</td>\n",
       "      <td>Norman Vincent Peale</td>\n",
       "      <td>Inspirational, Motivational, Change</td>\n",
       "    </tr>\n",
       "  </tbody>\n",
       "</table>\n",
       "<p>100 rows × 3 columns</p>\n",
       "</div>"
      ],
      "text/plain": [
       "                                           Top_Quotes               Authors  \\\n",
       "0   The essence of strategy is choosing what not t...        Michael Porter   \n",
       "1   One cannot and must not try to erase the past ...            Golda Meir   \n",
       "2   Patriotism means to stand by the country. It d...    Theodore Roosevelt   \n",
       "3   Death is something inevitable. When a man has ...        Nelson Mandela   \n",
       "4   You have to love a nation that celebrates its ...          Erma Bombeck   \n",
       "..                                                ...                   ...   \n",
       "95     When the going gets weird, the weird turn pro.    Hunter S. Thompson   \n",
       "96  When a train goes through a tunnel and it gets...       Corrie Ten Boom   \n",
       "97  If you think you are too small to make a diffe...            Dalai Lama   \n",
       "98  God doesn't require us to succeed, he only req...         Mother Teresa   \n",
       "99    Change your thoughts and you change your world.  Norman Vincent Peale   \n",
       "\n",
       "                              Type_of_Quotes  \n",
       "0   Essence, Deep Thought, Transcendentalism  \n",
       "1                  Inspiration, Past, Trying  \n",
       "2                        Country, Peace, War  \n",
       "3         Inspirational, Motivational, Death  \n",
       "4               4th Of July, Food, Patriotic  \n",
       "..                                       ...  \n",
       "95                    Music, Sports, Hunting  \n",
       "96             Trust, Encouraging, Uplifting  \n",
       "97              Inspirational, Funny, Change  \n",
       "98                      Success, God, Mother  \n",
       "99       Inspirational, Motivational, Change  \n",
       "\n",
       "[100 rows x 3 columns]"
      ]
     },
     "execution_count": 28,
     "metadata": {},
     "output_type": "execute_result"
    }
   ],
   "source": [
    "AzQuotes"
   ]
  },
  {
   "cell_type": "code",
   "execution_count": 29,
   "id": "120f9fc1",
   "metadata": {},
   "outputs": [],
   "source": [
    "driver.close()"
   ]
  },
  {
   "cell_type": "code",
   "execution_count": null,
   "id": "102e8207",
   "metadata": {},
   "outputs": [],
   "source": []
  },
  {
   "cell_type": "markdown",
   "id": "abdc0ceb",
   "metadata": {},
   "source": [
    "### Q9: Write a python program to display list of respected former Prime Ministers of India(i.e. Name, Born-Dead,Term of office, Remarks) from https://www.jagranjosh.com/.\n",
    "##### This task will be done in following steps:\n",
    "##### 1. First get the webpagehttps://www.jagranjosh.com/\n",
    "##### 2. Then You have to click on the GK option\n",
    "##### 3. Then click on the List of all Prime Ministers of India\n",
    "##### 4. Then scrap the mentioned data and make theDataFrame."
   ]
  },
  {
   "cell_type": "code",
   "execution_count": 18,
   "id": "5c4d2984",
   "metadata": {},
   "outputs": [],
   "source": [
    "## importing neccessary libraries\n",
    "import selenium\n",
    "from selenium import webdriver\n",
    "import pandas as pd\n",
    "import warnings\n",
    "warnings.filterwarnings('ignore')\n",
    "from selenium.webdriver.common.by import By\n",
    "import time"
   ]
  },
  {
   "cell_type": "code",
   "execution_count": 19,
   "id": "a0bd2d63",
   "metadata": {},
   "outputs": [],
   "source": [
    "driver=webdriver.Chrome(r\"C:\\Users\\swaro\\Downloads\\chromedriver.exe\")\n",
    "#connecting to web driver"
   ]
  },
  {
   "cell_type": "code",
   "execution_count": null,
   "id": "a7bf999a",
   "metadata": {},
   "outputs": [],
   "source": []
  },
  {
   "cell_type": "code",
   "execution_count": 20,
   "id": "76b7faed",
   "metadata": {},
   "outputs": [],
   "source": [
    "###ting the link open in browser\n",
    "url='https://www.jagranjosh.com/'\n",
    "driver.get(url)    "
   ]
  },
  {
   "cell_type": "code",
   "execution_count": null,
   "id": "988eb211",
   "metadata": {},
   "outputs": [],
   "source": []
  },
  {
   "cell_type": "code",
   "execution_count": 14,
   "id": "57c0349e",
   "metadata": {},
   "outputs": [],
   "source": [
    "#clicking the GK option Tab\n",
    "GK=driver.find_element(By.XPATH,'//*[@id=\"1540978020504\"]/div[1]/header/div[3]/ul/li[9]/a')\n",
    "GK.click()"
   ]
  },
  {
   "cell_type": "code",
   "execution_count": 15,
   "id": "0b122681",
   "metadata": {},
   "outputs": [],
   "source": [
    "#clicking the current GK option Tab\n",
    "currentGK=driver.find_element(By.XPATH,'/html/body/div/div/div/div[2]/div/div[5]/div/div/ul/li[1]/a/span')\n",
    "currentGK.click()"
   ]
  },
  {
   "cell_type": "code",
   "execution_count": 16,
   "id": "04e3255b",
   "metadata": {},
   "outputs": [],
   "source": [
    "#clicking the List of ALl Prime Ministers option Tab\n",
    "List_of_PMTab=driver.find_element(By.XPATH,'/html/body/div/div/div/div[2]/div/div[10]/div/div/ul/li[2]/a')\n",
    "List_of_PMTab.click()"
   ]
  },
  {
   "cell_type": "code",
   "execution_count": 9,
   "id": "cf94b218",
   "metadata": {},
   "outputs": [
    {
     "data": {
      "text/plain": [
       "[]"
      ]
     },
     "execution_count": 9,
     "metadata": {},
     "output_type": "execute_result"
    }
   ],
   "source": [
    "#so let's extract List of Prime Ministers \n",
    "PM_tag=driver.find_elements(By.XPATH,'//div[@href=\"https://www.jagranjosh.com/general-knowledge/jawaharlal-nehru-biography-1573652876-1\"]/p')\n",
    "PM_tag"
   ]
  },
  {
   "cell_type": "code",
   "execution_count": null,
   "id": "59c7ec93",
   "metadata": {},
   "outputs": [],
   "source": []
  },
  {
   "cell_type": "code",
   "execution_count": null,
   "id": "3508471f",
   "metadata": {},
   "outputs": [],
   "source": []
  },
  {
   "cell_type": "code",
   "execution_count": null,
   "id": "219c805b",
   "metadata": {},
   "outputs": [],
   "source": []
  },
  {
   "cell_type": "code",
   "execution_count": null,
   "id": "0dbf5520",
   "metadata": {},
   "outputs": [],
   "source": []
  },
  {
   "cell_type": "markdown",
   "id": "a2f36620",
   "metadata": {},
   "source": [
    "# Q10: Write a python program to display list of 50 Most expensive cars in the world (i.e.\n",
    "Car name and Price) from https://www.motor1.com/\n",
    "This task will be done in following steps:\n",
    "1. First get the webpagehttps://www.motor1.com/\n",
    "2. Then You have to click on the List option from Dropdown menu on leftside.\n",
    "3. Then click on 50 most expensive carsin the world..\n",
    "4. Then scrap the mentioned data and make the dataframe."
   ]
  },
  {
   "cell_type": "code",
   "execution_count": 49,
   "id": "bf1c825f",
   "metadata": {},
   "outputs": [],
   "source": [
    "driver=webdriver.Chrome(r\"C:\\Users\\swaro\\Downloads\\chromedriver.exe\")\n",
    "#connecting to web driver"
   ]
  },
  {
   "cell_type": "code",
   "execution_count": null,
   "id": "f6312b51",
   "metadata": {},
   "outputs": [],
   "source": []
  },
  {
   "cell_type": "code",
   "execution_count": 50,
   "id": "cb45eb65",
   "metadata": {},
   "outputs": [],
   "source": [
    "###connecting the link open in browser\n",
    "url='https://www.motor1.com/'\n",
    "driver.get(url)"
   ]
  },
  {
   "cell_type": "code",
   "execution_count": 54,
   "id": "a40a6f32",
   "metadata": {},
   "outputs": [],
   "source": [
    "#clicking the Feautres Tab\n",
    "Features=driver.find_element(By.XPATH,'/html/body/div[3]/div[2]/div/div/div[3]/ul/li[3]/a')\n",
    "Features.click()"
   ]
  },
  {
   "cell_type": "code",
   "execution_count": null,
   "id": "93fb8fc8",
   "metadata": {},
   "outputs": [],
   "source": []
  },
  {
   "cell_type": "code",
   "execution_count": 55,
   "id": "fdbd64db",
   "metadata": {},
   "outputs": [],
   "source": [
    "#clicking the 'View More' Tab\n",
    "ViewMore=driver.find_element(By.XPATH,'/html/body/div[3]/div[7]/div/div[1]/div[2]/a')\n",
    "ViewMore.click()"
   ]
  },
  {
   "cell_type": "code",
   "execution_count": 56,
   "id": "46a8fa1e",
   "metadata": {},
   "outputs": [],
   "source": [
    "#clicking the '50 most expensive cars in the world' Tab\n",
    "Ex_car_tag=driver.find_element(By.XPATH,'/html/body/div[3]/div[9]/div[1]/div[1]/div/div/div[9]/div/div[1]/h3/a')\n",
    "Ex_car_tag.click()"
   ]
  },
  {
   "cell_type": "code",
   "execution_count": 57,
   "id": "af825485",
   "metadata": {},
   "outputs": [
    {
     "data": {
      "text/plain": [
       "[<selenium.webdriver.remote.webelement.WebElement (session=\"8f43c0820844f351462dab5a6474b1c5\", element=\"f0aa2224-05c1-4962-b9a5-1e897384dd03\")>,\n",
       " <selenium.webdriver.remote.webelement.WebElement (session=\"8f43c0820844f351462dab5a6474b1c5\", element=\"707e08a2-318b-454e-94f9-06a850d96781\")>,\n",
       " <selenium.webdriver.remote.webelement.WebElement (session=\"8f43c0820844f351462dab5a6474b1c5\", element=\"ebfdb56f-7c18-4073-b3e9-facc7b279686\")>,\n",
       " <selenium.webdriver.remote.webelement.WebElement (session=\"8f43c0820844f351462dab5a6474b1c5\", element=\"7a2fe65f-bdeb-4b7f-b0b4-584a787ce673\")>,\n",
       " <selenium.webdriver.remote.webelement.WebElement (session=\"8f43c0820844f351462dab5a6474b1c5\", element=\"9abe6b98-3b64-4144-8ab5-b59ebb824159\")>,\n",
       " <selenium.webdriver.remote.webelement.WebElement (session=\"8f43c0820844f351462dab5a6474b1c5\", element=\"1410b21c-90c5-4dc2-81a1-8eaf6059abe7\")>,\n",
       " <selenium.webdriver.remote.webelement.WebElement (session=\"8f43c0820844f351462dab5a6474b1c5\", element=\"ee2b0cea-46d2-4da5-b1be-d6e7d58cdd3c\")>,\n",
       " <selenium.webdriver.remote.webelement.WebElement (session=\"8f43c0820844f351462dab5a6474b1c5\", element=\"321b6874-93db-484a-a790-872e6f15129c\")>,\n",
       " <selenium.webdriver.remote.webelement.WebElement (session=\"8f43c0820844f351462dab5a6474b1c5\", element=\"9013e0c7-8470-4b87-b08e-6d08aab82cab\")>,\n",
       " <selenium.webdriver.remote.webelement.WebElement (session=\"8f43c0820844f351462dab5a6474b1c5\", element=\"6c5cc8cd-5d94-4e28-a738-27e870532d63\")>,\n",
       " <selenium.webdriver.remote.webelement.WebElement (session=\"8f43c0820844f351462dab5a6474b1c5\", element=\"11fde2b0-b11c-4dc6-9475-b6b4b504a20c\")>,\n",
       " <selenium.webdriver.remote.webelement.WebElement (session=\"8f43c0820844f351462dab5a6474b1c5\", element=\"80086e0e-0797-49fb-9b81-355bdb9b964e\")>,\n",
       " <selenium.webdriver.remote.webelement.WebElement (session=\"8f43c0820844f351462dab5a6474b1c5\", element=\"0b95771d-849c-4ffd-a7b2-8a7fa3fb6cfb\")>,\n",
       " <selenium.webdriver.remote.webelement.WebElement (session=\"8f43c0820844f351462dab5a6474b1c5\", element=\"fd64656a-945a-4c72-a697-0b067fcc6be5\")>,\n",
       " <selenium.webdriver.remote.webelement.WebElement (session=\"8f43c0820844f351462dab5a6474b1c5\", element=\"3f334e31-cf80-44d8-b8c7-5cf78fd46c64\")>,\n",
       " <selenium.webdriver.remote.webelement.WebElement (session=\"8f43c0820844f351462dab5a6474b1c5\", element=\"c2271ef8-fe68-401f-aad2-7224d9d652c5\")>,\n",
       " <selenium.webdriver.remote.webelement.WebElement (session=\"8f43c0820844f351462dab5a6474b1c5\", element=\"695681bf-da96-4754-8e06-1982b6f9ed52\")>,\n",
       " <selenium.webdriver.remote.webelement.WebElement (session=\"8f43c0820844f351462dab5a6474b1c5\", element=\"d4862195-e752-4fd6-9bb4-fd8bf87f1e3f\")>,\n",
       " <selenium.webdriver.remote.webelement.WebElement (session=\"8f43c0820844f351462dab5a6474b1c5\", element=\"88f94446-a0b3-49e7-bfa1-8c3372bddfcc\")>,\n",
       " <selenium.webdriver.remote.webelement.WebElement (session=\"8f43c0820844f351462dab5a6474b1c5\", element=\"580d1169-871d-4fdf-93ab-48f93561a360\")>,\n",
       " <selenium.webdriver.remote.webelement.WebElement (session=\"8f43c0820844f351462dab5a6474b1c5\", element=\"60b57182-eaa4-470e-9706-cea8bc143e74\")>,\n",
       " <selenium.webdriver.remote.webelement.WebElement (session=\"8f43c0820844f351462dab5a6474b1c5\", element=\"79692e0a-924f-4f68-8d9f-6193c3536088\")>,\n",
       " <selenium.webdriver.remote.webelement.WebElement (session=\"8f43c0820844f351462dab5a6474b1c5\", element=\"44c2a4b1-27c6-4909-b1e4-48631d719e2c\")>,\n",
       " <selenium.webdriver.remote.webelement.WebElement (session=\"8f43c0820844f351462dab5a6474b1c5\", element=\"a3afe404-0ddd-484f-90d1-ecadb297fdf3\")>,\n",
       " <selenium.webdriver.remote.webelement.WebElement (session=\"8f43c0820844f351462dab5a6474b1c5\", element=\"51bfd78a-abaa-4df7-a70a-33d714e9404b\")>,\n",
       " <selenium.webdriver.remote.webelement.WebElement (session=\"8f43c0820844f351462dab5a6474b1c5\", element=\"0ec311ac-2a56-498f-9f0c-6bd7349fa505\")>,\n",
       " <selenium.webdriver.remote.webelement.WebElement (session=\"8f43c0820844f351462dab5a6474b1c5\", element=\"73b1581a-6fdf-4148-86bb-e0f823cca04c\")>,\n",
       " <selenium.webdriver.remote.webelement.WebElement (session=\"8f43c0820844f351462dab5a6474b1c5\", element=\"7c50d2b6-c00d-439e-ad63-191bc7ea5fed\")>,\n",
       " <selenium.webdriver.remote.webelement.WebElement (session=\"8f43c0820844f351462dab5a6474b1c5\", element=\"84a830fc-e09a-4b31-928c-d3ebbde6facb\")>,\n",
       " <selenium.webdriver.remote.webelement.WebElement (session=\"8f43c0820844f351462dab5a6474b1c5\", element=\"6ade61e7-9252-430a-a012-2a599f600049\")>,\n",
       " <selenium.webdriver.remote.webelement.WebElement (session=\"8f43c0820844f351462dab5a6474b1c5\", element=\"69fb74ed-5995-4665-a907-729566e772ba\")>,\n",
       " <selenium.webdriver.remote.webelement.WebElement (session=\"8f43c0820844f351462dab5a6474b1c5\", element=\"7dfd30f9-a611-4552-a83f-40f6455cb704\")>,\n",
       " <selenium.webdriver.remote.webelement.WebElement (session=\"8f43c0820844f351462dab5a6474b1c5\", element=\"fabcf712-246f-4cb9-8adb-7a14c5da21bf\")>,\n",
       " <selenium.webdriver.remote.webelement.WebElement (session=\"8f43c0820844f351462dab5a6474b1c5\", element=\"20bd420f-8142-4402-b9b1-d743746c01c6\")>,\n",
       " <selenium.webdriver.remote.webelement.WebElement (session=\"8f43c0820844f351462dab5a6474b1c5\", element=\"01be8a3d-d3aa-4657-ac1a-6e1d67133daf\")>,\n",
       " <selenium.webdriver.remote.webelement.WebElement (session=\"8f43c0820844f351462dab5a6474b1c5\", element=\"bb885082-5b3b-42ad-8179-c63a2e66a029\")>,\n",
       " <selenium.webdriver.remote.webelement.WebElement (session=\"8f43c0820844f351462dab5a6474b1c5\", element=\"33d08edb-eeb9-40d4-a576-5ebd068d15cf\")>,\n",
       " <selenium.webdriver.remote.webelement.WebElement (session=\"8f43c0820844f351462dab5a6474b1c5\", element=\"04ddbdc1-1fb8-4475-806f-306c5c6ae8f5\")>,\n",
       " <selenium.webdriver.remote.webelement.WebElement (session=\"8f43c0820844f351462dab5a6474b1c5\", element=\"b01f14d4-4ac3-4821-901e-d6674a073148\")>,\n",
       " <selenium.webdriver.remote.webelement.WebElement (session=\"8f43c0820844f351462dab5a6474b1c5\", element=\"895b3299-b548-4893-8392-1cee27d4c924\")>,\n",
       " <selenium.webdriver.remote.webelement.WebElement (session=\"8f43c0820844f351462dab5a6474b1c5\", element=\"fee7debd-dd35-4123-995e-7abb14e59c56\")>,\n",
       " <selenium.webdriver.remote.webelement.WebElement (session=\"8f43c0820844f351462dab5a6474b1c5\", element=\"3ee083ba-10f3-4937-bcaa-45c9fab95b6b\")>,\n",
       " <selenium.webdriver.remote.webelement.WebElement (session=\"8f43c0820844f351462dab5a6474b1c5\", element=\"1652b4c7-f661-4e88-b0d7-b79abb3caf35\")>,\n",
       " <selenium.webdriver.remote.webelement.WebElement (session=\"8f43c0820844f351462dab5a6474b1c5\", element=\"330693b8-6263-4df4-8635-0ad49803d8fb\")>,\n",
       " <selenium.webdriver.remote.webelement.WebElement (session=\"8f43c0820844f351462dab5a6474b1c5\", element=\"6d9a57e0-9caf-4c48-9612-a8d1057dc84d\")>,\n",
       " <selenium.webdriver.remote.webelement.WebElement (session=\"8f43c0820844f351462dab5a6474b1c5\", element=\"9772700e-fa70-4c5b-b25e-00e20e04b04f\")>,\n",
       " <selenium.webdriver.remote.webelement.WebElement (session=\"8f43c0820844f351462dab5a6474b1c5\", element=\"6a801e8e-0602-4999-9e4e-ba945b2e8f72\")>,\n",
       " <selenium.webdriver.remote.webelement.WebElement (session=\"8f43c0820844f351462dab5a6474b1c5\", element=\"3c5453eb-9231-4703-816d-ab526a9f8bb6\")>,\n",
       " <selenium.webdriver.remote.webelement.WebElement (session=\"8f43c0820844f351462dab5a6474b1c5\", element=\"ffc7dfba-2a3c-4c4f-abca-43ae444de46c\")>,\n",
       " <selenium.webdriver.remote.webelement.WebElement (session=\"8f43c0820844f351462dab5a6474b1c5\", element=\"727d3528-b373-4cf5-96dc-ea9a0e280447\")>,\n",
       " <selenium.webdriver.remote.webelement.WebElement (session=\"8f43c0820844f351462dab5a6474b1c5\", element=\"1e20ea23-978d-405b-9290-f77832f2244d\")>]"
      ]
     },
     "execution_count": 57,
     "metadata": {},
     "output_type": "execute_result"
    }
   ],
   "source": [
    "#so let's extract  List of Most Expensive cars in the world\n",
    "List_of_Cars=driver.find_elements(By.XPATH,'//h3[@class=\"subheader\"]')\n",
    "List_of_Cars"
   ]
  },
  {
   "cell_type": "code",
   "execution_count": 58,
   "id": "223f8e4e",
   "metadata": {},
   "outputs": [
    {
     "data": {
      "text/plain": [
       "['Drako GTE',\n",
       " 'De Tomaso P72',\n",
       " 'Ferrari LaFerrari',\n",
       " 'Pagani Huayra',\n",
       " 'McLaren Elva',\n",
       " 'Czinger 21C',\n",
       " 'Ferrari Monza',\n",
       " 'Gordon Murray T.33',\n",
       " 'Koenigsegg Gemera',\n",
       " 'Zenvo TSR-S',\n",
       " 'Hennessey Venom F5',\n",
       " 'Bentley Bacalar',\n",
       " 'Hispano Suiza Carmen Boulogne',\n",
       " 'Bentley Mulliner Batur',\n",
       " 'Deus Vayanne',\n",
       " 'SSC Tuatara',\n",
       " 'Lotus Evija',\n",
       " 'Aston Martin Vulcan',\n",
       " 'Delage D12',\n",
       " 'McLaren Speedtail',\n",
       " 'Rimac Nevera',\n",
       " 'Pagani Utopia',\n",
       " 'Pininfarina Battista',\n",
       " 'Ferrari FXX K Evo',\n",
       " 'Gordon Murray T.50',\n",
       " 'Lamborghini Countach',\n",
       " 'Mercedes-AMG Project One',\n",
       " 'Aston Martin Victor',\n",
       " 'Hennessey Venom F5 Roadster',\n",
       " 'Koenigsegg Jesko',\n",
       " 'Aston Martin Valkyrie',\n",
       " 'W Motors Lykan Hypersport',\n",
       " 'McLaren Solus',\n",
       " 'Pagani Huayra Roadster BC',\n",
       " 'Bugatti Chiron Pur Sport',\n",
       " 'Lamborghini Sian',\n",
       " 'Koenigsegg CC850',\n",
       " 'Bugatti Chiron Super Sport 300+',\n",
       " 'Lamborghini Veneno',\n",
       " 'Bugatti Bolide',\n",
       " 'Bugatti Mistral',\n",
       " 'Pagani Huayra Imola',\n",
       " 'Bugatti Divo',\n",
       " 'SP Automotive Chaos',\n",
       " 'Pagani Codalunga',\n",
       " 'Mercedes-Maybach Exelero',\n",
       " 'Bugatti Centodieci',\n",
       " 'Rolls-Royce Sweptail',\n",
       " 'Bugatti La Voiture Noire',\n",
       " 'Rolls-Royce Boat Tail*']"
      ]
     },
     "execution_count": 58,
     "metadata": {},
     "output_type": "execute_result"
    }
   ],
   "source": [
    "# extract top 50 most expensive cars in the world\n",
    "List_of_most_ex_cars=[]\n",
    "for i in List_of_Cars:\n",
    "    if i.text is None:\n",
    "        List_of_most_ex_cars.append('Not')\n",
    "    else:\n",
    "        List_of_most_ex_cars.append(i.text)\n",
    "List_of_most_ex_cars[:50]"
   ]
  },
  {
   "cell_type": "code",
   "execution_count": 1,
   "id": "f06b6124",
   "metadata": {},
   "outputs": [
    {
     "ename": "NameError",
     "evalue": "name 'driver' is not defined",
     "output_type": "error",
     "traceback": [
      "\u001b[1;31m---------------------------------------------------------------------------\u001b[0m",
      "\u001b[1;31mNameError\u001b[0m                                 Traceback (most recent call last)",
      "\u001b[1;32mC:\\Users\\Public\\Documents\\Wondershare\\CreatorTemp/ipykernel_10740/2278276029.py\u001b[0m in \u001b[0;36m<module>\u001b[1;34m\u001b[0m\n\u001b[0;32m      1\u001b[0m \u001b[1;31m#so let's extract  Price of Most Expensive cars in the world\u001b[0m\u001b[1;33m\u001b[0m\u001b[1;33m\u001b[0m\u001b[0m\n\u001b[1;32m----> 2\u001b[1;33m \u001b[0mPrice_of_Cars\u001b[0m\u001b[1;33m=\u001b[0m\u001b[0mdriver\u001b[0m\u001b[1;33m.\u001b[0m\u001b[0mfind_elements\u001b[0m\u001b[1;33m(\u001b[0m\u001b[0mBy\u001b[0m\u001b[1;33m.\u001b[0m\u001b[0mTAGNAME\u001b[0m\u001b[1;33m,\u001b[0m\u001b[1;34m'strong'\u001b[0m\u001b[1;33m)\u001b[0m\u001b[1;33m\u001b[0m\u001b[1;33m\u001b[0m\u001b[0m\n\u001b[0m\u001b[0;32m      3\u001b[0m \u001b[0mPrice_of_Cars\u001b[0m\u001b[1;33m\u001b[0m\u001b[1;33m\u001b[0m\u001b[0m\n",
      "\u001b[1;31mNameError\u001b[0m: name 'driver' is not defined"
     ]
    }
   ],
   "source": [
    "#so let's extract  Price of Most Expensive cars in the world\n",
    "Price_of_Cars=driver.find_elements(By.TAGNAME,'strong')\n",
    "Price_of_Cars"
   ]
  },
  {
   "cell_type": "code",
   "execution_count": null,
   "id": "afa5048b",
   "metadata": {},
   "outputs": [],
   "source": []
  },
  {
   "cell_type": "code",
   "execution_count": null,
   "id": "c697d427",
   "metadata": {},
   "outputs": [],
   "source": []
  },
  {
   "cell_type": "code",
   "execution_count": null,
   "id": "47002213",
   "metadata": {},
   "outputs": [],
   "source": []
  },
  {
   "cell_type": "code",
   "execution_count": null,
   "id": "0cdac374",
   "metadata": {},
   "outputs": [],
   "source": []
  },
  {
   "cell_type": "code",
   "execution_count": null,
   "id": "134106db",
   "metadata": {},
   "outputs": [],
   "source": []
  },
  {
   "cell_type": "code",
   "execution_count": null,
   "id": "479f3cf0",
   "metadata": {},
   "outputs": [],
   "source": []
  },
  {
   "cell_type": "code",
   "execution_count": null,
   "id": "3f126f02",
   "metadata": {},
   "outputs": [],
   "source": []
  },
  {
   "cell_type": "code",
   "execution_count": null,
   "id": "82e77feb",
   "metadata": {},
   "outputs": [],
   "source": []
  },
  {
   "cell_type": "code",
   "execution_count": null,
   "id": "d0e8b48d",
   "metadata": {},
   "outputs": [],
   "source": []
  },
  {
   "cell_type": "code",
   "execution_count": null,
   "id": "5bf31eca",
   "metadata": {},
   "outputs": [],
   "source": []
  },
  {
   "cell_type": "code",
   "execution_count": null,
   "id": "292519a6",
   "metadata": {},
   "outputs": [],
   "source": []
  },
  {
   "cell_type": "code",
   "execution_count": null,
   "id": "41381160",
   "metadata": {},
   "outputs": [],
   "source": []
  },
  {
   "cell_type": "code",
   "execution_count": null,
   "id": "d14c4597",
   "metadata": {},
   "outputs": [],
   "source": []
  },
  {
   "cell_type": "code",
   "execution_count": null,
   "id": "aa86db5a",
   "metadata": {},
   "outputs": [],
   "source": []
  },
  {
   "cell_type": "code",
   "execution_count": null,
   "id": "3adeb2a4",
   "metadata": {},
   "outputs": [],
   "source": []
  },
  {
   "cell_type": "code",
   "execution_count": null,
   "id": "0e318ecf",
   "metadata": {},
   "outputs": [],
   "source": []
  },
  {
   "cell_type": "code",
   "execution_count": null,
   "id": "5a4c8005",
   "metadata": {},
   "outputs": [],
   "source": []
  },
  {
   "cell_type": "code",
   "execution_count": null,
   "id": "16bc5a8b",
   "metadata": {},
   "outputs": [],
   "source": []
  },
  {
   "cell_type": "code",
   "execution_count": null,
   "id": "39532ef3",
   "metadata": {},
   "outputs": [],
   "source": []
  },
  {
   "cell_type": "code",
   "execution_count": null,
   "id": "0298628b",
   "metadata": {},
   "outputs": [],
   "source": []
  },
  {
   "cell_type": "code",
   "execution_count": null,
   "id": "4b6ba834",
   "metadata": {},
   "outputs": [],
   "source": []
  },
  {
   "cell_type": "code",
   "execution_count": null,
   "id": "c9a3c1d5",
   "metadata": {},
   "outputs": [],
   "source": []
  },
  {
   "cell_type": "code",
   "execution_count": null,
   "id": "d14bb246",
   "metadata": {},
   "outputs": [],
   "source": []
  },
  {
   "cell_type": "code",
   "execution_count": null,
   "id": "901a19c2",
   "metadata": {},
   "outputs": [],
   "source": []
  },
  {
   "cell_type": "code",
   "execution_count": null,
   "id": "ff1c40ba",
   "metadata": {},
   "outputs": [],
   "source": []
  },
  {
   "cell_type": "code",
   "execution_count": null,
   "id": "a2734587",
   "metadata": {},
   "outputs": [],
   "source": []
  },
  {
   "cell_type": "code",
   "execution_count": null,
   "id": "aa1694eb",
   "metadata": {},
   "outputs": [],
   "source": []
  },
  {
   "cell_type": "code",
   "execution_count": null,
   "id": "27517a9d",
   "metadata": {},
   "outputs": [],
   "source": [
    "# extract top 50 most expensive cars in the world\n",
    "Price_of_most_ex_cars=[]\n",
    "for i in Price_of_Cars:\n",
    "    if i.text is None:\n",
    "        Price_of_most_ex_cars.append('Not')\n",
    "    else:\n",
    "        Price_of_most_ex_cars.append(i.text)\n",
    "List_of_most_ex_cars[:50]"
   ]
  },
  {
   "cell_type": "code",
   "execution_count": null,
   "id": "cb4c5917",
   "metadata": {},
   "outputs": [],
   "source": []
  },
  {
   "cell_type": "code",
   "execution_count": null,
   "id": "a823c3e5",
   "metadata": {},
   "outputs": [],
   "source": []
  },
  {
   "cell_type": "code",
   "execution_count": null,
   "id": "789d8fde",
   "metadata": {},
   "outputs": [],
   "source": []
  },
  {
   "cell_type": "code",
   "execution_count": null,
   "id": "4bb715c5",
   "metadata": {},
   "outputs": [],
   "source": []
  },
  {
   "cell_type": "code",
   "execution_count": null,
   "id": "819fcea2",
   "metadata": {},
   "outputs": [],
   "source": []
  },
  {
   "cell_type": "code",
   "execution_count": null,
   "id": "4e874a1e",
   "metadata": {},
   "outputs": [],
   "source": []
  },
  {
   "cell_type": "code",
   "execution_count": null,
   "id": "4e79e722",
   "metadata": {},
   "outputs": [],
   "source": []
  },
  {
   "cell_type": "code",
   "execution_count": null,
   "id": "f8ec942c",
   "metadata": {},
   "outputs": [],
   "source": []
  },
  {
   "cell_type": "code",
   "execution_count": null,
   "id": "6d8e7eef",
   "metadata": {},
   "outputs": [],
   "source": []
  },
  {
   "cell_type": "code",
   "execution_count": null,
   "id": "adce04c5",
   "metadata": {},
   "outputs": [],
   "source": []
  },
  {
   "cell_type": "code",
   "execution_count": null,
   "id": "07d35248",
   "metadata": {},
   "outputs": [],
   "source": []
  },
  {
   "cell_type": "code",
   "execution_count": null,
   "id": "516145a7",
   "metadata": {},
   "outputs": [],
   "source": []
  },
  {
   "cell_type": "code",
   "execution_count": null,
   "id": "c6321ad8",
   "metadata": {},
   "outputs": [],
   "source": []
  },
  {
   "cell_type": "code",
   "execution_count": null,
   "id": "95b64047",
   "metadata": {},
   "outputs": [],
   "source": []
  },
  {
   "cell_type": "code",
   "execution_count": null,
   "id": "14207941",
   "metadata": {},
   "outputs": [],
   "source": []
  },
  {
   "cell_type": "code",
   "execution_count": null,
   "id": "dc6baafc",
   "metadata": {},
   "outputs": [],
   "source": []
  },
  {
   "cell_type": "code",
   "execution_count": null,
   "id": "8011422a",
   "metadata": {},
   "outputs": [],
   "source": []
  },
  {
   "cell_type": "code",
   "execution_count": null,
   "id": "2a5dae8a",
   "metadata": {},
   "outputs": [],
   "source": []
  },
  {
   "cell_type": "code",
   "execution_count": null,
   "id": "edd161b9",
   "metadata": {},
   "outputs": [],
   "source": []
  },
  {
   "cell_type": "code",
   "execution_count": null,
   "id": "172587a1",
   "metadata": {},
   "outputs": [],
   "source": []
  },
  {
   "cell_type": "code",
   "execution_count": null,
   "id": "3602e552",
   "metadata": {},
   "outputs": [],
   "source": []
  },
  {
   "cell_type": "code",
   "execution_count": null,
   "id": "05adc189",
   "metadata": {},
   "outputs": [],
   "source": []
  },
  {
   "cell_type": "code",
   "execution_count": null,
   "id": "b43cb4f5",
   "metadata": {},
   "outputs": [],
   "source": []
  },
  {
   "cell_type": "code",
   "execution_count": null,
   "id": "36653631",
   "metadata": {},
   "outputs": [],
   "source": []
  },
  {
   "cell_type": "code",
   "execution_count": null,
   "id": "cf000d82",
   "metadata": {},
   "outputs": [],
   "source": []
  },
  {
   "cell_type": "code",
   "execution_count": null,
   "id": "db6df0a3",
   "metadata": {},
   "outputs": [],
   "source": []
  },
  {
   "cell_type": "code",
   "execution_count": null,
   "id": "150ce90f",
   "metadata": {},
   "outputs": [],
   "source": []
  },
  {
   "cell_type": "code",
   "execution_count": null,
   "id": "17ed78d7",
   "metadata": {},
   "outputs": [],
   "source": []
  },
  {
   "cell_type": "code",
   "execution_count": null,
   "id": "64940f50",
   "metadata": {},
   "outputs": [],
   "source": []
  },
  {
   "cell_type": "code",
   "execution_count": null,
   "id": "d0db7d45",
   "metadata": {},
   "outputs": [],
   "source": []
  },
  {
   "cell_type": "code",
   "execution_count": null,
   "id": "63ceff1e",
   "metadata": {},
   "outputs": [],
   "source": []
  },
  {
   "cell_type": "code",
   "execution_count": null,
   "id": "88633eca",
   "metadata": {},
   "outputs": [],
   "source": []
  },
  {
   "cell_type": "code",
   "execution_count": null,
   "id": "a1e0fdff",
   "metadata": {},
   "outputs": [],
   "source": []
  },
  {
   "cell_type": "code",
   "execution_count": null,
   "id": "a07ddc48",
   "metadata": {},
   "outputs": [],
   "source": []
  },
  {
   "cell_type": "code",
   "execution_count": null,
   "id": "fba1ea0c",
   "metadata": {},
   "outputs": [],
   "source": []
  },
  {
   "cell_type": "code",
   "execution_count": null,
   "id": "fce72683",
   "metadata": {},
   "outputs": [],
   "source": []
  },
  {
   "cell_type": "code",
   "execution_count": null,
   "id": "75c9c249",
   "metadata": {},
   "outputs": [],
   "source": []
  },
  {
   "cell_type": "code",
   "execution_count": null,
   "id": "97d3c961",
   "metadata": {},
   "outputs": [],
   "source": []
  },
  {
   "cell_type": "code",
   "execution_count": null,
   "id": "2c57a09c",
   "metadata": {},
   "outputs": [],
   "source": []
  },
  {
   "cell_type": "code",
   "execution_count": null,
   "id": "30fb1953",
   "metadata": {},
   "outputs": [],
   "source": []
  },
  {
   "cell_type": "code",
   "execution_count": null,
   "id": "678dc9b2",
   "metadata": {},
   "outputs": [],
   "source": []
  },
  {
   "cell_type": "code",
   "execution_count": null,
   "id": "04100cc5",
   "metadata": {},
   "outputs": [],
   "source": []
  },
  {
   "cell_type": "code",
   "execution_count": null,
   "id": "a4881cda",
   "metadata": {},
   "outputs": [],
   "source": []
  },
  {
   "cell_type": "code",
   "execution_count": null,
   "id": "35ca9946",
   "metadata": {},
   "outputs": [],
   "source": []
  },
  {
   "cell_type": "code",
   "execution_count": null,
   "id": "342425f0",
   "metadata": {},
   "outputs": [],
   "source": []
  },
  {
   "cell_type": "code",
   "execution_count": null,
   "id": "10baee3b",
   "metadata": {},
   "outputs": [],
   "source": []
  },
  {
   "cell_type": "code",
   "execution_count": null,
   "id": "894eba4c",
   "metadata": {},
   "outputs": [],
   "source": []
  },
  {
   "cell_type": "code",
   "execution_count": null,
   "id": "b4812d9c",
   "metadata": {},
   "outputs": [],
   "source": []
  },
  {
   "cell_type": "code",
   "execution_count": null,
   "id": "7ee7bb5b",
   "metadata": {},
   "outputs": [],
   "source": []
  },
  {
   "cell_type": "code",
   "execution_count": null,
   "id": "12d1a708",
   "metadata": {},
   "outputs": [],
   "source": []
  },
  {
   "cell_type": "code",
   "execution_count": null,
   "id": "537f06ff",
   "metadata": {},
   "outputs": [],
   "source": []
  },
  {
   "cell_type": "code",
   "execution_count": null,
   "id": "ee96db5c",
   "metadata": {},
   "outputs": [],
   "source": []
  },
  {
   "cell_type": "code",
   "execution_count": null,
   "id": "6c5af06e",
   "metadata": {},
   "outputs": [],
   "source": []
  },
  {
   "cell_type": "code",
   "execution_count": null,
   "id": "ad06ecc3",
   "metadata": {},
   "outputs": [],
   "source": []
  },
  {
   "cell_type": "code",
   "execution_count": null,
   "id": "a2b3107c",
   "metadata": {},
   "outputs": [],
   "source": []
  },
  {
   "cell_type": "code",
   "execution_count": null,
   "id": "f4fb89a1",
   "metadata": {},
   "outputs": [],
   "source": []
  },
  {
   "cell_type": "code",
   "execution_count": null,
   "id": "b9ef9812",
   "metadata": {},
   "outputs": [],
   "source": []
  },
  {
   "cell_type": "code",
   "execution_count": null,
   "id": "9b0b94b3",
   "metadata": {},
   "outputs": [],
   "source": []
  },
  {
   "cell_type": "code",
   "execution_count": null,
   "id": "39e4da24",
   "metadata": {},
   "outputs": [],
   "source": []
  },
  {
   "cell_type": "code",
   "execution_count": null,
   "id": "6eed98e4",
   "metadata": {},
   "outputs": [],
   "source": []
  },
  {
   "cell_type": "code",
   "execution_count": null,
   "id": "300fed64",
   "metadata": {},
   "outputs": [],
   "source": []
  },
  {
   "cell_type": "code",
   "execution_count": null,
   "id": "eab36b50",
   "metadata": {},
   "outputs": [],
   "source": []
  },
  {
   "cell_type": "code",
   "execution_count": null,
   "id": "d57dddee",
   "metadata": {},
   "outputs": [],
   "source": []
  },
  {
   "cell_type": "code",
   "execution_count": null,
   "id": "34cde010",
   "metadata": {},
   "outputs": [],
   "source": []
  },
  {
   "cell_type": "code",
   "execution_count": null,
   "id": "2e4b3883",
   "metadata": {},
   "outputs": [],
   "source": []
  },
  {
   "cell_type": "code",
   "execution_count": null,
   "id": "f0f10301",
   "metadata": {},
   "outputs": [],
   "source": []
  },
  {
   "cell_type": "code",
   "execution_count": null,
   "id": "a7f9ef84",
   "metadata": {},
   "outputs": [],
   "source": []
  },
  {
   "cell_type": "code",
   "execution_count": null,
   "id": "fc103e19",
   "metadata": {},
   "outputs": [],
   "source": []
  },
  {
   "cell_type": "code",
   "execution_count": null,
   "id": "66914b1b",
   "metadata": {},
   "outputs": [],
   "source": []
  },
  {
   "cell_type": "code",
   "execution_count": null,
   "id": "d85b1960",
   "metadata": {},
   "outputs": [],
   "source": []
  },
  {
   "cell_type": "code",
   "execution_count": null,
   "id": "41faa1e0",
   "metadata": {},
   "outputs": [],
   "source": []
  },
  {
   "cell_type": "code",
   "execution_count": null,
   "id": "262d9a0c",
   "metadata": {},
   "outputs": [],
   "source": []
  },
  {
   "cell_type": "code",
   "execution_count": null,
   "id": "e3ddd7cd",
   "metadata": {},
   "outputs": [],
   "source": []
  },
  {
   "cell_type": "code",
   "execution_count": null,
   "id": "dd2f155e",
   "metadata": {},
   "outputs": [],
   "source": []
  },
  {
   "cell_type": "code",
   "execution_count": null,
   "id": "e2743fec",
   "metadata": {},
   "outputs": [],
   "source": []
  },
  {
   "cell_type": "code",
   "execution_count": null,
   "id": "4b963267",
   "metadata": {},
   "outputs": [],
   "source": []
  },
  {
   "cell_type": "code",
   "execution_count": null,
   "id": "5323ae66",
   "metadata": {},
   "outputs": [],
   "source": []
  },
  {
   "cell_type": "code",
   "execution_count": null,
   "id": "882aecdc",
   "metadata": {},
   "outputs": [],
   "source": []
  },
  {
   "cell_type": "code",
   "execution_count": null,
   "id": "5681fdd8",
   "metadata": {},
   "outputs": [],
   "source": []
  },
  {
   "cell_type": "code",
   "execution_count": null,
   "id": "4d2dec71",
   "metadata": {},
   "outputs": [],
   "source": []
  },
  {
   "cell_type": "code",
   "execution_count": 118,
   "id": "3e6da1fc",
   "metadata": {},
   "outputs": [],
   "source": []
  },
  {
   "cell_type": "code",
   "execution_count": 119,
   "id": "a494d7d7",
   "metadata": {},
   "outputs": [],
   "source": []
  },
  {
   "cell_type": "code",
   "execution_count": 120,
   "id": "effce16b",
   "metadata": {},
   "outputs": [],
   "source": []
  },
  {
   "cell_type": "code",
   "execution_count": null,
   "id": "ca990b5a",
   "metadata": {},
   "outputs": [],
   "source": []
  },
  {
   "cell_type": "code",
   "execution_count": null,
   "id": "3a86d871",
   "metadata": {},
   "outputs": [],
   "source": []
  },
  {
   "cell_type": "code",
   "execution_count": null,
   "id": "d4fbf928",
   "metadata": {},
   "outputs": [],
   "source": []
  },
  {
   "cell_type": "code",
   "execution_count": null,
   "id": "de94b16a",
   "metadata": {},
   "outputs": [],
   "source": []
  },
  {
   "cell_type": "code",
   "execution_count": null,
   "id": "569d99c1",
   "metadata": {},
   "outputs": [],
   "source": []
  },
  {
   "cell_type": "code",
   "execution_count": null,
   "id": "1e6b56f9",
   "metadata": {},
   "outputs": [],
   "source": []
  },
  {
   "cell_type": "code",
   "execution_count": null,
   "id": "4d4e3c53",
   "metadata": {},
   "outputs": [],
   "source": []
  },
  {
   "cell_type": "code",
   "execution_count": null,
   "id": "28044584",
   "metadata": {},
   "outputs": [],
   "source": []
  },
  {
   "cell_type": "code",
   "execution_count": null,
   "id": "021cfa11",
   "metadata": {},
   "outputs": [],
   "source": []
  },
  {
   "cell_type": "code",
   "execution_count": null,
   "id": "53c6f1ab",
   "metadata": {},
   "outputs": [],
   "source": []
  },
  {
   "cell_type": "code",
   "execution_count": null,
   "id": "900554aa",
   "metadata": {},
   "outputs": [],
   "source": []
  },
  {
   "cell_type": "code",
   "execution_count": null,
   "id": "a8ae43bf",
   "metadata": {},
   "outputs": [],
   "source": []
  },
  {
   "cell_type": "code",
   "execution_count": null,
   "id": "1df8f3e9",
   "metadata": {},
   "outputs": [],
   "source": []
  },
  {
   "cell_type": "code",
   "execution_count": null,
   "id": "2fb751c9",
   "metadata": {},
   "outputs": [],
   "source": []
  },
  {
   "cell_type": "code",
   "execution_count": null,
   "id": "47b443e9",
   "metadata": {},
   "outputs": [],
   "source": []
  },
  {
   "cell_type": "code",
   "execution_count": null,
   "id": "46795afe",
   "metadata": {},
   "outputs": [],
   "source": []
  },
  {
   "cell_type": "code",
   "execution_count": null,
   "id": "4b2040a5",
   "metadata": {},
   "outputs": [],
   "source": []
  },
  {
   "cell_type": "code",
   "execution_count": null,
   "id": "85df2eb2",
   "metadata": {},
   "outputs": [],
   "source": []
  },
  {
   "cell_type": "code",
   "execution_count": null,
   "id": "26c81601",
   "metadata": {},
   "outputs": [],
   "source": []
  },
  {
   "cell_type": "code",
   "execution_count": null,
   "id": "7f009f3d",
   "metadata": {},
   "outputs": [],
   "source": []
  },
  {
   "cell_type": "code",
   "execution_count": null,
   "id": "92efed3a",
   "metadata": {},
   "outputs": [],
   "source": []
  },
  {
   "cell_type": "code",
   "execution_count": null,
   "id": "e39edb87",
   "metadata": {},
   "outputs": [],
   "source": []
  },
  {
   "cell_type": "code",
   "execution_count": null,
   "id": "11a2f6ba",
   "metadata": {},
   "outputs": [],
   "source": []
  },
  {
   "cell_type": "code",
   "execution_count": null,
   "id": "49be1794",
   "metadata": {},
   "outputs": [],
   "source": []
  },
  {
   "cell_type": "code",
   "execution_count": null,
   "id": "88eeecc9",
   "metadata": {},
   "outputs": [],
   "source": []
  },
  {
   "cell_type": "code",
   "execution_count": null,
   "id": "0ad4b0ba",
   "metadata": {
    "collapsed": true
   },
   "outputs": [],
   "source": []
  },
  {
   "cell_type": "code",
   "execution_count": null,
   "id": "20744751",
   "metadata": {},
   "outputs": [],
   "source": []
  },
  {
   "cell_type": "code",
   "execution_count": null,
   "id": "08436ca2",
   "metadata": {},
   "outputs": [],
   "source": []
  },
  {
   "cell_type": "code",
   "execution_count": null,
   "id": "c0e3fefa",
   "metadata": {},
   "outputs": [],
   "source": []
  },
  {
   "cell_type": "code",
   "execution_count": null,
   "id": "6d920fb5",
   "metadata": {},
   "outputs": [],
   "source": []
  },
  {
   "cell_type": "code",
   "execution_count": null,
   "id": "9ab85361",
   "metadata": {},
   "outputs": [],
   "source": []
  },
  {
   "cell_type": "code",
   "execution_count": null,
   "id": "63b72213",
   "metadata": {},
   "outputs": [],
   "source": []
  },
  {
   "cell_type": "code",
   "execution_count": null,
   "id": "436d10f7",
   "metadata": {},
   "outputs": [],
   "source": [
    " "
   ]
  },
  {
   "cell_type": "code",
   "execution_count": null,
   "id": "f4b9abba",
   "metadata": {},
   "outputs": [],
   "source": []
  }
 ],
 "metadata": {
  "kernelspec": {
   "display_name": "Python 3 (ipykernel)",
   "language": "python",
   "name": "python3"
  },
  "language_info": {
   "codemirror_mode": {
    "name": "ipython",
    "version": 3
   },
   "file_extension": ".py",
   "mimetype": "text/x-python",
   "name": "python",
   "nbconvert_exporter": "python",
   "pygments_lexer": "ipython3",
   "version": "3.9.7"
  }
 },
 "nbformat": 4,
 "nbformat_minor": 5
}
